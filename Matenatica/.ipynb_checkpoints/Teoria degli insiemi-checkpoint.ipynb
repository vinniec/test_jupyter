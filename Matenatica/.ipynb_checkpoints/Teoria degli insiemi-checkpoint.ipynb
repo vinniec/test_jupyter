{
 "cells": [
  {
   "cell_type": "markdown",
   "metadata": {},
   "source": [
    "# Teoria degli insiemi"
   ]
  },
  {
   "cell_type": "code",
   "execution_count": 14,
   "metadata": {
    "editable": false,
    "hide_input": true,
    "run_control": {
     "frozen": false
    },
    "scrolled": true
   },
   "outputs": [
    {
     "data": {
      "text/html": [
       "\n",
       "<!-- allineamento a sinistra delle celle, con questo riesco a spostare \n",
       "le tabelle del markdown a sinistra -->\n",
       "<style>\n",
       "table {float:left}\n",
       "</style>"
      ],
      "text/plain": [
       "<IPython.core.display.HTML object>"
      ]
     },
     "metadata": {},
     "output_type": "display_data"
    }
   ],
   "source": [
    "%%html\n",
    "\n",
    "<!-- allineamento a sinistra delle celle, con questo riesco a spostare \n",
    "le tabelle del markdown a sinistra -->\n",
    "<style>\n",
    "table {float:left}\n",
    "</style>"
   ]
  },
  {
   "cell_type": "markdown",
   "metadata": {
    "heading_collapsed": true
   },
   "source": [
    "## Introduzione"
   ]
  },
  {
   "cell_type": "markdown",
   "metadata": {
    "hidden": true
   },
   "source": [
    "Nasce a metà del 1800 per poter fornire una base comune a tutte le discipline matematiche."
   ]
  },
  {
   "cell_type": "markdown",
   "metadata": {},
   "source": [
    "## Teoria degli insiemi"
   ]
  },
  {
   "cell_type": "markdown",
   "metadata": {
    "heading_collapsed": true
   },
   "source": [
    "### Concetto di insieme"
   ]
  },
  {
   "cell_type": "markdown",
   "metadata": {
    "hidden": true
   },
   "source": [
    "È un concetto __primitivo__ della matematica quindi non è definibile. Quando abbiamo degli oggetti che riusciamo a collegare abbiamo un insieme. Gli __elementi__ (oggetti) devono essere ben definiti ancora prima dell'insieme."
   ]
  },
  {
   "cell_type": "markdown",
   "metadata": {
    "heading_collapsed": true,
    "hidden": true
   },
   "source": [
    "#### Nomenclatura"
   ]
  },
  {
   "cell_type": "markdown",
   "metadata": {
    "hidden": true
   },
   "source": [
    "- $a, b, c$ : lettere minuscole per gli elementi\n",
    "- $A, B, C$ : lettere maiuscole per gli insiemi\n",
    "- $\\left\\{a, b\\right\\}$ : graffe per gli insiemi (insieme formato dagli elementi a & b\n",
    "- $a \\in A$ : elemento a appartiene all'inzieme A\n",
    "\n"
   ]
  },
  {
   "cell_type": "markdown",
   "metadata": {
    "collapsed": true
   },
   "source": [
    "### Rappresentazione di un insieme"
   ]
  },
  {
   "cell_type": "markdown",
   "metadata": {},
   "source": [
    "Ci sono diversi modi per rappresentare un insieme:"
   ]
  },
  {
   "cell_type": "markdown",
   "metadata": {
    "heading_collapsed": true
   },
   "source": [
    "#### Tabulare o per elencazione"
   ]
  },
  {
   "cell_type": "markdown",
   "metadata": {
    "hidden": true
   },
   "source": [
    "Si ottiene enumerando gli elementi dentro le parentesi graffe (solitamente si usa quando il numero di oggetti è limitato)\n",
    "\n",
    "$A = \\left\\{ 1,2,3,4 \\right\\}$\n",
    "\n",
    "l'insieme A è composto dai quattro numeri naturali 1,2,3,4"
   ]
  },
  {
   "cell_type": "markdown",
   "metadata": {
    "heading_collapsed": true
   },
   "source": [
    "#### Grafica"
   ]
  },
  {
   "cell_type": "markdown",
   "metadata": {
    "hidden": true
   },
   "source": [
    "Si ottiene rinchiudendo gli elementi di un insieme dentro una linea chiusa non intrecciata, è la rappresentazione più semplice. Di nuovo l'esempio di prima:"
   ]
  },
  {
   "cell_type": "raw",
   "metadata": {
    "hidden": true,
    "hide_egal": true,
    "is_egal": true
   },
   "source": [
    "<svg height=\"100\" width=\"100%\"><g id=\"drup_elem_5\" class=\"drupElem egal-select\"><circle cx=\"116.79998779296875\" cy=\"106.67498779296875\" r=\"57\" vector-effect=\"non-scaling-stroke\" fill=\"#ffffff\" stroke=\"#000000\" style=\"stroke-width: 1;\" class=\"core alignable sub\" transform=\"matrix(0.9474,0,0,0.8333,9.1382,-39.7208)\"></circle><circle cx=\"116.79998779296875\" cy=\"49.67498779296875\" r=\"5\" stroke=\"#000000\" fill=\"#ffffff\" id=\"drup_elem_5_endpoint_0\" style=\"stroke-width: 1; opacity: 0;\" class=\"endPoint up sub\" transform=\"matrix(1,0,0,1,3,-48)\"></circle><circle cx=\"116.79998779296875\" cy=\"163.67498779296875\" r=\"5\" stroke=\"#000000\" fill=\"#ffffff\" id=\"drup_elem_5_endpoint_1\" style=\"stroke-width: 1; opacity: 0;\" class=\"endPoint down sub\" transform=\"matrix(1,0,0,1,3,-67)\"></circle><circle cx=\"59.79998779296875\" cy=\"106.67498779296875\" r=\"5\" stroke=\"#000000\" fill=\"#ffffff\" id=\"drup_elem_5_endpoint_2\" style=\"stroke-width: 1; opacity: 0;\" class=\"endPoint left sub\" transform=\"matrix(1,0,0,1,5.9955,-57.5)\"></circle><circle cx=\"173.79998779296875\" cy=\"106.67498779296875\" r=\"5\" stroke=\"#000000\" fill=\"#ffffff\" id=\"drup_elem_5_endpoint_3\" style=\"stroke-width: 1; opacity: 0;\" class=\"endPoint right sub\" transform=\"matrix(1,0,0,1,0.0045,-57.5)\"></circle><text x=\"116.79998779296875\" y=\"106.67498779296875\" style=\"font-size: 20px; text-anchor: middle; alignment-baseline: central; opacity: 0;\" class=\"egal-label sub\" transform=\"matrix(1,0,0,1,3.001,-57.4982)\">|</text></g><desc>Created with Snap</desc><defs><filter id=\"Sj2prj86w3\" filterUnits=\"userSpaceOnUse\"><feGaussianBlur in=\"SourceAlpha\" stdDeviation=\"3\"></feGaussianBlur><feOffset dx=\"0\" dy=\"2\" result=\"offsetblur\"></feOffset><feFlood flood-color=\"#000000\"></feFlood><feComposite in2=\"offsetblur\" operator=\"in\"></feComposite><feComponentTransfer><feFuncA type=\"linear\" slope=\"1\"></feFuncA></feComponentTransfer><feMerge><feMergeNode></feMergeNode><feMergeNode in=\"SourceGraphic\"></feMergeNode></feMerge></filter><marker viewBox=\"0 0 10 10\" markerWidth=\"10\" markerHeight=\"10\" orient=\"auto\" refX=\"9\" refY=\"3\" id=\"arrowEndMarker\"><polygon points=\"0,0,0,6,9,3,0,0\" fill=\"#323232\" id=\"arrow\"></polygon></marker><marker viewBox=\"0 0 10 10\" markerWidth=\"10\" markerHeight=\"10\" orient=\"auto\" refX=\"0\" refY=\"3\" id=\"arrowStartMarker\"><polygon points=\"0,3,9,0,9,6,0,3\" fill=\"#323232\" id=\"startArrow\"></polygon></marker></defs><g id=\"drup_elem_1\" class=\"drupElem\"><text x=\"88.79998779296875\" y=\"91.67498779296875\" class=\"core alignable sub egal-label\" style=\"text-anchor: middle; alignment-baseline: central; font-size: 20px;\" data-src=\"1\" transform=\"matrix(1,0,0,1,3,-53)\">1</text></g><g id=\"drup_elem_2\" class=\"drupElem\"><text x=\"125.79998779296875\" y=\"69.67498779296875\" class=\"core alignable sub egal-label\" style=\"text-anchor: middle; alignment-baseline: central; font-size: 20px;\" data-src=\"2\" transform=\"matrix(1,0,0,1,0,-40)\">2</text></g><g id=\"drup_elem_3\" class=\"drupElem\"><text x=\"145.79998779296875\" y=\"107.67498779296875\" class=\"core alignable sub egal-label\" style=\"text-anchor: middle; alignment-baseline: central; font-size: 20px;\" data-src=\"3\" transform=\"matrix(1,0,0,1,-1,-47)\">3</text></g><g id=\"drup_elem_4\" class=\"drupElem\"><text x=\"109.79998779296875\" y=\"140.67498779296875\" class=\"core alignable sub egal-label\" style=\"text-anchor: middle; alignment-baseline: central; font-size: 20px;\" data-src=\"4\" transform=\"matrix(0.9167,0,0,1,8.6198,-64)\">4</text></g></svg>"
   ]
  },
  {
   "cell_type": "markdown",
   "metadata": {
    "heading_collapsed": true
   },
   "source": [
    "#### Caratteristica"
   ]
  },
  {
   "cell_type": "markdown",
   "metadata": {
    "hidden": true
   },
   "source": [
    "Si può anche enunciare la caratteristica (o proprietà) che tiene insieme gli elementi:\n",
    "\n",
    "$A = \\left\\{ x \\in \\mathbb{N} : x < 5 \\right\\}$\n",
    "\n",
    "A è l'insieme degli elementi appartenenti ad ℕ (insieme dei numeri naturali) tali che l' elemento sia minore di 5:\n",
    "\n",
    "|Lettura\n",
    "|:-|:-\n",
    "| A | A |\n",
    "| = | è |\n",
    "| { | l'insieme |\n",
    "| x | degli elementi |\n",
    "| ∈ | appartenenti\n",
    "| ℕ | all'insieme di numeri naturali\n",
    "| : | tali che\n",
    "| x | l'elemento\n",
    "| < | sia minore\n",
    "| 5 | di 5\n",
    "| } | chiuso insieme"
   ]
  },
  {
   "cell_type": "markdown",
   "metadata": {
    "heading_collapsed": true
   },
   "source": [
    "### Uguaglianza"
   ]
  },
  {
   "cell_type": "markdown",
   "metadata": {
    "hidden": true
   },
   "source": [
    "Due insiemi sono uguali se hanno gli stessi elementi (l'ordine non conta):\n",
    "\n",
    "$\n",
    "A = \\left\\{ 1,2,3,4 \\right\\}\\\\\n",
    "B = \\left\\{ 3,2,1,4 \\right\\}\\\\\n",
    "A = B\n",
    "$"
   ]
  },
  {
   "cell_type": "markdown",
   "metadata": {},
   "source": [
    "### Sottoinsiemi"
   ]
  },
  {
   "cell_type": "markdown",
   "metadata": {},
   "source": [
    "Un sottoinsieme di un altro insieme è un insieme che contiene solo elementi contenuti nell'insieme di partenza.\n",
    "\n",
    "__rappresentazione tabulare__<br>\n",
    "$\n",
    "A = \\left\\{ 1,2,3,4 \\right\\} \\\\\n",
    "B = \\left\\{ 1,2 \\right\\}\n",
    "$\n",
    "\n",
    "B è un sottoinsieme di A\n",
    "\n",
    "__rappresentazione per caratteristica__<br>\n",
    "È necessario aggiungere una proprietà all'insieme di partenza per generare un sottoinsieme:<br>\n",
    "$ \n",
    "A = \\left\\{ x \\in \\mathbb{N}: x < 5 \\right\\} = \\left\\{1,2,3,4\\right\\}\n",
    "\\quad$ numeri naturali minori di 5\n",
    "$ \n",
    "A = \\left\\{ x \\in \\mathbb{N}: x < 5 ;\\; 2 \\nmid x \\right\\}\n",
    "  = \\left\\{1,3\\right\\}\n",
    "\\quad$ numeri naturali minori di 5 e non divisibili per 2 (2 non divide x, quindi x non è multiplo di 2)\n",
    "\n",
    "__simboli di inclusione__<br>\n",
    "$A \\supset B \\quad$ A è un soprainsieme di B <br>\n",
    "$B \\subset A \\quad$ B è un sottoinsieme di A\n",
    "\n",
    "__insieme vuoto__<br>\n",
    "Se si aggiunge una proprietà impossibile si ottiene un insieme vuoto (∅) che è un sottoinsieme di ogni insieme:<br>\n",
    "$ \\left\\{ x \\in \\mathbb{N} : x < 5;\\; 7 \\mid x \\right\\} = \\emptyset \\quad$\n",
    "numeri naturali minori di 5 e divisibili per 7 (7 divide x, quindi x è multiplo di 7)\n",
    "\n",
    "__sottoinsieme improprio__<br>\n",
    "Se aggiungessimo invece una proprietà ovvia otterremo l'insieme di partenza, in questo caso il sottoinsieme sarà improprio, cioé contenuto o uguale al soprainsieme:<br>\n",
    "$ B = \\left\\{ x \\in \\mathbb{N} : x < 5; 1 \\mid x \\right\\} = A \\quad$\n",
    "numeri naturali minori di 5 e multipli di 1 (1 divide 5)\n",
    "\n",
    "Quindi si può dire che: <br>\n",
    "$ A \\supseteq B \\quad$ A contine o è uguale a B <br>\n",
    "$ B \\subseteq A \\quad$ B è contenuto o uguale ad A\n",
    "\n"
   ]
  },
  {
   "cell_type": "markdown",
   "metadata": {
    "heading_collapsed": true,
    "solution": "hidden"
   },
   "source": [
    "### Insieme delle parti"
   ]
  },
  {
   "cell_type": "markdown",
   "metadata": {
    "hidden": true
   },
   "source": [
    "$ \\mathcal{P}(A) \\quad$L'__insieme delle parti di A__ o __insieme potenza di A__ è l'insieme di tutti i sottoinsiemi di A.\n",
    "\n",
    "$ A = \\left\\{a,b\\right\\} \\\\\n",
    "\\mathcal{P}(A) = \\left\\{ \\emptyset, \\left\\{a\\right\\},\n",
    "\\left\\{b\\right\\}, \\left\\{a,b\\right\\}\\right\\}$\n",
    "\n",
    "L'insieme potenza di A è formato da 4 elementi cioé $2^2$, l'insieme vuoto, i due sottoinsiemi formati da un elemento e il sottoinsieme improprio formato da due.\n",
    "Il motivo per cui il numero di combinazioni semplici (non conta l'ordine degli elementi) è una potenza di due è perché ogni volta che viene aggiunto un elemento all'insieme il numero di combinazioni raddoppia, quindi:\n",
    "\n",
    "$ 2^0 = 1 \\quad$ L'insieme vuoto contiene sempre un insieme vuoto <br>\n",
    "$ 2^1 = 2 \\quad$ Con un elemento abbiamo l'elemento e l'insieme vuoto <br>\n",
    "$ 2^2 = 4 \\quad$ Con due elementi abbiamo quattro combinazioni <br>\n",
    "$ 2^3 = 6 \\quad$ Con tre elementi abbiamo sei combinazioni <br>\n",
    "\n"
   ]
  },
  {
   "cell_type": "code",
   "execution_count": 17,
   "metadata": {
    "hidden": true
   },
   "outputs": [
    {
     "name": "stdout",
     "output_type": "stream",
     "text": [
      "8 8 [[], ['a'], ['b'], ['b', 'a'], ['c'], ['c', 'a'], ['c', 'b'], ['c', 'b', 'a']]\n"
     ]
    }
   ],
   "source": [
    "def powerset(insieme):\n",
    "    \"\"\"restituisce l'insieme delle parti di un insieme\"\"\"\n",
    "    risultato = [[]]\n",
    "    for elemento in insieme:\n",
    "        risultato.extend([[elemento] + x for x in risultato])\n",
    "    return risultato\n",
    "insieme = ['a','b','c']\n",
    "insieme_parti = powerset(insieme)\n",
    "print(2**len(insieme), len(insieme_parti), insieme_parti)\n"
   ]
  },
  {
   "cell_type": "markdown",
   "metadata": {},
   "source": [
    "### Operazioni fra insiemi"
   ]
  },
  {
   "cell_type": "markdown",
   "metadata": {
    "heading_collapsed": true
   },
   "source": [
    "#### Unione"
   ]
  },
  {
   "cell_type": "markdown",
   "metadata": {
    "hidden": true
   },
   "source": [
    "$ A \\cup B $ <br>\n",
    "Vengono associati gli elementi degli insiemi A e B. Gli elementi del nuovo insieme sono quindi appartenenti all'insieme A __oppure__ all'insieme B.\n",
    "La __o__ di oppure sta per \"non disgiutivo\", cioè uno oppure l'altro (corrisponde all or logico $\\lor$).\n",
    "\n",
    "__rappresentazione tabulare__<br>\n",
    "$\n",
    "A = \\left\\{1,2,3,4\\right\\} \\\\\n",
    "B = \\left\\{3,4,5,6\\right\\} \\\\\n",
    "A \\cup B = \\left\\{1,2,3,4,5,6\\right\\}\n",
    "$\n",
    "\n",
    "__rappresentazione per caratteristica__<br>\n",
    "$\n",
    "A = \\left\\{x \\in \\mathbb{N}: x < 5\\right\\} \\\\\n",
    "B = \\left\\{x \\in \\mathbb{N}: 2 < x < 7\\right\\} \\\\\n",
    "A \\cup B = \\left\\{x \\in \\mathbb{N}: x < 5 \\; \\lor \\; 2 < x < 7\\right\\}\n",
    "$\n",
    "\n",
    "__rappresentazione grafica__<br>"
   ]
  },
  {
   "cell_type": "raw",
   "metadata": {
    "hidden": true,
    "hide_egal": true,
    "is_egal": true
   },
   "source": [
    "<svg height=\"100\" width=\"100%\"><g id=\"drup_elem_2\" class=\"drupElem\"><circle cx=\"96.79998779296875\" cy=\"90.72500610351562\" r=\"63\" vector-effect=\"non-scaling-stroke\" fill=\"#ffffff\" stroke=\"#000000\" style=\"stroke-width: 1;\" class=\"core alignable sub\" transform=\"matrix(1,0,0,0.7063,26,-18.8585)\"></circle><circle cx=\"96.79998779296875\" cy=\"27.725006103515625\" r=\"5\" stroke=\"#000000\" fill=\"#ffffff\" id=\"drup_elem_2_endpoint_0\" style=\"stroke-width: 1; opacity: 0;\" class=\"endPoint up sub\" transform=\"matrix(1,0,0,1,26,-27)\"></circle><circle cx=\"96.79998779296875\" cy=\"153.72500610351562\" r=\"5\" stroke=\"#000000\" fill=\"#ffffff\" id=\"drup_elem_2_endpoint_1\" style=\"stroke-width: 1; opacity: 0;\" class=\"endPoint down sub\" transform=\"matrix(1,0,0,1,26,-64)\"></circle><circle cx=\"33.79998779296875\" cy=\"90.72500610351562\" r=\"5\" stroke=\"#000000\" fill=\"#ffffff\" id=\"drup_elem_2_endpoint_2\" style=\"stroke-width: 1; opacity: 0;\" class=\"endPoint left sub\" transform=\"matrix(1,0,0,1,26,-45.5)\"></circle><circle cx=\"159.79998779296875\" cy=\"90.72500610351562\" r=\"5\" stroke=\"#000000\" fill=\"#ffffff\" id=\"drup_elem_2_endpoint_3\" style=\"stroke-width: 1; opacity: 0;\" class=\"endPoint right sub\" transform=\"matrix(1,0,0,1,26,-45.5)\"></circle><text x=\"96.79998779296875\" y=\"90.72500610351562\" style=\"font-size: 20px; text-anchor: middle; alignment-baseline: central; opacity: 0;\" class=\"egal-label sub\" transform=\"matrix(1,0,0,1,26,-45.5005)\">|</text></g><g id=\"drup_elem_1\" class=\"drupElem\"><circle cx=\"96.79998779296875\" cy=\"90.72500610351562\" r=\"63\" vector-effect=\"non-scaling-stroke\" fill=\"#ffffff\" stroke=\"#000000\" style=\"stroke-width: 1;\" class=\"core alignable sub\" transform=\"matrix(1,0,0,0.7063,-20,-17.8585)\"></circle><circle cx=\"96.79998779296875\" cy=\"27.725006103515625\" r=\"5\" stroke=\"#000000\" fill=\"#ffffff\" id=\"drup_elem_1_endpoint_0\" style=\"stroke-width: 1; opacity: 0;\" class=\"endPoint up sub\" transform=\"matrix(1,0,0,1,-20,-26)\"></circle><circle cx=\"96.79998779296875\" cy=\"153.72500610351562\" r=\"5\" stroke=\"#000000\" fill=\"#ffffff\" id=\"drup_elem_1_endpoint_1\" style=\"stroke-width: 1; opacity: 0;\" class=\"endPoint down sub\" transform=\"matrix(1,0,0,1,-20,-63)\"></circle><circle cx=\"33.79998779296875\" cy=\"90.72500610351562\" r=\"5\" stroke=\"#000000\" fill=\"#ffffff\" id=\"drup_elem_1_endpoint_2\" style=\"stroke-width: 1; opacity: 0;\" class=\"endPoint left sub\" transform=\"matrix(1,0,0,1,-20,-44.5)\"></circle><circle cx=\"159.79998779296875\" cy=\"90.72500610351562\" r=\"5\" stroke=\"#000000\" fill=\"#ffffff\" id=\"drup_elem_1_endpoint_3\" style=\"stroke-width: 1; opacity: 0;\" class=\"endPoint right sub\" transform=\"matrix(1,0,0,1,-20,-44.5)\"></circle><text x=\"96.79998779296875\" y=\"90.72500610351562\" style=\"font-size: 20px; text-anchor: middle; alignment-baseline: central; opacity: 0;\" class=\"egal-label sub\" transform=\"matrix(1,0,0,1,-20,-44.5005)\">|</text></g><g id=\"drup_elem_16\" class=\"drupElem egal-select\"><circle cx=\"96.79998779296875\" cy=\"90.72500610351562\" r=\"63\" vector-effect=\"non-scaling-stroke\" fill=\"#6666ff\" stroke=\"#000000\" style=\"stroke-width: 1;\" class=\"core alignable sub\" transform=\"matrix(1.4042,0,0,0.7063,181.3774,-16.8585)\"></circle><circle cx=\"96.79998779296875\" cy=\"27.725006103515625\" r=\"5\" stroke=\"#000000\" fill=\"#ffffff\" id=\"drup_elem_16_endpoint_0\" style=\"stroke-width: 1; opacity: 0;\" class=\"endPoint up sub\" transform=\"matrix(1,0,0,1,220.5,-25)\"></circle><circle cx=\"96.79998779296875\" cy=\"153.72500610351562\" r=\"5\" stroke=\"#000000\" fill=\"#ffffff\" id=\"drup_elem_16_endpoint_1\" style=\"stroke-width: 1; opacity: 0;\" class=\"endPoint down sub\" transform=\"matrix(1,0,0,1,220.5,-62)\"></circle><circle cx=\"33.79998779296875\" cy=\"90.72500610351562\" r=\"5\" stroke=\"#000000\" fill=\"#ffffff\" id=\"drup_elem_16_endpoint_2\" style=\"stroke-width: 1; opacity: 0;\" class=\"endPoint left sub\" transform=\"matrix(1,0,0,1,195.038,-43.5)\"></circle><circle cx=\"159.79998779296875\" cy=\"90.72500610351562\" r=\"5\" stroke=\"#000000\" fill=\"#ffffff\" id=\"drup_elem_16_endpoint_3\" style=\"stroke-width: 1; opacity: 0;\" class=\"endPoint right sub\" transform=\"matrix(1,0,0,1,245.962,-43.5)\"></circle><text x=\"96.79998779296875\" y=\"90.72500610351562\" style=\"font-size: 20px; text-anchor: middle; alignment-baseline: central; opacity: 0;\" class=\"egal-label sub\" transform=\"matrix(1,0,0,1,220.4924,-43.5005)\">|</text></g><desc>Created with Snap</desc><defs><filter id=\"Sj2rrbxr2r\" filterUnits=\"userSpaceOnUse\"><feGaussianBlur in=\"SourceAlpha\" stdDeviation=\"3\"></feGaussianBlur><feOffset dx=\"0\" dy=\"2\" result=\"offsetblur\"></feOffset><feFlood flood-color=\"#000000\"></feFlood><feComposite in2=\"offsetblur\" operator=\"in\"></feComposite><feComponentTransfer><feFuncA type=\"linear\" slope=\"1\"></feFuncA></feComponentTransfer><feMerge><feMergeNode></feMergeNode><feMergeNode in=\"SourceGraphic\"></feMergeNode></feMerge></filter><marker viewBox=\"0 0 10 10\" markerWidth=\"10\" markerHeight=\"10\" orient=\"auto\" refX=\"9\" refY=\"3\" id=\"arrowEndMarker\"><polygon points=\"0,0,0,6,9,3,0,0\" fill=\"#323232\" id=\"arrow\"></polygon></marker><marker viewBox=\"0 0 10 10\" markerWidth=\"10\" markerHeight=\"10\" orient=\"auto\" refX=\"0\" refY=\"3\" id=\"arrowStartMarker\"><polygon points=\"0,3,9,0,9,6,0,3\" fill=\"#323232\" id=\"startArrow\"></polygon></marker><filter id=\"Sj2ruct2or\" filterUnits=\"userSpaceOnUse\"><feGaussianBlur in=\"SourceAlpha\" stdDeviation=\"3\"></feGaussianBlur><feOffset dx=\"0\" dy=\"2\" result=\"offsetblur\"></feOffset><feFlood flood-color=\"#000000\"></feFlood><feComposite in2=\"offsetblur\" operator=\"in\"></feComposite><feComponentTransfer><feFuncA type=\"linear\" slope=\"1\"></feFuncA></feComponentTransfer><feMerge><feMergeNode></feMergeNode><feMergeNode in=\"SourceGraphic\"></feMergeNode></feMerge></filter><marker viewBox=\"0 0 10 10\" markerWidth=\"10\" markerHeight=\"10\" orient=\"auto\" refX=\"9\" refY=\"3\" id=\"arrowEndMarker\"><polygon points=\"0,0,0,6,9,3,0,0\" fill=\"#323232\" id=\"arrow\"></polygon></marker><marker viewBox=\"0 0 10 10\" markerWidth=\"10\" markerHeight=\"10\" orient=\"auto\" refX=\"0\" refY=\"3\" id=\"arrowStartMarker\"><polygon points=\"0,3,9,0,9,6,0,3\" fill=\"#323232\" id=\"startArrow\"></polygon></marker></defs><g id=\"drup_elem_3\" class=\"drupElem\"><text x=\"35.79998779296875\" y=\"24.725006103515625\" class=\"core alignable sub egal-label\" style=\"text-anchor: middle; alignment-baseline: central;\"></text></g><g id=\"drup_elem_4\" class=\"drupElem\"><text x=\"41.79998779296875\" y=\"86.72500610351562\" class=\"core alignable sub egal-label\" style=\"text-anchor: middle; alignment-baseline: central; font-size: 20px;\"></text></g><g id=\"drup_elem_5\" class=\"drupElem\"><text x=\"30.79998779296875\" y=\"50.725006103515625\" class=\"core alignable sub egal-label\" style=\"text-anchor: middle; alignment-baseline: central; font-size: 20px;\" data-src=\"1\" transform=\"matrix(1,0,0,1,10,-25)\">1</text></g><g id=\"drup_elem_6\" class=\"drupElem\"><text x=\"29.79998779296875\" y=\"68.72500610351562\" class=\"core alignable sub egal-label\" style=\"text-anchor: middle; alignment-baseline: central; font-size: 20px;\" data-src=\"2\" transform=\"matrix(1,0,0,1,16,-8)\">2</text></g><g id=\"drup_elem_8\" class=\"drupElem\"><text x=\"105.79998779296875\" y=\"93.72500610351562\" class=\"core alignable sub egal-label\" style=\"text-anchor: middle; alignment-baseline: central; font-size: 20px;\" data-src=\"4\" transform=\"matrix(1,0,0,1,4,-36)\">4</text></g><g id=\"drup_elem_28\" class=\"drupElem\"><text x=\"105.79998779296875\" y=\"93.72500610351562\" class=\"core alignable sub egal-label\" style=\"text-anchor: middle; alignment-baseline: central; font-size: 20px;\" data-src=\"4\" transform=\"matrix(1,0,0,1,211,-31)\">4</text></g><g id=\"drup_elem_9\" class=\"drupElem\"><text x=\"155.79998779296875\" y=\"43.725006103515625\" class=\"core alignable sub egal-label\" style=\"text-anchor: middle; alignment-baseline: central; font-size: 20px;\" data-src=\"5\" transform=\"matrix(1.0894,0,0,1,-14.4288,-22)\">5</text></g><g id=\"drup_elem_10\" class=\"drupElem\"><text x=\"148.79998779296875\" y=\"98.72500610351562\" class=\"core alignable sub egal-label\" style=\"text-anchor: middle; alignment-baseline: central; font-size: 20px;\" data-src=\"6\" transform=\"matrix(1,0,0,1,211,-36)\">6</text></g><g id=\"drup_elem_29\" class=\"drupElem\"><text x=\"148.79998779296875\" y=\"98.72500610351562\" class=\"core alignable sub egal-label\" style=\"text-anchor: middle; alignment-baseline: central; font-size: 20px;\" data-src=\"6\" transform=\"matrix(1,0,0,1,8,-39)\">6</text></g><g id=\"drup_elem_11\" class=\"drupElem\"><text x=\"32.79998779296875\" y=\"70.72500610351562\" class=\"core alignable sub egal-label\" style=\"text-anchor: middle; alignment-baseline: central; font-size: 20px;\"></text></g><g id=\"drup_elem_12\" class=\"drupElem\"><text x=\"100.79998779296875\" y=\"47.725006103515625\" class=\"core alignable sub egal-label\" style=\"text-anchor: middle; alignment-baseline: central; font-size: 20px;\" data-src=\"3\" transform=\"matrix(1,0,0,1,8,-28)\">3</text></g><g id=\"drup_elem_13\" class=\"drupElem\"><line x1=\"71.79998779296875\" x2=\"100.79998779296875\" y1=\"43.725006103515625\" y2=\"3.725006103515625\" fill=\"#ffffff\" stroke=\"#000000\" vector-effect=\"non-scaling-stroke\" style=\"stroke-width: 1;\" class=\"core alignable sub egal-line\" transform=\"matrix(0.6552,0,0,0.45,34.7586,2.0488)\"></line><text x=\"86.29998779296875\" y=\"23.725006103515625\" style=\"font-size: 20px; text-anchor: middle; alignment-baseline: central; opacity: 0;\" class=\"egal-label sub\" transform=\"matrix(1,0,0,1,5.0065,-11.0009)\">|</text></g><g id=\"drup_elem_14\" class=\"drupElem\"><line x1=\"72.79998779296875\" x2=\"100.79998779296875\" y1=\"42.725006103515625\" y2=\"85.72500610351562\" fill=\"#ffffff\" stroke=\"#000000\" vector-effect=\"non-scaling-stroke\" style=\"stroke-width: 1;\" class=\"core alignable sub egal-line\" transform=\"matrix(0.6786,0,0,0.3953,32.4,51.8337)\"></line><text x=\"86.79998779296875\" y=\"64.22500610351562\" style=\"font-size: 20px; text-anchor: middle; alignment-baseline: central; opacity: 0;\" class=\"egal-label sub\" transform=\"matrix(1,0,0,1,4.506,12.9991)\">|</text></g><g id=\"drup_elem_17\" class=\"drupElem\"><text x=\"269.79998779296875\" y=\"37.725006103515625\" class=\"core alignable sub egal-label\" style=\"text-anchor: middle; alignment-baseline: central; font-size: 20px;\" data-src=\"1\" transform=\"matrix(1,0,0,1,0,-14)\">1</text></g><g id=\"drup_elem_18\" class=\"drupElem\"><text x=\"241.79998779296875\" y=\"97.72500610351562\" class=\"core alignable sub egal-label\" style=\"text-anchor: middle; alignment-baseline: central;\"></text></g><g id=\"drup_elem_19\" class=\"drupElem\"><text x=\"256.79998779296875\" y=\"82.72500610351562\" class=\"core alignable sub egal-label\" style=\"text-anchor: middle; alignment-baseline: central; font-size: 20px;\" data-src=\"2\" transform=\"matrix(1,0,0,1,14,-26)\">2</text></g><g id=\"drup_elem_20\" class=\"drupElem\"><text x=\"259.79998779296875\" y=\"159.72500610351562\" class=\"core alignable sub egal-label\" style=\"text-anchor: middle; alignment-baseline: central;\"></text></g><g id=\"drup_elem_21\" class=\"drupElem\"><text x=\"304.79998779296875\" y=\"10.725006103515625\" class=\"core alignable sub egal-label\" style=\"text-anchor: middle; alignment-baseline: central;\"></text></g><g id=\"drup_elem_22\" class=\"drupElem\"><text x=\"308.79998779296875\" y=\"57.725006103515625\" class=\"core alignable sub egal-label\" style=\"text-anchor: middle; alignment-baseline: central;\"></text></g><g id=\"drup_elem_23\" class=\"drupElem\"><text x=\"356.79998779296875\" y=\"20.725006103515625\" class=\"core alignable sub egal-label\" style=\"text-anchor: middle; alignment-baseline: central;\"></text></g><g id=\"drup_elem_24\" class=\"drupElem\"><text x=\"308.79998779296875\" y=\"30.725006103515625\" class=\"core alignable sub egal-label\" style=\"text-anchor: middle; alignment-baseline: central; font-size: 20px;\" data-src=\"3\" transform=\"matrix(1,0,0,1,13,-7)\">3</text></g><g id=\"drup_elem_26\" class=\"drupElem\"><text x=\"354.79998779296875\" y=\"40.725006103515625\" class=\"core alignable sub egal-label\" style=\"text-anchor: middle; alignment-baseline: central; font-size: 20px;\" data-src=\"5\" transform=\"matrix(1,0,0,1,9,-16)\">5</text></g><g id=\"drup_elem_30\" class=\"drupElem\"><line x1=\"82.79998779296875\" x2=\"76.79998779296875\" y1=\"22.125\" y2=\"39.125\" fill=\"#ffffff\" stroke=\"#000000\" vector-effect=\"non-scaling-stroke\" style=\"stroke-width: 1;\" class=\"core alignable sub egal-line\"></line><text x=\"79.79998779296875\" y=\"30.625\" style=\"font-size: 20px; text-anchor: middle; alignment-baseline: central; opacity: 0;\" class=\"egal-label sub\">|</text></g><g id=\"drup_elem_31\" class=\"drupElem\"><line x1=\"82.79998779296875\" x2=\"75.79998779296875\" y1=\"69.125\" y2=\"56.125\" fill=\"#ffffff\" stroke=\"#000000\" vector-effect=\"non-scaling-stroke\" style=\"stroke-width: 1;\" class=\"core alignable sub egal-line\"></line><text x=\"79.29998779296875\" y=\"62.625\" style=\"font-size: 20px; text-anchor: middle; alignment-baseline: central; opacity: 0;\" class=\"egal-label sub\">|</text></g><g id=\"drup_elem_32\" class=\"drupElem\"><line x1=\"75.79998779296875\" x2=\"76.79998779296875\" y1=\"56.125\" y2=\"39.125\" fill=\"#ffffff\" stroke=\"#000000\" vector-effect=\"non-scaling-stroke\" style=\"stroke-width: 1;\" class=\"core alignable sub egal-line\"></line><text x=\"76.29998779296875\" y=\"47.625\" style=\"font-size: 20px; text-anchor: middle; alignment-baseline: central; opacity: 0;\" class=\"egal-label sub\">|</text></g></svg>"
   ]
  },
  {
   "cell_type": "code",
   "execution_count": 19,
   "metadata": {
    "hidden": true
   },
   "outputs": [
    {
     "name": "stdout",
     "output_type": "stream",
     "text": [
      "{1, 2, 3, 4, 5, 6, 7}\n"
     ]
    }
   ],
   "source": [
    "A = {1,2,3,4}\n",
    "B = {3,4,5,6}\n",
    "C = A.union(B)\n",
    "print(C)"
   ]
  },
  {
   "cell_type": "markdown",
   "metadata": {},
   "source": [
    "#### Intersezione"
   ]
  },
  {
   "cell_type": "markdown",
   "metadata": {},
   "source": [
    "$ A \\cap B $ <br>\n",
    "Vengono associati gli elementi in comune degli insiemi A e B. Gli elementi del nuovo insieme sono quindi appartenenti all'insieme A __e contemporaneamente__ all'insieme B (corrisponde all' and logico $\\land$).\n",
    "\n",
    "\n",
    "__rappresentazione tabulare__<br>\n",
    "$\n",
    "A = \\left\\{1,2,3,4\\right\\} \\\\\n",
    "B = \\left\\{3,4,5,6\\right\\} \\\\\n",
    "A \\cap B = \\left\\{3,4\\right\\}\n",
    "$\n",
    "\n",
    "__rappresentazione per caratteristica__<br>\n",
    "$\n",
    "A = \\left\\{x \\in \\mathbb{N}: x < 5\\right\\} \\\\\n",
    "B = \\left\\{x \\in \\mathbb{N}: 2 < x < 7\\right\\} \\\\\n",
    "A \\cap B = \\left\\{x \\in \\mathbb{N}: x < 5 \\; \\land \\; 2 < x < 7\\right\\}\n",
    "= \\left\\{ x \\in \\mathbb{N}: 2 < x < 5 \\right\\}\n",
    "$\n",
    "\n",
    "__rappresentazione grafica__<br>\n"
   ]
  },
  {
   "cell_type": "raw",
   "metadata": {
    "hide_egal": true,
    "is_egal": true
   },
   "source": [
    "<svg height=\"100\" width=\"100%\"><g id=\"drup_elem_16\" class=\"drupElem\"><circle cx=\"96.79998779296875\" cy=\"90.72500610351562\" r=\"63\" vector-effect=\"non-scaling-stroke\" fill=\"#ffffff\" stroke=\"#000000\" style=\"stroke-width: 1;\" class=\"core alignable sub\" transform=\"matrix(1.4042,0,0,0.7063,181.3774,-16.8585)\"></circle><circle cx=\"96.79998779296875\" cy=\"27.725006103515625\" r=\"5\" stroke=\"#000000\" fill=\"#ffffff\" id=\"drup_elem_16_endpoint_0\" style=\"stroke-width: 1; opacity: 0;\" class=\"endPoint up sub\" transform=\"matrix(1,0,0,1,220.5,-25)\"></circle><circle cx=\"96.79998779296875\" cy=\"153.72500610351562\" r=\"5\" stroke=\"#000000\" fill=\"#ffffff\" id=\"drup_elem_16_endpoint_1\" style=\"stroke-width: 1; opacity: 0;\" class=\"endPoint down sub\" transform=\"matrix(1,0,0,1,220.5,-62)\"></circle><circle cx=\"33.79998779296875\" cy=\"90.72500610351562\" r=\"5\" stroke=\"#000000\" fill=\"#ffffff\" id=\"drup_elem_16_endpoint_2\" style=\"stroke-width: 1; opacity: 0;\" class=\"endPoint left sub\" transform=\"matrix(1,0,0,1,195.038,-43.5)\"></circle><circle cx=\"159.79998779296875\" cy=\"90.72500610351562\" r=\"5\" stroke=\"#000000\" fill=\"#ffffff\" id=\"drup_elem_16_endpoint_3\" style=\"stroke-width: 1; opacity: 0;\" class=\"endPoint right sub\" transform=\"matrix(1,0,0,1,245.962,-43.5)\"></circle><text x=\"96.79998779296875\" y=\"90.72500610351562\" style=\"font-size: 20px; text-anchor: middle; alignment-baseline: central; opacity: 0;\" class=\"egal-label sub\" transform=\"matrix(1,0,0,1,220.4924,-43.5005)\">|</text></g><g id=\"drup_elem_29\" class=\"drupElem egal-select\"><circle cx=\"325.79998779296875\" cy=\"59.725006103515625\" r=\"47\" vector-effect=\"non-scaling-stroke\" fill=\"#6666ff\" stroke=\"#000000\" style=\"stroke-width: 1;\" class=\"core alignable sub\" transform=\"matrix(0.6282,0,0,0.9468,114.6302,-9.3232)\"></circle><circle cx=\"325.79998779296875\" cy=\"12.725006103515625\" r=\"5\" stroke=\"#000000\" fill=\"#ffffff\" id=\"drup_elem_29_endpoint_0\" style=\"stroke-width: 1; opacity: 0;\" class=\"endPoint up sub\" transform=\"matrix(1,0,0,1,-6.4997,-10)\"></circle><circle cx=\"325.79998779296875\" cy=\"106.72500610351562\" r=\"5\" stroke=\"#000000\" fill=\"#ffffff\" id=\"drup_elem_29_endpoint_1\" style=\"stroke-width: 1; opacity: 0;\" class=\"endPoint down sub\" transform=\"matrix(1,0,0,1,-6.4997,-15.0001)\"></circle><circle cx=\"278.79998779296875\" cy=\"59.725006103515625\" r=\"5\" stroke=\"#000000\" fill=\"#ffffff\" id=\"drup_elem_29_endpoint_2\" style=\"stroke-width: 1; opacity: 0;\" class=\"endPoint left sub\" transform=\"matrix(1,0,0,1,10.9745,-12.5)\"></circle><circle cx=\"372.79998779296875\" cy=\"59.725006103515625\" r=\"5\" stroke=\"#000000\" fill=\"#ffffff\" id=\"drup_elem_29_endpoint_3\" style=\"stroke-width: 1; opacity: 0;\" class=\"endPoint right sub\" transform=\"matrix(1,0,0,1,-23.9739,-12.5)\"></circle><text x=\"325.79998779296875\" y=\"59.72500228881836\" style=\"font-size: 20px; text-anchor: middle; alignment-baseline: central; opacity: 0;\" class=\"egal-label sub\" transform=\"matrix(1,0,0,1,-6.4927,-12.5001)\">|</text></g><g id=\"drup_elem_2\" class=\"drupElem\"><circle cx=\"96.79998779296875\" cy=\"90.72500610351562\" r=\"63\" vector-effect=\"non-scaling-stroke\" fill=\"#ffffff\" stroke=\"#000000\" style=\"stroke-width: 1;\" class=\"core alignable sub\" transform=\"matrix(1,0,0,0.7063,26,-18.8585)\"></circle><circle cx=\"96.79998779296875\" cy=\"27.725006103515625\" r=\"5\" stroke=\"#000000\" fill=\"#ffffff\" id=\"drup_elem_2_endpoint_0\" style=\"stroke-width: 1; opacity: 0;\" class=\"endPoint up sub\" transform=\"matrix(1,0,0,1,26,-27)\"></circle><circle cx=\"96.79998779296875\" cy=\"153.72500610351562\" r=\"5\" stroke=\"#000000\" fill=\"#ffffff\" id=\"drup_elem_2_endpoint_1\" style=\"stroke-width: 1; opacity: 0;\" class=\"endPoint down sub\" transform=\"matrix(1,0,0,1,26,-64)\"></circle><circle cx=\"33.79998779296875\" cy=\"90.72500610351562\" r=\"5\" stroke=\"#000000\" fill=\"#ffffff\" id=\"drup_elem_2_endpoint_2\" style=\"stroke-width: 1; opacity: 0;\" class=\"endPoint left sub\" transform=\"matrix(1,0,0,1,26,-45.5)\"></circle><circle cx=\"159.79998779296875\" cy=\"90.72500610351562\" r=\"5\" stroke=\"#000000\" fill=\"#ffffff\" id=\"drup_elem_2_endpoint_3\" style=\"stroke-width: 1; opacity: 0;\" class=\"endPoint right sub\" transform=\"matrix(1,0,0,1,26,-45.5)\"></circle><text x=\"96.79998779296875\" y=\"90.72500610351562\" style=\"font-size: 20px; text-anchor: middle; alignment-baseline: central; opacity: 0;\" class=\"egal-label sub\" transform=\"matrix(1,0,0,1,26,-45.5005)\">|</text></g><g id=\"drup_elem_1\" class=\"drupElem\"><circle cx=\"96.79998779296875\" cy=\"90.72500610351562\" r=\"63\" vector-effect=\"non-scaling-stroke\" fill=\"#ffffff\" stroke=\"#000000\" style=\"stroke-width: 1;\" class=\"core alignable sub\" transform=\"matrix(1,0,0,0.7063,-20,-17.8585)\"></circle><circle cx=\"96.79998779296875\" cy=\"27.725006103515625\" r=\"5\" stroke=\"#000000\" fill=\"#ffffff\" id=\"drup_elem_1_endpoint_0\" style=\"stroke-width: 1; opacity: 0;\" class=\"endPoint up sub\" transform=\"matrix(1,0,0,1,-20,-26)\"></circle><circle cx=\"96.79998779296875\" cy=\"153.72500610351562\" r=\"5\" stroke=\"#000000\" fill=\"#ffffff\" id=\"drup_elem_1_endpoint_1\" style=\"stroke-width: 1; opacity: 0;\" class=\"endPoint down sub\" transform=\"matrix(1,0,0,1,-20,-63)\"></circle><circle cx=\"33.79998779296875\" cy=\"90.72500610351562\" r=\"5\" stroke=\"#000000\" fill=\"#ffffff\" id=\"drup_elem_1_endpoint_2\" style=\"stroke-width: 1; opacity: 0;\" class=\"endPoint left sub\" transform=\"matrix(1,0,0,1,-20,-44.5)\"></circle><circle cx=\"159.79998779296875\" cy=\"90.72500610351562\" r=\"5\" stroke=\"#000000\" fill=\"#ffffff\" id=\"drup_elem_1_endpoint_3\" style=\"stroke-width: 1; opacity: 0;\" class=\"endPoint right sub\" transform=\"matrix(1,0,0,1,-20,-44.5)\"></circle><text x=\"96.79998779296875\" y=\"90.72500610351562\" style=\"font-size: 20px; text-anchor: middle; alignment-baseline: central; opacity: 0;\" class=\"egal-label sub\" transform=\"matrix(1,0,0,1,-20,-44.5005)\">|</text></g><desc>Created with Snap</desc><defs><filter id=\"Sj2rrbxr2r\" filterUnits=\"userSpaceOnUse\"><feGaussianBlur in=\"SourceAlpha\" stdDeviation=\"3\"></feGaussianBlur><feOffset dx=\"0\" dy=\"2\" result=\"offsetblur\"></feOffset><feFlood flood-color=\"#000000\"></feFlood><feComposite in2=\"offsetblur\" operator=\"in\"></feComposite><feComponentTransfer><feFuncA type=\"linear\" slope=\"1\"></feFuncA></feComponentTransfer><feMerge><feMergeNode></feMergeNode><feMergeNode in=\"SourceGraphic\"></feMergeNode></feMerge></filter><marker viewBox=\"0 0 10 10\" markerWidth=\"10\" markerHeight=\"10\" orient=\"auto\" refX=\"9\" refY=\"3\" id=\"arrowEndMarker\"><polygon points=\"0,0,0,6,9,3,0,0\" fill=\"#323232\" id=\"arrow\"></polygon></marker><marker viewBox=\"0 0 10 10\" markerWidth=\"10\" markerHeight=\"10\" orient=\"auto\" refX=\"0\" refY=\"3\" id=\"arrowStartMarker\"><polygon points=\"0,3,9,0,9,6,0,3\" fill=\"#323232\" id=\"startArrow\"></polygon></marker><filter id=\"Sj2ruct2or\" filterUnits=\"userSpaceOnUse\"><feGaussianBlur in=\"SourceAlpha\" stdDeviation=\"3\"></feGaussianBlur><feOffset dx=\"0\" dy=\"2\" result=\"offsetblur\"></feOffset><feFlood flood-color=\"#000000\"></feFlood><feComposite in2=\"offsetblur\" operator=\"in\"></feComposite><feComponentTransfer><feFuncA type=\"linear\" slope=\"1\"></feFuncA></feComponentTransfer><feMerge><feMergeNode></feMergeNode><feMergeNode in=\"SourceGraphic\"></feMergeNode></feMerge></filter><marker viewBox=\"0 0 10 10\" markerWidth=\"10\" markerHeight=\"10\" orient=\"auto\" refX=\"9\" refY=\"3\" id=\"arrowEndMarker\"><polygon points=\"0,0,0,6,9,3,0,0\" fill=\"#323232\" id=\"arrow\"></polygon></marker><marker viewBox=\"0 0 10 10\" markerWidth=\"10\" markerHeight=\"10\" orient=\"auto\" refX=\"0\" refY=\"3\" id=\"arrowStartMarker\"><polygon points=\"0,3,9,0,9,6,0,3\" fill=\"#323232\" id=\"startArrow\"></polygon></marker><filter id=\"Sj2rvqfx12x\" filterUnits=\"userSpaceOnUse\"><feGaussianBlur in=\"SourceAlpha\" stdDeviation=\"3\"></feGaussianBlur><feOffset dx=\"0\" dy=\"2\" result=\"offsetblur\"></feOffset><feFlood flood-color=\"#000000\"></feFlood><feComposite in2=\"offsetblur\" operator=\"in\"></feComposite><feComponentTransfer><feFuncA type=\"linear\" slope=\"1\"></feFuncA></feComponentTransfer><feMerge><feMergeNode></feMergeNode><feMergeNode in=\"SourceGraphic\"></feMergeNode></feMerge></filter><marker viewBox=\"0 0 10 10\" markerWidth=\"10\" markerHeight=\"10\" orient=\"auto\" refX=\"9\" refY=\"3\" id=\"arrowEndMarker\"><polygon points=\"0,0,0,6,9,3,0,0\" fill=\"#323232\" id=\"arrow\"></polygon></marker><marker viewBox=\"0 0 10 10\" markerWidth=\"10\" markerHeight=\"10\" orient=\"auto\" refX=\"0\" refY=\"3\" id=\"arrowStartMarker\"><polygon points=\"0,3,9,0,9,6,0,3\" fill=\"#323232\" id=\"startArrow\"></polygon></marker></defs><g id=\"drup_elem_3\" class=\"drupElem\"><text x=\"35.79998779296875\" y=\"24.725006103515625\" class=\"core alignable sub egal-label\" style=\"text-anchor: middle; alignment-baseline: central;\"></text></g><g id=\"drup_elem_4\" class=\"drupElem\"><text x=\"41.79998779296875\" y=\"86.72500610351562\" class=\"core alignable sub egal-label\" style=\"text-anchor: middle; alignment-baseline: central; font-size: 20px;\"></text></g><g id=\"drup_elem_5\" class=\"drupElem\"><text x=\"30.79998779296875\" y=\"50.725006103515625\" class=\"core alignable sub egal-label\" style=\"text-anchor: middle; alignment-baseline: central; font-size: 20px;\" data-src=\"1\" transform=\"matrix(1,0,0,1,10,-25)\">1</text></g><g id=\"drup_elem_6\" class=\"drupElem\"><text x=\"29.79998779296875\" y=\"68.72500610351562\" class=\"core alignable sub egal-label\" style=\"text-anchor: middle; alignment-baseline: central; font-size: 20px;\" data-src=\"2\" transform=\"matrix(1,0,0,1,16,-8)\">2</text></g><g id=\"drup_elem_8\" class=\"drupElem\"><text x=\"105.79998779296875\" y=\"93.72500610351562\" class=\"core alignable sub egal-label\" style=\"text-anchor: middle; alignment-baseline: central; font-size: 20px;\" data-src=\"4\" transform=\"matrix(1,0,0,1,4,-36)\">4</text></g><g id=\"drup_elem_28\" class=\"drupElem\"><text x=\"105.79998779296875\" y=\"93.72500610351562\" class=\"core alignable sub egal-label\" style=\"text-anchor: middle; alignment-baseline: central; font-size: 20px;\" data-src=\"4\" transform=\"matrix(1,0,0,1,211,-31)\">4</text></g><g id=\"drup_elem_9\" class=\"drupElem\"><text x=\"155.79998779296875\" y=\"43.725006103515625\" class=\"core alignable sub egal-label\" style=\"text-anchor: middle; alignment-baseline: central; font-size: 20px;\" data-src=\"5\" transform=\"matrix(1.0894,0,0,1,-14.4288,-22)\">5</text></g><g id=\"drup_elem_10\" class=\"drupElem\"><text x=\"148.79998779296875\" y=\"98.72500610351562\" class=\"core alignable sub egal-label\" style=\"text-anchor: middle; alignment-baseline: central; font-size: 20px;\" data-src=\"6\" transform=\"matrix(1,0,0,1,211,-36)\">6</text></g><g id=\"drup_elem_29\" class=\"drupElem\"><text x=\"148.79998779296875\" y=\"98.72500610351562\" class=\"core alignable sub egal-label\" style=\"text-anchor: middle; alignment-baseline: central; font-size: 20px;\" data-src=\"6\" transform=\"matrix(1,0,0,1,8,-39)\">6</text></g><g id=\"drup_elem_11\" class=\"drupElem\"><text x=\"32.79998779296875\" y=\"70.72500610351562\" class=\"core alignable sub egal-label\" style=\"text-anchor: middle; alignment-baseline: central; font-size: 20px;\"></text></g><g id=\"drup_elem_12\" class=\"drupElem\"><text x=\"100.79998779296875\" y=\"47.725006103515625\" class=\"core alignable sub egal-label\" style=\"text-anchor: middle; alignment-baseline: central; font-size: 20px;\" data-src=\"3\" transform=\"matrix(1,0,0,1,8,-28)\">3</text></g><g id=\"drup_elem_13\" class=\"drupElem\"><line x1=\"71.79998779296875\" x2=\"100.79998779296875\" y1=\"43.725006103515625\" y2=\"3.725006103515625\" fill=\"#ffffff\" stroke=\"#000000\" vector-effect=\"non-scaling-stroke\" style=\"stroke-width: 1;\" class=\"core alignable sub egal-line\" transform=\"matrix(0.6552,0,0,0.45,34.7586,2.0488)\"></line><text x=\"86.29998779296875\" y=\"23.725006103515625\" style=\"font-size: 20px; text-anchor: middle; alignment-baseline: central; opacity: 0;\" class=\"egal-label sub\" transform=\"matrix(1,0,0,1,5.0065,-11.0009)\">|</text></g><g id=\"drup_elem_14\" class=\"drupElem\"><line x1=\"72.79998779296875\" x2=\"100.79998779296875\" y1=\"42.725006103515625\" y2=\"85.72500610351562\" fill=\"#ffffff\" stroke=\"#000000\" vector-effect=\"non-scaling-stroke\" style=\"stroke-width: 1;\" class=\"core alignable sub egal-line\" transform=\"matrix(0.6786,0,0,0.3953,32.4,51.8337)\"></line><text x=\"86.79998779296875\" y=\"64.22500610351562\" style=\"font-size: 20px; text-anchor: middle; alignment-baseline: central; opacity: 0;\" class=\"egal-label sub\" transform=\"matrix(1,0,0,1,4.506,12.9991)\">|</text></g><g id=\"drup_elem_17\" class=\"drupElem\"><text x=\"269.79998779296875\" y=\"37.725006103515625\" class=\"core alignable sub egal-label\" style=\"text-anchor: middle; alignment-baseline: central; font-size: 20px;\" data-src=\"1\" transform=\"matrix(1,0,0,1,0,-14)\">1</text></g><g id=\"drup_elem_18\" class=\"drupElem\"><text x=\"241.79998779296875\" y=\"97.72500610351562\" class=\"core alignable sub egal-label\" style=\"text-anchor: middle; alignment-baseline: central;\"></text></g><g id=\"drup_elem_19\" class=\"drupElem\"><text x=\"256.79998779296875\" y=\"82.72500610351562\" class=\"core alignable sub egal-label\" style=\"text-anchor: middle; alignment-baseline: central; font-size: 20px;\" data-src=\"2\" transform=\"matrix(1,0,0,1,14,-26)\">2</text></g><g id=\"drup_elem_20\" class=\"drupElem\"><text x=\"259.79998779296875\" y=\"159.72500610351562\" class=\"core alignable sub egal-label\" style=\"text-anchor: middle; alignment-baseline: central;\"></text></g><g id=\"drup_elem_21\" class=\"drupElem\"><text x=\"304.79998779296875\" y=\"10.725006103515625\" class=\"core alignable sub egal-label\" style=\"text-anchor: middle; alignment-baseline: central;\"></text></g><g id=\"drup_elem_22\" class=\"drupElem\"><text x=\"308.79998779296875\" y=\"57.725006103515625\" class=\"core alignable sub egal-label\" style=\"text-anchor: middle; alignment-baseline: central;\"></text></g><g id=\"drup_elem_23\" class=\"drupElem\"><text x=\"356.79998779296875\" y=\"20.725006103515625\" class=\"core alignable sub egal-label\" style=\"text-anchor: middle; alignment-baseline: central;\"></text></g><g id=\"drup_elem_24\" class=\"drupElem\"><text x=\"308.79998779296875\" y=\"30.725006103515625\" class=\"core alignable sub egal-label\" style=\"text-anchor: middle; alignment-baseline: central; font-size: 20px;\" data-src=\"3\" transform=\"matrix(1,0,0,1,13,-7)\">3</text></g><g id=\"drup_elem_26\" class=\"drupElem\"><text x=\"354.79998779296875\" y=\"40.725006103515625\" class=\"core alignable sub egal-label\" style=\"text-anchor: middle; alignment-baseline: central; font-size: 20px;\" data-src=\"5\" transform=\"matrix(1,0,0,1,9,-16)\">5</text></g><g id=\"drup_elem_30\" class=\"drupElem\"><line x1=\"82.79998779296875\" x2=\"76.79998779296875\" y1=\"22.125\" y2=\"39.125\" fill=\"#ffffff\" stroke=\"#000000\" vector-effect=\"non-scaling-stroke\" style=\"stroke-width: 1;\" class=\"core alignable sub egal-line\"></line><text x=\"79.79998779296875\" y=\"30.625\" style=\"font-size: 20px; text-anchor: middle; alignment-baseline: central; opacity: 0;\" class=\"egal-label sub\">|</text></g><g id=\"drup_elem_31\" class=\"drupElem\"><line x1=\"82.79998779296875\" x2=\"75.79998779296875\" y1=\"69.125\" y2=\"56.125\" fill=\"#ffffff\" stroke=\"#000000\" vector-effect=\"non-scaling-stroke\" style=\"stroke-width: 1;\" class=\"core alignable sub egal-line\"></line><text x=\"79.29998779296875\" y=\"62.625\" style=\"font-size: 20px; text-anchor: middle; alignment-baseline: central; opacity: 0;\" class=\"egal-label sub\">|</text></g><g id=\"drup_elem_32\" class=\"drupElem\"><line x1=\"75.79998779296875\" x2=\"76.79998779296875\" y1=\"56.125\" y2=\"39.125\" fill=\"#ffffff\" stroke=\"#000000\" vector-effect=\"non-scaling-stroke\" style=\"stroke-width: 1;\" class=\"core alignable sub egal-line\"></line><text x=\"76.29998779296875\" y=\"47.625\" style=\"font-size: 20px; text-anchor: middle; alignment-baseline: central; opacity: 0;\" class=\"egal-label sub\">|</text></g></svg>"
   ]
  },
  {
   "cell_type": "code",
   "execution_count": 21,
   "metadata": {},
   "outputs": [
    {
     "name": "stdout",
     "output_type": "stream",
     "text": [
      "{3, 4}\n"
     ]
    }
   ],
   "source": [
    "A = {1,2,3,4}\n",
    "B = {3,4,5,6}\n",
    "C = A.intersection(B)\n",
    "print(C)"
   ]
  },
  {
   "cell_type": "markdown",
   "metadata": {},
   "source": [
    "#### Proprietà delle operazioni unione e intersezione"
   ]
  },
  {
   "cell_type": "markdown",
   "metadata": {},
   "source": [
    "__proprietà commutativa__<br>\n",
    "si può invertire l'ordine degli operandi, non cambia il risultato: <br>\n",
    "$A \\cup B = B \\cup A \\\\\n",
    " A \\cap B = B \\cup A $\n",
    "\n",
    "__proprietà associativa__<br>\n",
    "si può sostituire il risultato dell'operazione fra due operandi per compiere la stessa operazione con un successivo nell'ordine che si preferisce, il risultato non cambia (in sostanza non occorrono le parentesi).<br>\n",
    "$(A \\cup B) \\cup C = A \\cup (B \\cup C) = A \\cup B \\cup C \\\\\n",
    " (A \\cap B) \\cap C = A \\cap (B \\cap C) = A \\cap B \\cap C$\n",
    " \n",
    "__idempotenza__<br>\n",
    "L'operazione sullo stesso operando restituisce lo stesso operando <br>\n",
    "$A \\cup A = A \\\\\n",
    " A \\cap A = A $\n",
    "\n",
    "__proprietà dell'insieme vuoto__<br>\n",
    "L'insieme vuoto per l'unione è neutro mentre per l'intersezione è assorbente.<br>\n",
    "$A \\cup \\emptyset = \\emptyset \\cup A = A \\\\\n",
    " A \\cap \\emptyset = \\emptyset \\cap A = \\emptyset $\n",
    " \n",
    "__proprietà distributiva__<br>\n",
    "Unire un insieme con l'intersezione di altri due insiemi corrisponde a unire uno alla volta i due insiemi con il primo e poi fare l'intersezione dei due insiemi risultanti.\n",
    "Stessa cosa viceversa.\n",
    "Intersecare un insieme con l'unione di altri due insiemi equivale a intersecare uno alla volta i due insiemi con il primo e poi fare l'unione dei due insiemi risultanti.<br>\n",
    "$A \\cup (B \\cap C) = (A \\cup B) \\cap (A \\cup C) \\\\\n",
    " A \\cap (B \\cup C) = (A \\cap B) \\cup (A \\cap C) $\n",
    "\n",
    "__proprietà di assorbimento__<br>\n",
    "Unire un insieme con l'intersecazione di questo e un altro insieme restituisce il primo insieme.\n",
    "Stessa cosa viceversa.\n",
    "Intersecare un insieme con l'unione di questo e un altro insieme restituisce il primo insieme.<br>\n",
    "$A \\cup (A \\cap B) = A \\\\\n",
    " A \\cap (A \\cup B) = A $\n",
    "\n",
    "\n",
    "\n"
   ]
  },
  {
   "cell_type": "code",
   "execution_count": 56,
   "metadata": {},
   "outputs": [
    {
     "name": "stdout",
     "output_type": "stream",
     "text": [
      "A = {1, 2, 3}\n",
      "B = {3, 4, 5}\n",
      "C = {5, 6, 7}\n",
      "\n",
      "proprietà commuativa\n",
      "A∪B = B∪A   True\n",
      "A∩B = B∪A   True\n",
      "\n",
      "proprietà associativa\n",
      "(A∪B)∪C = A∪(B∪C) = A∪B∪C   True\n",
      "(A∩B)∩C = A∩(B∩C) = A∩B∩C   True\n",
      "\n",
      "idempotenza\n",
      "A∪A = A   True\n",
      "A∩A = A   True\n",
      "\n",
      "insieme vuoto\n",
      "A∪∅ = ∅∪A = A   True\n",
      "A∩∅ = ∅∩A = ∅   True\n",
      "\n",
      "distributiva\n",
      "A∪(B∩C) = (A∪B)∩(A∪C)   True\n",
      "A∩(B∪C) = (A∩B)∪(A∩C)   True\n",
      "\n",
      "assorbimento\n",
      "A∪(A∩B) = A   True\n",
      "A∩(A∪B) = A   True\n",
      "\n"
     ]
    }
   ],
   "source": [
    "#insiemi\n",
    "A = {1,2,3}\n",
    "B = {3,4,5}\n",
    "C = {5,6,7}\n",
    "print(f\"A = {A}\", f\"B = {B}\", f\"C = {C}\", sep=\"\\n\", end=\"\\n\\n\")\n",
    "\n",
    "# | operatore di unione (o anche or)\n",
    "# & operatore di intersezione (o anche and)\n",
    "\n",
    "#commutativa\n",
    "r1 = A|B == B|A\n",
    "r2 = A&B == B&A\n",
    "print(\"proprietà commuativa\",\n",
    "      f\"A∪B = B∪A   {r1}\",\n",
    "      f\"A∩B = B∪A   {r2}\",\n",
    "      sep=\"\\n\", end=\"\\n\\n\"\n",
    "     )\n",
    "\n",
    "#associativa\n",
    "r1 = (A|B)|C == A|(B|C) == A|B|C\n",
    "r2 = (A&B)&C == A&(B&C) == A&B&C\n",
    "print(\"proprietà associativa\",\n",
    "      f\"(A∪B)∪C = A∪(B∪C) = A∪B∪C   {r1}\",\n",
    "      f\"(A∩B)∩C = A∩(B∩C) = A∩B∩C   {r2}\",\n",
    "      sep=\"\\n\", end=\"\\n\\n\"\n",
    "     )\n",
    "\n",
    "#idempotenza\n",
    "r1 = A | A == A\n",
    "r2 = A & A == A\n",
    "print(\"idempotenza\",\n",
    "      f\"A∪A = A   {r1}\",\n",
    "      f\"A∩A = A   {r2}\",\n",
    "      sep=\"\\n\", end=\"\\n\\n\"\n",
    "     )\n",
    "\n",
    "#insieme vuoto\n",
    "r1 = A | set() == set() | A == A\n",
    "r2 = A & set() == set() & A == set()\n",
    "print(\"insieme vuoto\",\n",
    "      f\"A∪∅ = ∅∪A = A   {r1}\",\n",
    "      f\"A∩∅ = ∅∩A = ∅   {r2}\",\n",
    "      sep=\"\\n\", end=\"\\n\\n\"\n",
    "     )\n",
    "\n",
    "#distributiva\n",
    "r1 = A | (B & C) == (A | B) & (A | C)\n",
    "r2 = A & (B | C) == (A & B) | (A & C)\n",
    "print(\"distributiva\",\n",
    "      f\"A∪(B∩C) = (A∪B)∩(A∪C)   {r1}\",\n",
    "      f\"A∩(B∪C) = (A∩B)∪(A∩C)   {r2}\",\n",
    "      sep=\"\\n\", end=\"\\n\\n\"\n",
    "     )\n",
    "\n",
    "#assorbimento\n",
    "r1 = A | (A & B) == A\n",
    "r2 = A & (A | B) == A\n",
    "print(\"assorbimento\",\n",
    "      f\"A∪(A∩B) = A   {r1}\",\n",
    "      f\"A∩(A∪B) = A   {r2}\",\n",
    "      sep=\"\\n\", end=\"\\n\\n\"\n",
    "     )"
   ]
  }
 ],
 "metadata": {
  "kernelspec": {
   "display_name": "Python 3",
   "language": "python",
   "name": "python3"
  },
  "language_info": {
   "codemirror_mode": {
    "name": "ipython",
    "version": 3
   },
   "file_extension": ".py",
   "mimetype": "text/x-python",
   "name": "python",
   "nbconvert_exporter": "python",
   "pygments_lexer": "ipython3",
   "version": "3.6.1"
  },
  "toc": {
   "colors": {
    "hover_highlight": "#DAA520",
    "navigate_num": "#000000",
    "navigate_text": "#333333",
    "running_highlight": "#FF0000",
    "selected_highlight": "#FFD700",
    "sidebar_border": "#EEEEEE",
    "wrapper_background": "#FFFFFF"
   },
   "moveMenuLeft": true,
   "nav_menu": {
    "height": "0px",
    "width": "0px"
   },
   "navigate_menu": true,
   "number_sections": true,
   "sideBar": true,
   "threshold": 4,
   "toc_cell": false,
   "toc_position": {
    "height": "585px",
    "left": "0px",
    "right": "958.636px",
    "top": "35px",
    "width": "205px"
   },
   "toc_section_display": "block",
   "toc_window_display": true,
   "widenNotebook": false
  },
  "varInspector": {
   "cols": {
    "lenName": 16,
    "lenType": 16,
    "lenVar": 40
   },
   "kernels_config": {
    "python": {
     "delete_cmd_postfix": "",
     "delete_cmd_prefix": "del ",
     "library": "var_list.py",
     "varRefreshCmd": "print(var_dic_list())"
    },
    "r": {
     "delete_cmd_postfix": ") ",
     "delete_cmd_prefix": "rm(",
     "library": "var_list.r",
     "varRefreshCmd": "cat(var_dic_list()) "
    }
   },
   "types_to_exclude": [
    "module",
    "function",
    "builtin_function_or_method",
    "instance",
    "_Feature"
   ],
   "window_display": false
  }
 },
 "nbformat": 4,
 "nbformat_minor": 2
}
