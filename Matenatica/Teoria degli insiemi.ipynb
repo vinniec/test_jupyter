{
 "cells": [
  {
   "cell_type": "code",
   "execution_count": null,
   "metadata": {},
   "outputs": [
    {
     "name": "stdout",
     "output_type": "stream",
     "text": [
      "Changes not staged for commit:\n",
      "\tmodified:   .ipynb_checkpoints/Teoria degli insiemi-checkpoint.ipynb\n",
      "\tmodified:   Teoria degli insiemi.ipynb\n",
      "\tmodified:   prontuario_latex.txt\n",
      "\tmodified:   ../verme/verme_interfacce2.ipynb\n",
      "Untracked files:\n",
      "\tnotation.pdf\n",
      "\t../test/\n"
     ]
    }
   ],
   "source": [
    "#avviare questa cella per pushare su github\n",
    "%run ../github_push.py"
   ]
  },
  {
   "cell_type": "code",
   "execution_count": 8,
   "metadata": {
    "editable": false,
    "hide_input": true,
    "run_control": {
     "frozen": false
    },
    "scrolled": true
   },
   "outputs": [
    {
     "data": {
      "text/html": [
       "\n",
       "<!-- allineamento a sinistra delle celle, con questo riesco a spostare \n",
       "le tabelle del markdown a sinistra -->\n",
       "<style>\n",
       "table {float:left}\n",
       "</style>"
      ],
      "text/plain": [
       "<IPython.core.display.HTML object>"
      ]
     },
     "metadata": {},
     "output_type": "display_data"
    }
   ],
   "source": [
    "%%html\n",
    "\n",
    "<!-- allineamento a sinistra delle celle, con questo riesco a spostare \n",
    "le tabelle del markdown a sinistra -->\n",
    "<style>\n",
    "table {float:left}\n",
    "</style>"
   ]
  },
  {
   "cell_type": "markdown",
   "metadata": {},
   "source": [
    "# Teoria degli insiemi"
   ]
  },
  {
   "cell_type": "markdown",
   "metadata": {
    "heading_collapsed": true
   },
   "source": [
    "## Introduzione"
   ]
  },
  {
   "cell_type": "markdown",
   "metadata": {
    "hidden": true
   },
   "source": [
    "Nasce a metà del 1800 per poter fornire una base comune a tutte le discipline matematiche."
   ]
  },
  {
   "cell_type": "markdown",
   "metadata": {
    "heading_collapsed": true
   },
   "source": [
    "## Teoria degli insiemi"
   ]
  },
  {
   "cell_type": "markdown",
   "metadata": {
    "heading_collapsed": true,
    "hidden": true
   },
   "source": [
    "### Concetto di insieme"
   ]
  },
  {
   "cell_type": "markdown",
   "metadata": {
    "hidden": true
   },
   "source": [
    "È un concetto __primitivo__ della matematica quindi non è definibile. Quando abbiamo degli oggetti che riusciamo a collegare abbiamo un insieme. Gli __elementi__ (oggetti) devono essere ben definiti ancora prima dell'insieme."
   ]
  },
  {
   "cell_type": "markdown",
   "metadata": {
    "heading_collapsed": true,
    "hidden": true
   },
   "source": [
    "#### Nomenclatura"
   ]
  },
  {
   "cell_type": "markdown",
   "metadata": {
    "hidden": true
   },
   "source": [
    "- $a, b, c$ : lettere minuscole per gli elementi\n",
    "- $A, B, C$ : lettere maiuscole per gli insiemi\n",
    "- $\\left\\{a, b\\right\\}$ : graffe per gli insiemi (insieme formato dagli elementi a & b\n",
    "- $a \\in A$ : elemento a appartiene all'inzieme A\n",
    "\n"
   ]
  },
  {
   "cell_type": "markdown",
   "metadata": {
    "collapsed": true,
    "heading_collapsed": true,
    "hidden": true
   },
   "source": [
    "### Rappresentazione di un insieme"
   ]
  },
  {
   "cell_type": "markdown",
   "metadata": {
    "hidden": true
   },
   "source": [
    "Ci sono diversi modi per rappresentare un insieme:"
   ]
  },
  {
   "cell_type": "markdown",
   "metadata": {
    "heading_collapsed": true,
    "hidden": true
   },
   "source": [
    "#### Tabulare o per elencazione"
   ]
  },
  {
   "cell_type": "markdown",
   "metadata": {
    "hidden": true
   },
   "source": [
    "Si ottiene enumerando gli elementi dentro le parentesi graffe (solitamente si usa quando il numero di oggetti è limitato)\n",
    "\n",
    "$A = \\left\\{ 1,2,3,4 \\right\\}$\n",
    "\n",
    "l'insieme A è composto dai quattro numeri naturali 1,2,3,4"
   ]
  },
  {
   "cell_type": "markdown",
   "metadata": {
    "heading_collapsed": true,
    "hidden": true
   },
   "source": [
    "#### Grafica"
   ]
  },
  {
   "cell_type": "markdown",
   "metadata": {
    "hidden": true
   },
   "source": [
    "Si ottiene rinchiudendo gli elementi di un insieme dentro una linea chiusa non intrecciata, è la rappresentazione più semplice. Di nuovo l'esempio di prima:"
   ]
  },
  {
   "cell_type": "raw",
   "metadata": {
    "hidden": true,
    "hide_egal": true,
    "is_egal": true
   },
   "source": [
    "<svg height=\"100\" width=\"100%\"><g id=\"drup_elem_5\" class=\"drupElem egal-select\"><circle cx=\"116.79998779296875\" cy=\"106.67498779296875\" r=\"57\" vector-effect=\"non-scaling-stroke\" fill=\"#ffffff\" stroke=\"#000000\" style=\"stroke-width: 1;\" class=\"core alignable sub\" transform=\"matrix(0.9474,0,0,0.8333,9.1382,-39.7208)\"></circle><circle cx=\"116.79998779296875\" cy=\"49.67498779296875\" r=\"5\" stroke=\"#000000\" fill=\"#ffffff\" id=\"drup_elem_5_endpoint_0\" style=\"stroke-width: 1; opacity: 0;\" class=\"endPoint up sub\" transform=\"matrix(1,0,0,1,3,-48)\"></circle><circle cx=\"116.79998779296875\" cy=\"163.67498779296875\" r=\"5\" stroke=\"#000000\" fill=\"#ffffff\" id=\"drup_elem_5_endpoint_1\" style=\"stroke-width: 1; opacity: 0;\" class=\"endPoint down sub\" transform=\"matrix(1,0,0,1,3,-67)\"></circle><circle cx=\"59.79998779296875\" cy=\"106.67498779296875\" r=\"5\" stroke=\"#000000\" fill=\"#ffffff\" id=\"drup_elem_5_endpoint_2\" style=\"stroke-width: 1; opacity: 0;\" class=\"endPoint left sub\" transform=\"matrix(1,0,0,1,5.9955,-57.5)\"></circle><circle cx=\"173.79998779296875\" cy=\"106.67498779296875\" r=\"5\" stroke=\"#000000\" fill=\"#ffffff\" id=\"drup_elem_5_endpoint_3\" style=\"stroke-width: 1; opacity: 0;\" class=\"endPoint right sub\" transform=\"matrix(1,0,0,1,0.0045,-57.5)\"></circle><text x=\"116.79998779296875\" y=\"106.67498779296875\" style=\"font-size: 20px; text-anchor: middle; alignment-baseline: central; opacity: 0;\" class=\"egal-label sub\" transform=\"matrix(1,0,0,1,3.001,-57.4982)\">|</text></g><desc>Created with Snap</desc><defs><filter id=\"Sj2prj86w3\" filterUnits=\"userSpaceOnUse\"><feGaussianBlur in=\"SourceAlpha\" stdDeviation=\"3\"></feGaussianBlur><feOffset dx=\"0\" dy=\"2\" result=\"offsetblur\"></feOffset><feFlood flood-color=\"#000000\"></feFlood><feComposite in2=\"offsetblur\" operator=\"in\"></feComposite><feComponentTransfer><feFuncA type=\"linear\" slope=\"1\"></feFuncA></feComponentTransfer><feMerge><feMergeNode></feMergeNode><feMergeNode in=\"SourceGraphic\"></feMergeNode></feMerge></filter><marker viewBox=\"0 0 10 10\" markerWidth=\"10\" markerHeight=\"10\" orient=\"auto\" refX=\"9\" refY=\"3\" id=\"arrowEndMarker\"><polygon points=\"0,0,0,6,9,3,0,0\" fill=\"#323232\" id=\"arrow\"></polygon></marker><marker viewBox=\"0 0 10 10\" markerWidth=\"10\" markerHeight=\"10\" orient=\"auto\" refX=\"0\" refY=\"3\" id=\"arrowStartMarker\"><polygon points=\"0,3,9,0,9,6,0,3\" fill=\"#323232\" id=\"startArrow\"></polygon></marker></defs><g id=\"drup_elem_1\" class=\"drupElem\"><text x=\"88.79998779296875\" y=\"91.67498779296875\" class=\"core alignable sub egal-label\" style=\"text-anchor: middle; alignment-baseline: central; font-size: 20px;\" data-src=\"1\" transform=\"matrix(1,0,0,1,3,-53)\">1</text></g><g id=\"drup_elem_2\" class=\"drupElem\"><text x=\"125.79998779296875\" y=\"69.67498779296875\" class=\"core alignable sub egal-label\" style=\"text-anchor: middle; alignment-baseline: central; font-size: 20px;\" data-src=\"2\" transform=\"matrix(1,0,0,1,0,-40)\">2</text></g><g id=\"drup_elem_3\" class=\"drupElem\"><text x=\"145.79998779296875\" y=\"107.67498779296875\" class=\"core alignable sub egal-label\" style=\"text-anchor: middle; alignment-baseline: central; font-size: 20px;\" data-src=\"3\" transform=\"matrix(1,0,0,1,-1,-47)\">3</text></g><g id=\"drup_elem_4\" class=\"drupElem\"><text x=\"109.79998779296875\" y=\"140.67498779296875\" class=\"core alignable sub egal-label\" style=\"text-anchor: middle; alignment-baseline: central; font-size: 20px;\" data-src=\"4\" transform=\"matrix(0.9167,0,0,1,8.6198,-64)\">4</text></g></svg>"
   ]
  },
  {
   "cell_type": "markdown",
   "metadata": {
    "heading_collapsed": true,
    "hidden": true
   },
   "source": [
    "#### Caratteristica"
   ]
  },
  {
   "cell_type": "markdown",
   "metadata": {
    "hidden": true
   },
   "source": [
    "Si può anche enunciare la caratteristica (o proprietà) che tiene insieme gli elementi:\n",
    "\n",
    "$A = \\left\\{ x \\in \\mathbb{N} : x < 5 \\right\\}$\n",
    "\n",
    "A è l'insieme degli elementi appartenenti ad ℕ (insieme dei numeri naturali) tali che l' elemento sia minore di 5:\n",
    "\n",
    "|Lettura\n",
    "|:-|:-\n",
    "| A | A |\n",
    "| = | è |\n",
    "| { | l'insieme |\n",
    "| x | degli elementi |\n",
    "| ∈ | appartenenti\n",
    "| ℕ | all'insieme di numeri naturali\n",
    "| : | tali che\n",
    "| x | l'elemento\n",
    "| < | sia minore\n",
    "| 5 | di 5\n",
    "| } | chiuso insieme"
   ]
  },
  {
   "cell_type": "markdown",
   "metadata": {
    "heading_collapsed": true,
    "hidden": true
   },
   "source": [
    "### Uguaglianza"
   ]
  },
  {
   "cell_type": "markdown",
   "metadata": {
    "hidden": true
   },
   "source": [
    "Due insiemi sono uguali se hanno gli stessi elementi (l'ordine non conta):\n",
    "\n",
    "$\n",
    "A = \\left\\{ 1,2,3,4 \\right\\}\\\\\n",
    "B = \\left\\{ 3,2,1,4 \\right\\}\\\\\n",
    "A = B\n",
    "$"
   ]
  },
  {
   "cell_type": "code",
   "execution_count": 84,
   "metadata": {
    "code_folding": [
     0
    ],
    "hidden": true
   },
   "outputs": [
    {
     "name": "stdout",
     "output_type": "stream",
     "text": [
      "{1, 2, 3, 4} = {1, 2, 3, 4}: True\n"
     ]
    }
   ],
   "source": [
    "#es. uguaglianza\n",
    "A = {1,2,3,4}\n",
    "B = {3,2,1,4}\n",
    "print(f'{A} = {B}: {A == B}')\n"
   ]
  },
  {
   "cell_type": "markdown",
   "metadata": {
    "heading_collapsed": true,
    "hidden": true
   },
   "source": [
    "### Sottoinsiemi"
   ]
  },
  {
   "cell_type": "markdown",
   "metadata": {
    "hidden": true
   },
   "source": [
    "__Un sottoinsieme di un altro insieme è un insieme che contiene solo elementi contenuti nell'insieme di partenza.__\n",
    "\n",
    "__rappresentazione tabulare__<br>\n",
    "$\n",
    "A = \\left\\{ 1,2,3,4 \\right\\} \\\\\n",
    "B = \\left\\{ 1,2 \\right\\}\n",
    "$\n",
    "\n",
    "B è un sottoinsieme di A\n",
    "\n",
    "__simboli di inclusione__<br>\n",
    "$A \\supset B \\quad$ A è un soprainsieme di B <br>\n",
    "$B \\subset A \\quad$ B è un sottoinsieme di A\n",
    "\n",
    "__rappresentazione per caratteristica__<br>\n",
    "È necessario aggiungere una proprietà all'insieme di partenza per generare un sottoinsieme:<br>\n",
    "$ \n",
    "A = \\left\\{ x \\in \\mathbb{N}: x < 5 \\right\\} = \\left\\{1,2,3,4\\right\\}\n",
    "\\quad$ numeri naturali minori di 5\n",
    "$ \n",
    "A = \\left\\{ x \\in \\mathbb{N}: x < 5 ;\\; 2 \\nmid x \\right\\}\n",
    "  = \\left\\{1,3\\right\\}\n",
    "\\quad$ numeri naturali minori di 5 e non divisibili per 2 (2 non divide x, quindi x non è multiplo di 2)\n",
    "\n",
    "__insieme vuoto__<br>\n",
    "Se si aggiunge una proprietà impossibile si ottiene un insieme vuoto (∅) che è un sottoinsieme di ogni insieme:<br>\n",
    "$ \\left\\{ x \\in \\mathbb{N} : x < 5;\\; 7 \\mid x \\right\\} = \\emptyset \\quad$\n",
    "numeri naturali minori di 5 e divisibili per 7 (7 divide x, quindi x è multiplo di 7)\n",
    "\n",
    "__sottoinsieme improprio__<br>\n",
    "Se aggiungessimo invece una proprietà ovvia otterremo l'insieme di partenza, in questo caso il sottoinsieme sarà improprio, cioé contenuto o uguale al soprainsieme:<br>\n",
    "$ B = \\left\\{ x \\in \\mathbb{N} : x < 5; 1 \\mid x \\right\\} = A \\quad$\n",
    "numeri naturali minori di 5 e multipli di 1 (1 divide 5)\n",
    "\n",
    "Quindi si può dire che: <br>\n",
    "$ A \\supseteq B \\quad$ A contine o è uguale a B <br>\n",
    "$ B \\subseteq A \\quad$ B è contenuto o uguale ad A\n",
    "\n"
   ]
  },
  {
   "cell_type": "code",
   "execution_count": 109,
   "metadata": {
    "code_folding": [
     0
    ],
    "hidden": true
   },
   "outputs": [
    {
     "name": "stdout",
     "output_type": "stream",
     "text": [
      "A = {1, 2, 3, 4}\n",
      "B = {1, 2}\n",
      "A ⊃ B: True\n",
      "\n",
      "A = {1, 2, 3, 4}\n",
      "B = {1, 3}\n",
      "A ⊃ B: True\n",
      "\n",
      "A = {1, 2, 3, 4}\n",
      "C = set()\n",
      "A ⊃ B: True\n",
      "\n",
      "C = {1, 2, 3, 4}\n",
      "A = {1, 2, 3, 4}\n",
      "C ⊆ A: True\n",
      "\n"
     ]
    }
   ],
   "source": [
    "#es sottoinsiemi tabulari\n",
    "A = {1,2,3,4}\n",
    "B = {1,2}\n",
    "print(f'A = {A}\\nB = {B}')\n",
    "print(f'A ⊃ B: {A.issuperset(B)}\\n')\n",
    "\n",
    "#es sottoinsiemi caratteristica\n",
    "from itertools import takewhile\n",
    "def ℕ():\n",
    "    n = 1\n",
    "    while True:\n",
    "        yield n\n",
    "        n += 1\n",
    "A = set(takewhile(lambda x: x < 5, (n for n in ℕ()))) \n",
    "B = set(takewhile(lambda x: x < 5, (n for n in ℕ() if n%2 != 0)))\n",
    "print(f'A = {A}\\nB = {B}')\n",
    "print(f'A ⊃ B: {A.issuperset(B)}\\n')\n",
    "\n",
    "#insieme vuoto con proprietà impossibile: insieme vuoto\n",
    "C = {x for x in takewhile(lambda x: x < 5, (n for n in ℕ())) if x%7 == 0}\n",
    "print(f'A = {A}\\nC = {C}')\n",
    "print(f'A ⊃ B: {A.issuperset(C)}\\n')\n",
    "\n",
    "#insieme vuoto con proprietà ovvia: insieme di partenza\n",
    "def is_inp_subset(s1, s2):\n",
    "    if s1.issuperset(s2) and s1 == s2: return True\n",
    "    else: return False\n",
    "C = {x for x in takewhile(lambda x: x < 5, (n for n in ℕ())) if x%1 == 0}\n",
    "print(f'C = {C}\\nA = {A}')\n",
    "print(f'C ⊆ A: {is_inp_subset(C, A)}\\n')\n",
    "\n"
   ]
  },
  {
   "cell_type": "markdown",
   "metadata": {
    "heading_collapsed": true,
    "hidden": true,
    "solution": "hidden"
   },
   "source": [
    "### Insieme delle parti"
   ]
  },
  {
   "cell_type": "markdown",
   "metadata": {
    "hidden": true
   },
   "source": [
    "$ \\mathcal{P}(A) \\quad$L'__insieme delle parti di A__ o __insieme potenza di A__ è l'insieme di tutti i sottoinsiemi di A.\n",
    "\n",
    "$ A = \\left\\{a,b\\right\\} \\\\\n",
    "\\mathcal{P}(A) = \\left\\{ \\emptyset, \\left\\{a\\right\\},\n",
    "\\left\\{b\\right\\}, \\left\\{a,b\\right\\}\\right\\}$\n",
    "\n",
    "L'insieme potenza di A è formato da 4 elementi cioé $2^2$, l'insieme vuoto, i due sottoinsiemi formati da un elemento e il sottoinsieme improprio formato da due.\n",
    "Il motivo per cui il numero di combinazioni semplici (non conta l'ordine degli elementi) è una potenza di due è perché ogni volta che viene aggiunto un elemento all'insieme il numero di combinazioni raddoppia, quindi:\n",
    "\n",
    "$ 2^0 = 1 \\quad$ L'insieme vuoto contiene sempre un insieme vuoto <br>\n",
    "$ 2^1 = 2 \\quad$ Con un elemento abbiamo l'elemento e l'insieme vuoto <br>\n",
    "$ 2^2 = 4 \\quad$ Con due elementi abbiamo quattro combinazioni <br>\n",
    "$ 2^3 = 8 \\quad$ Con tre elementi abbiamo sei combinazioni <br>\n",
    "\n"
   ]
  },
  {
   "cell_type": "code",
   "execution_count": 192,
   "metadata": {
    "code_folding": [
     0
    ],
    "hidden": true
   },
   "outputs": [
    {
     "name": "stdout",
     "output_type": "stream",
     "text": [
      "2**3 = 8\n",
      "cont = 8\n",
      "[[], ['a'], ['b'], ['b', 'a'], ['c'], ['c', 'a'], ['c', 'b'], ['c', 'b', 'a']]\n"
     ]
    }
   ],
   "source": [
    "#es calcolo insieme delle parti\n",
    "def powerset(insieme):\n",
    "    \"\"\"restituisce l'insieme delle parti di un insieme\"\"\"\n",
    "    risultato = [[]]\n",
    "    for elemento in insieme:\n",
    "        risultato.extend([[elemento] + x for x in risultato])\n",
    "    return risultato\n",
    "\n",
    "insieme = ['a','b','c']\n",
    "insieme_parti = powerset(insieme)\n",
    "comb1 = 2**len(insieme)\n",
    "comb2 = len(insieme_parti) \n",
    "print(f'2**{len(insieme)} = {comb1}\\ncont = {comb2}')\n",
    "print(insieme_parti)\n"
   ]
  },
  {
   "cell_type": "markdown",
   "metadata": {
    "heading_collapsed": true,
    "hidden": true
   },
   "source": [
    "### Operazioni fra insiemi"
   ]
  },
  {
   "cell_type": "markdown",
   "metadata": {
    "heading_collapsed": true,
    "hidden": true
   },
   "source": [
    "#### Unione"
   ]
  },
  {
   "cell_type": "markdown",
   "metadata": {
    "hidden": true
   },
   "source": [
    "$ A \\cup B $ <br>\n",
    "Vengono associati gli elementi degli insiemi A e B. Gli elementi del nuovo insieme sono quindi appartenenti all'insieme A __oppure__ all'insieme B.\n",
    "La __o__ di oppure sta per \"non disgiutivo\", cioè uno oppure l'altro (corrisponde all or logico $\\lor$).\n",
    "\n",
    "__rappresentazione tabulare__<br>\n",
    "$\n",
    "A = \\left\\{1,2,3,4\\right\\} \\\\\n",
    "B = \\left\\{3,4,5,6\\right\\} \\\\\n",
    "A \\cup B = \\left\\{1,2,3,4,5,6\\right\\}\n",
    "$\n",
    "\n",
    "__rappresentazione per caratteristica__<br>\n",
    "$\n",
    "A = \\left\\{x \\in \\mathbb{N}: x < 5\\right\\} \\\\\n",
    "B = \\left\\{x \\in \\mathbb{N}: 2 < x < 7\\right\\} \\\\\n",
    "A \\cup B = \\left\\{x \\in \\mathbb{N}: x < 5 \\; \\lor \\; 2 < x < 7\\right\\}\n",
    "$\n",
    "\n",
    "__rappresentazione grafica__<br>"
   ]
  },
  {
   "cell_type": "raw",
   "metadata": {
    "hidden": true,
    "hide_egal": true,
    "is_egal": true
   },
   "source": [
    "<svg height=\"100\" width=\"100%\"><g id=\"drup_elem_2\" class=\"drupElem\"><circle cx=\"96.79998779296875\" cy=\"90.72500610351562\" r=\"63\" vector-effect=\"non-scaling-stroke\" fill=\"#ffffff\" stroke=\"#000000\" style=\"stroke-width: 1;\" class=\"core alignable sub\" transform=\"matrix(1,0,0,0.7063,26,-18.8585)\"></circle><circle cx=\"96.79998779296875\" cy=\"27.725006103515625\" r=\"5\" stroke=\"#000000\" fill=\"#ffffff\" id=\"drup_elem_2_endpoint_0\" style=\"stroke-width: 1; opacity: 0;\" class=\"endPoint up sub\" transform=\"matrix(1,0,0,1,26,-27)\"></circle><circle cx=\"96.79998779296875\" cy=\"153.72500610351562\" r=\"5\" stroke=\"#000000\" fill=\"#ffffff\" id=\"drup_elem_2_endpoint_1\" style=\"stroke-width: 1; opacity: 0;\" class=\"endPoint down sub\" transform=\"matrix(1,0,0,1,26,-64)\"></circle><circle cx=\"33.79998779296875\" cy=\"90.72500610351562\" r=\"5\" stroke=\"#000000\" fill=\"#ffffff\" id=\"drup_elem_2_endpoint_2\" style=\"stroke-width: 1; opacity: 0;\" class=\"endPoint left sub\" transform=\"matrix(1,0,0,1,26,-45.5)\"></circle><circle cx=\"159.79998779296875\" cy=\"90.72500610351562\" r=\"5\" stroke=\"#000000\" fill=\"#ffffff\" id=\"drup_elem_2_endpoint_3\" style=\"stroke-width: 1; opacity: 0;\" class=\"endPoint right sub\" transform=\"matrix(1,0,0,1,26,-45.5)\"></circle><text x=\"96.79998779296875\" y=\"90.72500610351562\" style=\"font-size: 20px; text-anchor: middle; alignment-baseline: central; opacity: 0;\" class=\"egal-label sub\" transform=\"matrix(1,0,0,1,26,-45.5005)\">|</text></g><g id=\"drup_elem_1\" class=\"drupElem\"><circle cx=\"96.79998779296875\" cy=\"90.72500610351562\" r=\"63\" vector-effect=\"non-scaling-stroke\" fill=\"#ffffff\" stroke=\"#000000\" style=\"stroke-width: 1;\" class=\"core alignable sub\" transform=\"matrix(1,0,0,0.7063,-20,-17.8585)\"></circle><circle cx=\"96.79998779296875\" cy=\"27.725006103515625\" r=\"5\" stroke=\"#000000\" fill=\"#ffffff\" id=\"drup_elem_1_endpoint_0\" style=\"stroke-width: 1; opacity: 0;\" class=\"endPoint up sub\" transform=\"matrix(1,0,0,1,-20,-26)\"></circle><circle cx=\"96.79998779296875\" cy=\"153.72500610351562\" r=\"5\" stroke=\"#000000\" fill=\"#ffffff\" id=\"drup_elem_1_endpoint_1\" style=\"stroke-width: 1; opacity: 0;\" class=\"endPoint down sub\" transform=\"matrix(1,0,0,1,-20,-63)\"></circle><circle cx=\"33.79998779296875\" cy=\"90.72500610351562\" r=\"5\" stroke=\"#000000\" fill=\"#ffffff\" id=\"drup_elem_1_endpoint_2\" style=\"stroke-width: 1; opacity: 0;\" class=\"endPoint left sub\" transform=\"matrix(1,0,0,1,-20,-44.5)\"></circle><circle cx=\"159.79998779296875\" cy=\"90.72500610351562\" r=\"5\" stroke=\"#000000\" fill=\"#ffffff\" id=\"drup_elem_1_endpoint_3\" style=\"stroke-width: 1; opacity: 0;\" class=\"endPoint right sub\" transform=\"matrix(1,0,0,1,-20,-44.5)\"></circle><text x=\"96.79998779296875\" y=\"90.72500610351562\" style=\"font-size: 20px; text-anchor: middle; alignment-baseline: central; opacity: 0;\" class=\"egal-label sub\" transform=\"matrix(1,0,0,1,-20,-44.5005)\">|</text></g><g id=\"drup_elem_16\" class=\"drupElem egal-select\"><circle cx=\"96.79998779296875\" cy=\"90.72500610351562\" r=\"63\" vector-effect=\"non-scaling-stroke\" fill=\"#6666ff\" stroke=\"#000000\" style=\"stroke-width: 1;\" class=\"core alignable sub\" transform=\"matrix(1.4042,0,0,0.7063,181.3774,-16.8585)\"></circle><circle cx=\"96.79998779296875\" cy=\"27.725006103515625\" r=\"5\" stroke=\"#000000\" fill=\"#ffffff\" id=\"drup_elem_16_endpoint_0\" style=\"stroke-width: 1; opacity: 0;\" class=\"endPoint up sub\" transform=\"matrix(1,0,0,1,220.5,-25)\"></circle><circle cx=\"96.79998779296875\" cy=\"153.72500610351562\" r=\"5\" stroke=\"#000000\" fill=\"#ffffff\" id=\"drup_elem_16_endpoint_1\" style=\"stroke-width: 1; opacity: 0;\" class=\"endPoint down sub\" transform=\"matrix(1,0,0,1,220.5,-62)\"></circle><circle cx=\"33.79998779296875\" cy=\"90.72500610351562\" r=\"5\" stroke=\"#000000\" fill=\"#ffffff\" id=\"drup_elem_16_endpoint_2\" style=\"stroke-width: 1; opacity: 0;\" class=\"endPoint left sub\" transform=\"matrix(1,0,0,1,195.038,-43.5)\"></circle><circle cx=\"159.79998779296875\" cy=\"90.72500610351562\" r=\"5\" stroke=\"#000000\" fill=\"#ffffff\" id=\"drup_elem_16_endpoint_3\" style=\"stroke-width: 1; opacity: 0;\" class=\"endPoint right sub\" transform=\"matrix(1,0,0,1,245.962,-43.5)\"></circle><text x=\"96.79998779296875\" y=\"90.72500610351562\" style=\"font-size: 20px; text-anchor: middle; alignment-baseline: central; opacity: 0; visibility: visible;\" class=\"egal-label sub\" transform=\"matrix(1,0,0,1,220.4924,-43.5005)\">|</text></g><desc>Created with Snap</desc><defs><filter id=\"Sj2rrbxr2r\" filterUnits=\"userSpaceOnUse\"><feGaussianBlur in=\"SourceAlpha\" stdDeviation=\"3\"></feGaussianBlur><feOffset dx=\"0\" dy=\"2\" result=\"offsetblur\"></feOffset><feFlood flood-color=\"#000000\"></feFlood><feComposite in2=\"offsetblur\" operator=\"in\"></feComposite><feComponentTransfer><feFuncA type=\"linear\" slope=\"1\"></feFuncA></feComponentTransfer><feMerge><feMergeNode></feMergeNode><feMergeNode in=\"SourceGraphic\"></feMergeNode></feMerge></filter><marker viewBox=\"0 0 10 10\" markerWidth=\"10\" markerHeight=\"10\" orient=\"auto\" refX=\"9\" refY=\"3\" id=\"arrowEndMarker\"><polygon points=\"0,0,0,6,9,3,0,0\" fill=\"#323232\" id=\"arrow\"></polygon></marker><marker viewBox=\"0 0 10 10\" markerWidth=\"10\" markerHeight=\"10\" orient=\"auto\" refX=\"0\" refY=\"3\" id=\"arrowStartMarker\"><polygon points=\"0,3,9,0,9,6,0,3\" fill=\"#323232\" id=\"startArrow\"></polygon></marker><filter id=\"Sj2ruct2or\" filterUnits=\"userSpaceOnUse\"><feGaussianBlur in=\"SourceAlpha\" stdDeviation=\"3\"></feGaussianBlur><feOffset dx=\"0\" dy=\"2\" result=\"offsetblur\"></feOffset><feFlood flood-color=\"#000000\"></feFlood><feComposite in2=\"offsetblur\" operator=\"in\"></feComposite><feComponentTransfer><feFuncA type=\"linear\" slope=\"1\"></feFuncA></feComponentTransfer><feMerge><feMergeNode></feMergeNode><feMergeNode in=\"SourceGraphic\"></feMergeNode></feMerge></filter><marker viewBox=\"0 0 10 10\" markerWidth=\"10\" markerHeight=\"10\" orient=\"auto\" refX=\"9\" refY=\"3\" id=\"arrowEndMarker\"><polygon points=\"0,0,0,6,9,3,0,0\" fill=\"#323232\" id=\"arrow\"></polygon></marker><marker viewBox=\"0 0 10 10\" markerWidth=\"10\" markerHeight=\"10\" orient=\"auto\" refX=\"0\" refY=\"3\" id=\"arrowStartMarker\"><polygon points=\"0,3,9,0,9,6,0,3\" fill=\"#323232\" id=\"startArrow\"></polygon></marker><filter id=\"Sj2y4u5fhr\" filterUnits=\"userSpaceOnUse\"><feGaussianBlur in=\"SourceAlpha\" stdDeviation=\"3\"></feGaussianBlur><feOffset dx=\"0\" dy=\"2\" result=\"offsetblur\"></feOffset><feFlood flood-color=\"#000000\"></feFlood><feComposite in2=\"offsetblur\" operator=\"in\"></feComposite><feComponentTransfer><feFuncA type=\"linear\" slope=\"1\"></feFuncA></feComponentTransfer><feMerge><feMergeNode></feMergeNode><feMergeNode in=\"SourceGraphic\"></feMergeNode></feMerge></filter><marker viewBox=\"0 0 10 10\" markerWidth=\"10\" markerHeight=\"10\" orient=\"auto\" refX=\"9\" refY=\"3\" id=\"arrowEndMarker\"><polygon points=\"0,0,0,6,9,3,0,0\" fill=\"#323232\" id=\"arrow\"></polygon></marker><marker viewBox=\"0 0 10 10\" markerWidth=\"10\" markerHeight=\"10\" orient=\"auto\" refX=\"0\" refY=\"3\" id=\"arrowStartMarker\"><polygon points=\"0,3,9,0,9,6,0,3\" fill=\"#323232\" id=\"startArrow\"></polygon></marker></defs><g id=\"drup_elem_3\" class=\"drupElem\"><text x=\"35.79998779296875\" y=\"24.725006103515625\" class=\"core alignable sub egal-label\" style=\"text-anchor: middle; alignment-baseline: central;\"></text></g><g id=\"drup_elem_4\" class=\"drupElem\"><text x=\"41.79998779296875\" y=\"86.72500610351562\" class=\"core alignable sub egal-label\" style=\"text-anchor: middle; alignment-baseline: central; font-size: 20px;\"></text></g><g id=\"drup_elem_5\" class=\"drupElem\"><text x=\"30.79998779296875\" y=\"50.725006103515625\" class=\"core alignable sub egal-label\" style=\"text-anchor: middle; alignment-baseline: central; font-size: 20px;\" data-src=\"1\" transform=\"matrix(1,0,0,1,10,-25)\">1</text></g><g id=\"drup_elem_6\" class=\"drupElem\"><text x=\"29.79998779296875\" y=\"68.72500610351562\" class=\"core alignable sub egal-label\" style=\"text-anchor: middle; alignment-baseline: central; font-size: 20px;\" data-src=\"2\" transform=\"matrix(1,0,0,1,16,-8)\">2</text></g><g id=\"drup_elem_8\" class=\"drupElem\"><text x=\"105.79998779296875\" y=\"93.72500610351562\" class=\"core alignable sub egal-label\" style=\"text-anchor: middle; alignment-baseline: central; font-size: 20px;\" data-src=\"4\" transform=\"matrix(1,0,0,1,4,-36)\">4</text></g><g id=\"drup_elem_28\" class=\"drupElem\"><text x=\"105.79998779296875\" y=\"93.72500610351562\" class=\"core alignable sub egal-label\" style=\"text-anchor: middle; alignment-baseline: central; font-size: 20px;\" data-src=\"4\" transform=\"matrix(1,0,0,1,211,-31)\">4</text></g><g id=\"drup_elem_9\" class=\"drupElem\"><text x=\"155.79998779296875\" y=\"43.725006103515625\" class=\"core alignable sub egal-label\" style=\"text-anchor: middle; alignment-baseline: central; font-size: 20px;\" data-src=\"5\" transform=\"matrix(1.0894,0,0,1,-14.4288,-22)\">5</text></g><g id=\"drup_elem_10\" class=\"drupElem\"><text x=\"148.79998779296875\" y=\"98.72500610351562\" class=\"core alignable sub egal-label\" style=\"text-anchor: middle; alignment-baseline: central; font-size: 20px;\" data-src=\"6\" transform=\"matrix(1,0,0,1,211,-36)\">6</text></g><g id=\"drup_elem_29\" class=\"drupElem\"><text x=\"148.79998779296875\" y=\"98.72500610351562\" class=\"core alignable sub egal-label\" style=\"text-anchor: middle; alignment-baseline: central; font-size: 20px;\" data-src=\"6\" transform=\"matrix(1,0,0,1,8,-39)\">6</text></g><g id=\"drup_elem_11\" class=\"drupElem\"><text x=\"32.79998779296875\" y=\"70.72500610351562\" class=\"core alignable sub egal-label\" style=\"text-anchor: middle; alignment-baseline: central; font-size: 20px;\"></text></g><g id=\"drup_elem_12\" class=\"drupElem\"><text x=\"100.79998779296875\" y=\"47.725006103515625\" class=\"core alignable sub egal-label\" style=\"text-anchor: middle; alignment-baseline: central; font-size: 20px;\" data-src=\"3\" transform=\"matrix(1,0,0,1,8,-28)\">3</text></g><g id=\"drup_elem_13\" class=\"drupElem\"><line x1=\"71.79998779296875\" x2=\"100.79998779296875\" y1=\"43.725006103515625\" y2=\"3.725006103515625\" fill=\"#ffffff\" stroke=\"#000000\" vector-effect=\"non-scaling-stroke\" style=\"stroke-width: 1;\" class=\"core alignable sub egal-line\" transform=\"matrix(0.6552,0,0,0.45,34.7586,2.0488)\"></line><text x=\"86.29998779296875\" y=\"23.725006103515625\" style=\"font-size: 20px; text-anchor: middle; alignment-baseline: central; opacity: 0;\" class=\"egal-label sub\" transform=\"matrix(1,0,0,1,5.0065,-11.0009)\">|</text></g><g id=\"drup_elem_14\" class=\"drupElem\"><line x1=\"72.79998779296875\" x2=\"100.79998779296875\" y1=\"42.725006103515625\" y2=\"85.72500610351562\" fill=\"#ffffff\" stroke=\"#000000\" vector-effect=\"non-scaling-stroke\" style=\"stroke-width: 1;\" class=\"core alignable sub egal-line\" transform=\"matrix(0.6786,0,0,0.3953,32.4,51.8337)\"></line><text x=\"86.79998779296875\" y=\"64.22500610351562\" style=\"font-size: 20px; text-anchor: middle; alignment-baseline: central; opacity: 0;\" class=\"egal-label sub\" transform=\"matrix(1,0,0,1,4.506,12.9991)\">|</text></g><g id=\"drup_elem_17\" class=\"drupElem\"><text x=\"269.79998779296875\" y=\"37.725006103515625\" class=\"core alignable sub egal-label\" style=\"text-anchor: middle; alignment-baseline: central; font-size: 20px;\" data-src=\"1\" transform=\"matrix(1,0,0,1,0,-14)\">1</text></g><g id=\"drup_elem_18\" class=\"drupElem\"><text x=\"241.79998779296875\" y=\"97.72500610351562\" class=\"core alignable sub egal-label\" style=\"text-anchor: middle; alignment-baseline: central;\"></text></g><g id=\"drup_elem_19\" class=\"drupElem\"><text x=\"256.79998779296875\" y=\"82.72500610351562\" class=\"core alignable sub egal-label\" style=\"text-anchor: middle; alignment-baseline: central; font-size: 20px;\" data-src=\"2\" transform=\"matrix(1,0,0,1,14,-26)\">2</text></g><g id=\"drup_elem_20\" class=\"drupElem\"><text x=\"259.79998779296875\" y=\"159.72500610351562\" class=\"core alignable sub egal-label\" style=\"text-anchor: middle; alignment-baseline: central;\"></text></g><g id=\"drup_elem_21\" class=\"drupElem\"><text x=\"304.79998779296875\" y=\"10.725006103515625\" class=\"core alignable sub egal-label\" style=\"text-anchor: middle; alignment-baseline: central;\"></text></g><g id=\"drup_elem_22\" class=\"drupElem\"><text x=\"308.79998779296875\" y=\"57.725006103515625\" class=\"core alignable sub egal-label\" style=\"text-anchor: middle; alignment-baseline: central;\"></text></g><g id=\"drup_elem_23\" class=\"drupElem\"><text x=\"356.79998779296875\" y=\"20.725006103515625\" class=\"core alignable sub egal-label\" style=\"text-anchor: middle; alignment-baseline: central;\"></text></g><g id=\"drup_elem_24\" class=\"drupElem\"><text x=\"308.79998779296875\" y=\"30.725006103515625\" class=\"core alignable sub egal-label\" style=\"text-anchor: middle; alignment-baseline: central; font-size: 20px;\" data-src=\"3\" transform=\"matrix(1,0,0,1,13,-7)\">3</text></g><g id=\"drup_elem_26\" class=\"drupElem\"><text x=\"354.79998779296875\" y=\"40.725006103515625\" class=\"core alignable sub egal-label\" style=\"text-anchor: middle; alignment-baseline: central; font-size: 20px;\" data-src=\"5\" transform=\"matrix(1,0,0,1,9,-16)\">5</text></g><g id=\"drup_elem_30\" class=\"drupElem\"><line x1=\"82.79998779296875\" x2=\"76.79998779296875\" y1=\"22.125\" y2=\"39.125\" fill=\"#ffffff\" stroke=\"#000000\" vector-effect=\"non-scaling-stroke\" style=\"stroke-width: 1;\" class=\"core alignable sub egal-line\"></line><text x=\"79.79998779296875\" y=\"30.625\" style=\"font-size: 20px; text-anchor: middle; alignment-baseline: central; opacity: 0;\" class=\"egal-label sub\">|</text></g><g id=\"drup_elem_31\" class=\"drupElem\"><line x1=\"82.79998779296875\" x2=\"75.79998779296875\" y1=\"69.125\" y2=\"56.125\" fill=\"#ffffff\" stroke=\"#000000\" vector-effect=\"non-scaling-stroke\" style=\"stroke-width: 1;\" class=\"core alignable sub egal-line\"></line><text x=\"79.29998779296875\" y=\"62.625\" style=\"font-size: 20px; text-anchor: middle; alignment-baseline: central; opacity: 0;\" class=\"egal-label sub\">|</text></g><g id=\"drup_elem_32\" class=\"drupElem\"><line x1=\"75.79998779296875\" x2=\"76.79998779296875\" y1=\"56.125\" y2=\"39.125\" fill=\"#ffffff\" stroke=\"#000000\" vector-effect=\"non-scaling-stroke\" style=\"stroke-width: 1;\" class=\"core alignable sub egal-line\"></line><text x=\"76.29998779296875\" y=\"47.625\" style=\"font-size: 20px; text-anchor: middle; alignment-baseline: central; opacity: 0;\" class=\"egal-label sub\">|</text></g></svg>"
   ]
  },
  {
   "cell_type": "code",
   "execution_count": 19,
   "metadata": {
    "code_folding": [
     0
    ],
    "hidden": true
   },
   "outputs": [
    {
     "name": "stdout",
     "output_type": "stream",
     "text": [
      "{1, 2, 3, 4, 5, 6, 7}\n"
     ]
    }
   ],
   "source": [
    "#es unione\n",
    "A = {1,2,3,4}\n",
    "B = {3,4,5,6}\n",
    "C = A.union(B)\n",
    "print(C)"
   ]
  },
  {
   "cell_type": "markdown",
   "metadata": {
    "heading_collapsed": true,
    "hidden": true
   },
   "source": [
    "#### Intersezione"
   ]
  },
  {
   "cell_type": "markdown",
   "metadata": {
    "hidden": true
   },
   "source": [
    "$ A \\cap B $ <br>\n",
    "Vengono associati gli elementi in comune degli insiemi A e B. Gli elementi del nuovo insieme sono quindi appartenenti all'insieme A __e contemporaneamente__ all'insieme B (corrisponde all' and logico $\\land$).\n",
    "\n",
    "\n",
    "__rappresentazione tabulare__<br>\n",
    "$\n",
    "A = \\left\\{1,2,3,4\\right\\} \\\\\n",
    "B = \\left\\{3,4,5,6\\right\\} \\\\\n",
    "A \\cap B = \\left\\{3,4\\right\\}\n",
    "$\n",
    "\n",
    "__rappresentazione per caratteristica__<br>\n",
    "$\n",
    "A = \\left\\{x \\in \\mathbb{N}: x < 5\\right\\} \\\\\n",
    "B = \\left\\{x \\in \\mathbb{N}: 2 < x < 7\\right\\} \\\\\n",
    "A \\cap B = \\left\\{x \\in \\mathbb{N}: x < 5 \\; \\land \\; 2 < x < 7\\right\\}\n",
    "= \\left\\{ x \\in \\mathbb{N}: 2 < x < 5 \\right\\}\n",
    "$\n",
    "\n",
    "__rappresentazione grafica__<br>\n"
   ]
  },
  {
   "cell_type": "raw",
   "metadata": {
    "hidden": true,
    "hide_egal": true,
    "is_egal": true
   },
   "source": [
    "<svg height=\"100\" width=\"100%\"><g id=\"drup_elem_16\" class=\"drupElem\"><circle cx=\"96.79998779296875\" cy=\"90.72500610351562\" r=\"63\" vector-effect=\"non-scaling-stroke\" fill=\"#ffffff\" stroke=\"#000000\" style=\"stroke-width: 1;\" class=\"core alignable sub\" transform=\"matrix(1.4042,0,0,0.7063,181.3774,-16.8585)\"></circle><circle cx=\"96.79998779296875\" cy=\"27.725006103515625\" r=\"5\" stroke=\"#000000\" fill=\"#ffffff\" id=\"drup_elem_16_endpoint_0\" style=\"stroke-width: 1; opacity: 0;\" class=\"endPoint up sub\" transform=\"matrix(1,0,0,1,220.5,-25)\"></circle><circle cx=\"96.79998779296875\" cy=\"153.72500610351562\" r=\"5\" stroke=\"#000000\" fill=\"#ffffff\" id=\"drup_elem_16_endpoint_1\" style=\"stroke-width: 1; opacity: 0;\" class=\"endPoint down sub\" transform=\"matrix(1,0,0,1,220.5,-62)\"></circle><circle cx=\"33.79998779296875\" cy=\"90.72500610351562\" r=\"5\" stroke=\"#000000\" fill=\"#ffffff\" id=\"drup_elem_16_endpoint_2\" style=\"stroke-width: 1; opacity: 0;\" class=\"endPoint left sub\" transform=\"matrix(1,0,0,1,195.038,-43.5)\"></circle><circle cx=\"159.79998779296875\" cy=\"90.72500610351562\" r=\"5\" stroke=\"#000000\" fill=\"#ffffff\" id=\"drup_elem_16_endpoint_3\" style=\"stroke-width: 1; opacity: 0;\" class=\"endPoint right sub\" transform=\"matrix(1,0,0,1,245.962,-43.5)\"></circle><text x=\"96.79998779296875\" y=\"90.72500610351562\" style=\"font-size: 20px; text-anchor: middle; alignment-baseline: central; opacity: 0;\" class=\"egal-label sub\" transform=\"matrix(1,0,0,1,220.4924,-43.5005)\">|</text></g><g id=\"drup_elem_29\" class=\"drupElem egal-select\"><circle cx=\"325.79998779296875\" cy=\"59.725006103515625\" r=\"47\" vector-effect=\"non-scaling-stroke\" fill=\"#6666ff\" stroke=\"#000000\" style=\"stroke-width: 1;\" class=\"core alignable sub\" transform=\"matrix(0.6282,0,0,0.9468,114.6302,-9.3232)\"></circle><circle cx=\"325.79998779296875\" cy=\"12.725006103515625\" r=\"5\" stroke=\"#000000\" fill=\"#ffffff\" id=\"drup_elem_29_endpoint_0\" style=\"stroke-width: 1; opacity: 0;\" class=\"endPoint up sub\" transform=\"matrix(1,0,0,1,-6.4997,-10)\"></circle><circle cx=\"325.79998779296875\" cy=\"106.72500610351562\" r=\"5\" stroke=\"#000000\" fill=\"#ffffff\" id=\"drup_elem_29_endpoint_1\" style=\"stroke-width: 1; opacity: 0;\" class=\"endPoint down sub\" transform=\"matrix(1,0,0,1,-6.4997,-15.0001)\"></circle><circle cx=\"278.79998779296875\" cy=\"59.725006103515625\" r=\"5\" stroke=\"#000000\" fill=\"#ffffff\" id=\"drup_elem_29_endpoint_2\" style=\"stroke-width: 1; opacity: 0;\" class=\"endPoint left sub\" transform=\"matrix(1,0,0,1,10.9745,-12.5)\"></circle><circle cx=\"372.79998779296875\" cy=\"59.725006103515625\" r=\"5\" stroke=\"#000000\" fill=\"#ffffff\" id=\"drup_elem_29_endpoint_3\" style=\"stroke-width: 1; opacity: 0;\" class=\"endPoint right sub\" transform=\"matrix(1,0,0,1,-23.9739,-12.5)\"></circle><text x=\"325.79998779296875\" y=\"59.72500228881836\" style=\"font-size: 20px; text-anchor: middle; alignment-baseline: central; opacity: 0;\" class=\"egal-label sub\" transform=\"matrix(1,0,0,1,-6.4927,-12.5001)\">|</text></g><g id=\"drup_elem_2\" class=\"drupElem\"><circle cx=\"96.79998779296875\" cy=\"90.72500610351562\" r=\"63\" vector-effect=\"non-scaling-stroke\" fill=\"#ffffff\" stroke=\"#000000\" style=\"stroke-width: 1;\" class=\"core alignable sub\" transform=\"matrix(1,0,0,0.7063,26,-18.8585)\"></circle><circle cx=\"96.79998779296875\" cy=\"27.725006103515625\" r=\"5\" stroke=\"#000000\" fill=\"#ffffff\" id=\"drup_elem_2_endpoint_0\" style=\"stroke-width: 1; opacity: 0;\" class=\"endPoint up sub\" transform=\"matrix(1,0,0,1,26,-27)\"></circle><circle cx=\"96.79998779296875\" cy=\"153.72500610351562\" r=\"5\" stroke=\"#000000\" fill=\"#ffffff\" id=\"drup_elem_2_endpoint_1\" style=\"stroke-width: 1; opacity: 0;\" class=\"endPoint down sub\" transform=\"matrix(1,0,0,1,26,-64)\"></circle><circle cx=\"33.79998779296875\" cy=\"90.72500610351562\" r=\"5\" stroke=\"#000000\" fill=\"#ffffff\" id=\"drup_elem_2_endpoint_2\" style=\"stroke-width: 1; opacity: 0;\" class=\"endPoint left sub\" transform=\"matrix(1,0,0,1,26,-45.5)\"></circle><circle cx=\"159.79998779296875\" cy=\"90.72500610351562\" r=\"5\" stroke=\"#000000\" fill=\"#ffffff\" id=\"drup_elem_2_endpoint_3\" style=\"stroke-width: 1; opacity: 0;\" class=\"endPoint right sub\" transform=\"matrix(1,0,0,1,26,-45.5)\"></circle><text x=\"96.79998779296875\" y=\"90.72500610351562\" style=\"font-size: 20px; text-anchor: middle; alignment-baseline: central; opacity: 0;\" class=\"egal-label sub\" transform=\"matrix(1,0,0,1,26,-45.5005)\">|</text></g><g id=\"drup_elem_1\" class=\"drupElem\"><circle cx=\"96.79998779296875\" cy=\"90.72500610351562\" r=\"63\" vector-effect=\"non-scaling-stroke\" fill=\"#ffffff\" stroke=\"#000000\" style=\"stroke-width: 1;\" class=\"core alignable sub\" transform=\"matrix(1,0,0,0.7063,-20,-17.8585)\"></circle><circle cx=\"96.79998779296875\" cy=\"27.725006103515625\" r=\"5\" stroke=\"#000000\" fill=\"#ffffff\" id=\"drup_elem_1_endpoint_0\" style=\"stroke-width: 1; opacity: 0;\" class=\"endPoint up sub\" transform=\"matrix(1,0,0,1,-20,-26)\"></circle><circle cx=\"96.79998779296875\" cy=\"153.72500610351562\" r=\"5\" stroke=\"#000000\" fill=\"#ffffff\" id=\"drup_elem_1_endpoint_1\" style=\"stroke-width: 1; opacity: 0;\" class=\"endPoint down sub\" transform=\"matrix(1,0,0,1,-20,-63)\"></circle><circle cx=\"33.79998779296875\" cy=\"90.72500610351562\" r=\"5\" stroke=\"#000000\" fill=\"#ffffff\" id=\"drup_elem_1_endpoint_2\" style=\"stroke-width: 1; opacity: 0;\" class=\"endPoint left sub\" transform=\"matrix(1,0,0,1,-20,-44.5)\"></circle><circle cx=\"159.79998779296875\" cy=\"90.72500610351562\" r=\"5\" stroke=\"#000000\" fill=\"#ffffff\" id=\"drup_elem_1_endpoint_3\" style=\"stroke-width: 1; opacity: 0;\" class=\"endPoint right sub\" transform=\"matrix(1,0,0,1,-20,-44.5)\"></circle><text x=\"96.79998779296875\" y=\"90.72500610351562\" style=\"font-size: 20px; text-anchor: middle; alignment-baseline: central; opacity: 0;\" class=\"egal-label sub\" transform=\"matrix(1,0,0,1,-20,-44.5005)\">|</text></g><desc>Created with Snap</desc><defs><filter id=\"Sj2rrbxr2r\" filterUnits=\"userSpaceOnUse\"><feGaussianBlur in=\"SourceAlpha\" stdDeviation=\"3\"></feGaussianBlur><feOffset dx=\"0\" dy=\"2\" result=\"offsetblur\"></feOffset><feFlood flood-color=\"#000000\"></feFlood><feComposite in2=\"offsetblur\" operator=\"in\"></feComposite><feComponentTransfer><feFuncA type=\"linear\" slope=\"1\"></feFuncA></feComponentTransfer><feMerge><feMergeNode></feMergeNode><feMergeNode in=\"SourceGraphic\"></feMergeNode></feMerge></filter><marker viewBox=\"0 0 10 10\" markerWidth=\"10\" markerHeight=\"10\" orient=\"auto\" refX=\"9\" refY=\"3\" id=\"arrowEndMarker\"><polygon points=\"0,0,0,6,9,3,0,0\" fill=\"#323232\" id=\"arrow\"></polygon></marker><marker viewBox=\"0 0 10 10\" markerWidth=\"10\" markerHeight=\"10\" orient=\"auto\" refX=\"0\" refY=\"3\" id=\"arrowStartMarker\"><polygon points=\"0,3,9,0,9,6,0,3\" fill=\"#323232\" id=\"startArrow\"></polygon></marker><filter id=\"Sj2ruct2or\" filterUnits=\"userSpaceOnUse\"><feGaussianBlur in=\"SourceAlpha\" stdDeviation=\"3\"></feGaussianBlur><feOffset dx=\"0\" dy=\"2\" result=\"offsetblur\"></feOffset><feFlood flood-color=\"#000000\"></feFlood><feComposite in2=\"offsetblur\" operator=\"in\"></feComposite><feComponentTransfer><feFuncA type=\"linear\" slope=\"1\"></feFuncA></feComponentTransfer><feMerge><feMergeNode></feMergeNode><feMergeNode in=\"SourceGraphic\"></feMergeNode></feMerge></filter><marker viewBox=\"0 0 10 10\" markerWidth=\"10\" markerHeight=\"10\" orient=\"auto\" refX=\"9\" refY=\"3\" id=\"arrowEndMarker\"><polygon points=\"0,0,0,6,9,3,0,0\" fill=\"#323232\" id=\"arrow\"></polygon></marker><marker viewBox=\"0 0 10 10\" markerWidth=\"10\" markerHeight=\"10\" orient=\"auto\" refX=\"0\" refY=\"3\" id=\"arrowStartMarker\"><polygon points=\"0,3,9,0,9,6,0,3\" fill=\"#323232\" id=\"startArrow\"></polygon></marker><filter id=\"Sj2rvqfx12x\" filterUnits=\"userSpaceOnUse\"><feGaussianBlur in=\"SourceAlpha\" stdDeviation=\"3\"></feGaussianBlur><feOffset dx=\"0\" dy=\"2\" result=\"offsetblur\"></feOffset><feFlood flood-color=\"#000000\"></feFlood><feComposite in2=\"offsetblur\" operator=\"in\"></feComposite><feComponentTransfer><feFuncA type=\"linear\" slope=\"1\"></feFuncA></feComponentTransfer><feMerge><feMergeNode></feMergeNode><feMergeNode in=\"SourceGraphic\"></feMergeNode></feMerge></filter><marker viewBox=\"0 0 10 10\" markerWidth=\"10\" markerHeight=\"10\" orient=\"auto\" refX=\"9\" refY=\"3\" id=\"arrowEndMarker\"><polygon points=\"0,0,0,6,9,3,0,0\" fill=\"#323232\" id=\"arrow\"></polygon></marker><marker viewBox=\"0 0 10 10\" markerWidth=\"10\" markerHeight=\"10\" orient=\"auto\" refX=\"0\" refY=\"3\" id=\"arrowStartMarker\"><polygon points=\"0,3,9,0,9,6,0,3\" fill=\"#323232\" id=\"startArrow\"></polygon></marker></defs><g id=\"drup_elem_3\" class=\"drupElem\"><text x=\"35.79998779296875\" y=\"24.725006103515625\" class=\"core alignable sub egal-label\" style=\"text-anchor: middle; alignment-baseline: central;\"></text></g><g id=\"drup_elem_4\" class=\"drupElem\"><text x=\"41.79998779296875\" y=\"86.72500610351562\" class=\"core alignable sub egal-label\" style=\"text-anchor: middle; alignment-baseline: central; font-size: 20px;\"></text></g><g id=\"drup_elem_5\" class=\"drupElem\"><text x=\"30.79998779296875\" y=\"50.725006103515625\" class=\"core alignable sub egal-label\" style=\"text-anchor: middle; alignment-baseline: central; font-size: 20px;\" data-src=\"1\" transform=\"matrix(1,0,0,1,10,-25)\">1</text></g><g id=\"drup_elem_6\" class=\"drupElem\"><text x=\"29.79998779296875\" y=\"68.72500610351562\" class=\"core alignable sub egal-label\" style=\"text-anchor: middle; alignment-baseline: central; font-size: 20px;\" data-src=\"2\" transform=\"matrix(1,0,0,1,16,-8)\">2</text></g><g id=\"drup_elem_8\" class=\"drupElem\"><text x=\"105.79998779296875\" y=\"93.72500610351562\" class=\"core alignable sub egal-label\" style=\"text-anchor: middle; alignment-baseline: central; font-size: 20px;\" data-src=\"4\" transform=\"matrix(1,0,0,1,4,-36)\">4</text></g><g id=\"drup_elem_28\" class=\"drupElem\"><text x=\"105.79998779296875\" y=\"93.72500610351562\" class=\"core alignable sub egal-label\" style=\"text-anchor: middle; alignment-baseline: central; font-size: 20px;\" data-src=\"4\" transform=\"matrix(1,0,0,1,211,-31)\">4</text></g><g id=\"drup_elem_9\" class=\"drupElem\"><text x=\"155.79998779296875\" y=\"43.725006103515625\" class=\"core alignable sub egal-label\" style=\"text-anchor: middle; alignment-baseline: central; font-size: 20px;\" data-src=\"5\" transform=\"matrix(1.0894,0,0,1,-14.4288,-22)\">5</text></g><g id=\"drup_elem_10\" class=\"drupElem\"><text x=\"148.79998779296875\" y=\"98.72500610351562\" class=\"core alignable sub egal-label\" style=\"text-anchor: middle; alignment-baseline: central; font-size: 20px;\" data-src=\"6\" transform=\"matrix(1,0,0,1,211,-36)\">6</text></g><g id=\"drup_elem_29\" class=\"drupElem\"><text x=\"148.79998779296875\" y=\"98.72500610351562\" class=\"core alignable sub egal-label\" style=\"text-anchor: middle; alignment-baseline: central; font-size: 20px;\" data-src=\"6\" transform=\"matrix(1,0,0,1,8,-39)\">6</text></g><g id=\"drup_elem_11\" class=\"drupElem\"><text x=\"32.79998779296875\" y=\"70.72500610351562\" class=\"core alignable sub egal-label\" style=\"text-anchor: middle; alignment-baseline: central; font-size: 20px;\"></text></g><g id=\"drup_elem_12\" class=\"drupElem\"><text x=\"100.79998779296875\" y=\"47.725006103515625\" class=\"core alignable sub egal-label\" style=\"text-anchor: middle; alignment-baseline: central; font-size: 20px;\" data-src=\"3\" transform=\"matrix(1,0,0,1,8,-28)\">3</text></g><g id=\"drup_elem_13\" class=\"drupElem\"><line x1=\"71.79998779296875\" x2=\"100.79998779296875\" y1=\"43.725006103515625\" y2=\"3.725006103515625\" fill=\"#ffffff\" stroke=\"#000000\" vector-effect=\"non-scaling-stroke\" style=\"stroke-width: 1;\" class=\"core alignable sub egal-line\" transform=\"matrix(0.6552,0,0,0.45,34.7586,2.0488)\"></line><text x=\"86.29998779296875\" y=\"23.725006103515625\" style=\"font-size: 20px; text-anchor: middle; alignment-baseline: central; opacity: 0;\" class=\"egal-label sub\" transform=\"matrix(1,0,0,1,5.0065,-11.0009)\">|</text></g><g id=\"drup_elem_14\" class=\"drupElem\"><line x1=\"72.79998779296875\" x2=\"100.79998779296875\" y1=\"42.725006103515625\" y2=\"85.72500610351562\" fill=\"#ffffff\" stroke=\"#000000\" vector-effect=\"non-scaling-stroke\" style=\"stroke-width: 1;\" class=\"core alignable sub egal-line\" transform=\"matrix(0.6786,0,0,0.3953,32.4,51.8337)\"></line><text x=\"86.79998779296875\" y=\"64.22500610351562\" style=\"font-size: 20px; text-anchor: middle; alignment-baseline: central; opacity: 0;\" class=\"egal-label sub\" transform=\"matrix(1,0,0,1,4.506,12.9991)\">|</text></g><g id=\"drup_elem_17\" class=\"drupElem\"><text x=\"269.79998779296875\" y=\"37.725006103515625\" class=\"core alignable sub egal-label\" style=\"text-anchor: middle; alignment-baseline: central; font-size: 20px;\" data-src=\"1\" transform=\"matrix(1,0,0,1,0,-14)\">1</text></g><g id=\"drup_elem_18\" class=\"drupElem\"><text x=\"241.79998779296875\" y=\"97.72500610351562\" class=\"core alignable sub egal-label\" style=\"text-anchor: middle; alignment-baseline: central;\"></text></g><g id=\"drup_elem_19\" class=\"drupElem\"><text x=\"256.79998779296875\" y=\"82.72500610351562\" class=\"core alignable sub egal-label\" style=\"text-anchor: middle; alignment-baseline: central; font-size: 20px;\" data-src=\"2\" transform=\"matrix(1,0,0,1,14,-26)\">2</text></g><g id=\"drup_elem_20\" class=\"drupElem\"><text x=\"259.79998779296875\" y=\"159.72500610351562\" class=\"core alignable sub egal-label\" style=\"text-anchor: middle; alignment-baseline: central;\"></text></g><g id=\"drup_elem_21\" class=\"drupElem\"><text x=\"304.79998779296875\" y=\"10.725006103515625\" class=\"core alignable sub egal-label\" style=\"text-anchor: middle; alignment-baseline: central;\"></text></g><g id=\"drup_elem_22\" class=\"drupElem\"><text x=\"308.79998779296875\" y=\"57.725006103515625\" class=\"core alignable sub egal-label\" style=\"text-anchor: middle; alignment-baseline: central;\"></text></g><g id=\"drup_elem_23\" class=\"drupElem\"><text x=\"356.79998779296875\" y=\"20.725006103515625\" class=\"core alignable sub egal-label\" style=\"text-anchor: middle; alignment-baseline: central;\"></text></g><g id=\"drup_elem_24\" class=\"drupElem\"><text x=\"308.79998779296875\" y=\"30.725006103515625\" class=\"core alignable sub egal-label\" style=\"text-anchor: middle; alignment-baseline: central; font-size: 20px;\" data-src=\"3\" transform=\"matrix(1,0,0,1,13,-7)\">3</text></g><g id=\"drup_elem_26\" class=\"drupElem\"><text x=\"354.79998779296875\" y=\"40.725006103515625\" class=\"core alignable sub egal-label\" style=\"text-anchor: middle; alignment-baseline: central; font-size: 20px;\" data-src=\"5\" transform=\"matrix(1,0,0,1,9,-16)\">5</text></g><g id=\"drup_elem_30\" class=\"drupElem\"><line x1=\"82.79998779296875\" x2=\"76.79998779296875\" y1=\"22.125\" y2=\"39.125\" fill=\"#ffffff\" stroke=\"#000000\" vector-effect=\"non-scaling-stroke\" style=\"stroke-width: 1;\" class=\"core alignable sub egal-line\"></line><text x=\"79.79998779296875\" y=\"30.625\" style=\"font-size: 20px; text-anchor: middle; alignment-baseline: central; opacity: 0;\" class=\"egal-label sub\">|</text></g><g id=\"drup_elem_31\" class=\"drupElem\"><line x1=\"82.79998779296875\" x2=\"75.79998779296875\" y1=\"69.125\" y2=\"56.125\" fill=\"#ffffff\" stroke=\"#000000\" vector-effect=\"non-scaling-stroke\" style=\"stroke-width: 1;\" class=\"core alignable sub egal-line\"></line><text x=\"79.29998779296875\" y=\"62.625\" style=\"font-size: 20px; text-anchor: middle; alignment-baseline: central; opacity: 0;\" class=\"egal-label sub\">|</text></g><g id=\"drup_elem_32\" class=\"drupElem\"><line x1=\"75.79998779296875\" x2=\"76.79998779296875\" y1=\"56.125\" y2=\"39.125\" fill=\"#ffffff\" stroke=\"#000000\" vector-effect=\"non-scaling-stroke\" style=\"stroke-width: 1;\" class=\"core alignable sub egal-line\"></line><text x=\"76.29998779296875\" y=\"47.625\" style=\"font-size: 20px; text-anchor: middle; alignment-baseline: central; opacity: 0;\" class=\"egal-label sub\">|</text></g></svg>"
   ]
  },
  {
   "cell_type": "code",
   "execution_count": 21,
   "metadata": {
    "code_folding": [
     0
    ],
    "hidden": true
   },
   "outputs": [
    {
     "name": "stdout",
     "output_type": "stream",
     "text": [
      "{3, 4}\n"
     ]
    }
   ],
   "source": [
    "#es intersezione\n",
    "A = {1,2,3,4}\n",
    "B = {3,4,5,6}\n",
    "C = A.intersection(B)\n",
    "print(C)"
   ]
  },
  {
   "cell_type": "markdown",
   "metadata": {
    "heading_collapsed": true,
    "hidden": true
   },
   "source": [
    "#### Proprietà delle operazioni unione e intersezione"
   ]
  },
  {
   "cell_type": "markdown",
   "metadata": {
    "hidden": true
   },
   "source": [
    "__proprietà commutativa__<br>\n",
    "si può invertire l'ordine degli operandi, non cambia il risultato: <br>\n",
    "$A \\cup B = B \\cup A \\\\\n",
    " A \\cap B = B \\cup A $\n",
    "\n",
    "__proprietà associativa__<br>\n",
    "si può sostituire il risultato dell'operazione fra due operandi per compiere la stessa operazione con un successivo nell'ordine che si preferisce, il risultato non cambia (in sostanza non occorrono le parentesi).<br>\n",
    "$(A \\cup B) \\cup C = A \\cup (B \\cup C) = A \\cup B \\cup C \\\\\n",
    " (A \\cap B) \\cap C = A \\cap (B \\cap C) = A \\cap B \\cap C$\n",
    " \n",
    "__idempotenza__<br>\n",
    "L'operazione sullo stesso operando restituisce lo stesso operando <br>\n",
    "$A \\cup A = A \\\\\n",
    " A \\cap A = A $\n",
    "\n",
    "__proprietà dell'insieme vuoto__<br>\n",
    "L'insieme vuoto per l'unione è neutro mentre per l'intersezione è assorbente.<br>\n",
    "$A \\cup \\emptyset = \\emptyset \\cup A = A \\\\\n",
    " A \\cap \\emptyset = \\emptyset \\cap A = \\emptyset $\n",
    " \n",
    "__proprietà distributiva__<br>\n",
    "Unire un insieme con l'intersezione di altri due insiemi corrisponde a unire uno alla volta i due insiemi con il primo e poi fare l'intersezione dei due insiemi risultanti.\n",
    "Stessa cosa viceversa.\n",
    "Intersecare un insieme con l'unione di altri due insiemi equivale a intersecare uno alla volta i due insiemi con il primo e poi fare l'unione dei due insiemi risultanti.<br>\n",
    "In sostanza nel primo caso l'unione fra A e gli elementi in comune di B e C corrisponde agli elementi in comune che hanno l'unione fra A e B & A e C.<br>\n",
    "Nel secondo caso gli elementi in comune fra l'insieme A e l'unione di B e C corrispondono all'unione degli elementi in comune fra A e B & B e C.<br>\n",
    "$A \\cup (B \\cap C) = (A \\cup B) \\cap (A \\cup C) \\\\\n",
    " A \\cap (B \\cup C) = (A \\cap B) \\cup (A \\cap C) $\n",
    "\n",
    "__proprietà di assorbimento__<br>\n",
    "Unire un insieme con l'intersecazione di questo e un altro insieme restituisce il primo insieme, perché gli elementi in comune con il secondo insieme sono già tutti nel primo.\n",
    "Stessa cosa viceversa.\n",
    "Intersecare un insieme con l'unione di questo e un altro insieme restituisce il primo insieme, perché tutti gli elementi del secondo insieme non sono nel primo.<br>\n",
    "$A \\cup (A \\cap B) = A \\\\\n",
    " A \\cap (A \\cup B) = A $\n",
    "\n",
    "\n",
    "\n"
   ]
  },
  {
   "cell_type": "code",
   "execution_count": 111,
   "metadata": {
    "code_folding": [
     0
    ],
    "hidden": true
   },
   "outputs": [
    {
     "name": "stdout",
     "output_type": "stream",
     "text": [
      "A = ['🌵', '🍌', '🎄']\n",
      "B = ['🌵', '🍸', '🍺']\n",
      "C = ['🍌', '🍫', '🍸']\n",
      "\n",
      "proprietà commutativa\n",
      "A∪B = B∪A   True: ['🌵', '🍌', '🍸', '🍺', '🎄']\n",
      "A∩B = B∪A   True: ['🌵']\n",
      "\n",
      "proprietà associativa\n",
      "(A∪B)∪C = A∪(B∪C) = A∪B∪C   True: ['🌵', '🍌', '🍫', '🍸', '🍺', '🎄']\n",
      "(A∩B)∩C = A∩(B∩C) = A∩B∩C   True: []\n",
      "\n",
      "idempotenza\n",
      "A∪A = A   True: ['🌵', '🍌', '🎄']\n",
      "A∩A = A   True: ['🌵', '🍌', '🎄']\n",
      "\n",
      "insieme vuoto\n",
      "A∪∅ = ∅∪A = A   True: ['🌵', '🍌', '🎄']\n",
      "A∩∅ = ∅∩A = ∅   True: []\n",
      "\n",
      "distributiva\n",
      "A∪(B∩C) = (A∪B)∩(A∪C)   True: ['🌵', '🍌', '🍸', '🎄']\n",
      "A∩(B∪C) = (A∩B)∪(A∩C)   True: ['🌵', '🍌']\n",
      "\n",
      "assorbimento\n",
      "A∪(A∩B) = A   True: ['🌵', '🍌', '🎄']\n",
      "A∩(A∪B) = A   True: ['🌵', '🍌', '🎄']\n",
      "\n"
     ]
    }
   ],
   "source": [
    "#es insiemi\n",
    "A = {'🎄', '🌵', '🍌'} #🌰 🍵 🌲 🍍\n",
    "B = {'🍺', '🌵', '🍸'}\n",
    "C = {'🍫', '🍌', '🍸'}\n",
    "\n",
    "\n",
    "print(f\"A = {sorted(A)}\", f\"B = {sorted(B)}\", f\"C = {sorted(C)}\", sep=\"\\n\", end=\"\\n\\n\")\n",
    "\n",
    "# | operatore di unione (o anche or)\n",
    "# & operatore di intersezione (o anche and)\n",
    "\n",
    "#commutativa\n",
    "r1 = A|B == B|A\n",
    "r2 = A&B == B&A \n",
    "print(\"proprietà commutativa\",\n",
    "      f\"A∪B = B∪A   {r1}: {sorted(A|B)}\",\n",
    "      f\"A∩B = B∪A   {r2}: {sorted(A&B)}\",\n",
    "      sep=\"\\n\", end=\"\\n\\n\"\n",
    "     )\n",
    "\n",
    "#associativa\n",
    "r1 = (A|B)|C == A|(B|C) == A|B|C\n",
    "r2 = (A&B)&C == A&(B&C) == A&B&C\n",
    "print(\"proprietà associativa\",\n",
    "      f\"(A∪B)∪C = A∪(B∪C) = A∪B∪C   {r1}: {sorted(A|B|C)}\",\n",
    "      f\"(A∩B)∩C = A∩(B∩C) = A∩B∩C   {r2}: {sorted(A&B&C)}\",\n",
    "      sep=\"\\n\", end=\"\\n\\n\"\n",
    "     )\n",
    "\n",
    "#idempotenza\n",
    "r1 = A | A == A\n",
    "r2 = A & A == A\n",
    "print(\"idempotenza\",\n",
    "      f\"A∪A = A   {r1}: {sorted(A|A)}\",\n",
    "      f\"A∩A = A   {r2}: {sorted(A&A)}\",\n",
    "      sep=\"\\n\", end=\"\\n\\n\"\n",
    "     )\n",
    "\n",
    "#insieme vuoto\n",
    "r1 = A | set() == set() | A == A\n",
    "r2 = A & set() == set() & A == set()\n",
    "print(\"insieme vuoto\",\n",
    "      f\"A∪∅ = ∅∪A = A   {r1}: {sorted(A|set())}\",\n",
    "      f\"A∩∅ = ∅∩A = ∅   {r2}: {sorted(B&set())}\",\n",
    "      sep=\"\\n\", end=\"\\n\\n\"\n",
    "     )\n",
    "\n",
    "#distributiva\n",
    "r1 = A | (B & C) == (A | B) & (A | C)\n",
    "r2 = A & (B | C) == (A & B) | (A & C)\n",
    "print(\"distributiva\",\n",
    "      f\"A∪(B∩C) = (A∪B)∩(A∪C)   {r1}: {sorted(A|(B&C))}\",\n",
    "      f\"A∩(B∪C) = (A∩B)∪(A∩C)   {r2}: {sorted(A&(B|C))}\",\n",
    "      sep=\"\\n\", end=\"\\n\\n\"\n",
    "     )\n",
    "\n",
    "#assorbimento\n",
    "r1 = A | (A & B) == A\n",
    "r2 = A & (A | B) == A\n",
    "print(\"assorbimento\",\n",
    "      f\"A∪(A∩B) = A   {r1}: {sorted(A|(A&B))}\",\n",
    "      f\"A∩(A∪B) = A   {r2}: {sorted(A&(A|B))}\",\n",
    "      sep=\"\\n\", end=\"\\n\\n\"\n",
    "     )"
   ]
  },
  {
   "cell_type": "markdown",
   "metadata": {
    "heading_collapsed": true,
    "hidden": true
   },
   "source": [
    "#### Differenza"
   ]
  },
  {
   "cell_type": "markdown",
   "metadata": {
    "hidden": true
   },
   "source": [
    "__si esegue una differenza fra due insiemi quando si sottraggono tutti gli elementi del secondo insieme al primo__\n",
    "\n",
    "Si può indicare la differenza o col simbolo __-__ o con il simbolo __\\__ <br>\n",
    "$ A = \\left\\{1,2,3,4\\right\\} \\\\\n",
    "  B = \\left\\{3,4,5,6\\right\\} \\\\\n",
    "  A-B = A \\backslash B = \\left\\{1,2\\right\\}$\n",
    "\n",
    "Se l'insieme sottratto è un sottoinsieme di quello da sottrarre allora si parla di __differenza complementare__<br>\n",
    "$ A = \\left\\{1,2,3,4\\right\\} \\\\\n",
    "  B = \\left\\{3,4\\right\\} \\\\\n",
    "  A-B = A \\backslash B = \\left\\{1,2\\right\\}$"
   ]
  },
  {
   "cell_type": "raw",
   "metadata": {
    "hidden": true,
    "hide_egal": true,
    "is_egal": true
   },
   "source": [
    "<svg height=\"100\" width=\"100%\"><g id=\"drup_elem_1\" class=\"drupElem egal-select\"><circle cx=\"200.914794921875\" cy=\"116.04830932617188\" r=\"81\" vector-effect=\"non-scaling-stroke\" fill=\"#6666ff\" stroke=\"#000000\" style=\"stroke-width: 1;\" class=\"core alignable sub\" transform=\"matrix(0.9383,0,0,0.5679,-92.6125,-14.8556)\"></circle><circle cx=\"200.914794921875\" cy=\"35.048309326171875\" r=\"5\" stroke=\"#000000\" fill=\"#ffffff\" id=\"drup_elem_1_endpoint_0\" style=\"stroke-width: 1; opacity: 0;\" class=\"endPoint up sub\" transform=\"matrix(1,0,0,1,-104.9994,-30.0001)\"></circle><circle cx=\"200.914794921875\" cy=\"197.04830932617188\" r=\"5\" stroke=\"#000000\" fill=\"#ffffff\" id=\"drup_elem_1_endpoint_1\" style=\"stroke-width: 1; opacity: 0;\" class=\"endPoint down sub\" transform=\"matrix(1,0,0,1,-104.9994,-100.0006)\"></circle><circle cx=\"119.914794921875\" cy=\"116.04830932617188\" r=\"5\" stroke=\"#000000\" fill=\"#ffffff\" id=\"drup_elem_1_endpoint_2\" style=\"stroke-width: 1; opacity: 0;\" class=\"endPoint left sub\" transform=\"matrix(1,0,0,1,-100.0056,-65.0003)\"></circle><circle cx=\"281.914794921875\" cy=\"116.04830932617188\" r=\"5\" stroke=\"#000000\" fill=\"#ffffff\" id=\"drup_elem_1_endpoint_3\" style=\"stroke-width: 1; opacity: 0;\" class=\"endPoint right sub\" transform=\"matrix(1,0,0,1,-109.9933,-65.0003)\"></circle><text x=\"200.914794921875\" y=\"116.04830932617188\" style=\"font-size: 20px; text-anchor: middle; alignment-baseline: central; opacity: 0;\" class=\"egal-label sub\" transform=\"matrix(1,0,0,1,-104.9989,-64.9997)\">|</text></g><desc>Created with Snap</desc><defs><filter id=\"Sj2rvqfx1un\" filterUnits=\"userSpaceOnUse\"><feGaussianBlur in=\"SourceAlpha\" stdDeviation=\"3\"></feGaussianBlur><feOffset dx=\"0\" dy=\"2\" result=\"offsetblur\"></feOffset><feFlood flood-color=\"#000000\"></feFlood><feComposite in2=\"offsetblur\" operator=\"in\"></feComposite><feComponentTransfer><feFuncA type=\"linear\" slope=\"1\"></feFuncA></feComponentTransfer><feMerge><feMergeNode></feMergeNode><feMergeNode in=\"SourceGraphic\"></feMergeNode></feMerge></filter><marker viewBox=\"0 0 10 10\" markerWidth=\"10\" markerHeight=\"10\" orient=\"auto\" refX=\"9\" refY=\"3\" id=\"arrowEndMarker\"><polygon points=\"0,0,0,6,9,3,0,0\" fill=\"#323232\" id=\"arrow\"></polygon></marker><marker viewBox=\"0 0 10 10\" markerWidth=\"10\" markerHeight=\"10\" orient=\"auto\" refX=\"0\" refY=\"3\" id=\"arrowStartMarker\"><polygon points=\"0,3,9,0,9,6,0,3\" fill=\"#323232\" id=\"startArrow\"></polygon></marker><filter id=\"Sj2y4u5fh59\" filterUnits=\"userSpaceOnUse\"><feGaussianBlur in=\"SourceAlpha\" stdDeviation=\"3\"></feGaussianBlur><feOffset dx=\"0\" dy=\"2\" result=\"offsetblur\"></feOffset><feFlood flood-color=\"#000000\"></feFlood><feComposite in2=\"offsetblur\" operator=\"in\"></feComposite><feComponentTransfer><feFuncA type=\"linear\" slope=\"1\"></feFuncA></feComponentTransfer><feMerge><feMergeNode></feMergeNode><feMergeNode in=\"SourceGraphic\"></feMergeNode></feMerge></filter><marker viewBox=\"0 0 10 10\" markerWidth=\"10\" markerHeight=\"10\" orient=\"auto\" refX=\"9\" refY=\"3\" id=\"arrowEndMarker\"><polygon points=\"0,0,0,6,9,3,0,0\" fill=\"#323232\" id=\"arrow\"></polygon></marker><marker viewBox=\"0 0 10 10\" markerWidth=\"10\" markerHeight=\"10\" orient=\"auto\" refX=\"0\" refY=\"3\" id=\"arrowStartMarker\"><polygon points=\"0,3,9,0,9,6,0,3\" fill=\"#323232\" id=\"startArrow\"></polygon></marker></defs><g id=\"drup_elem_2\" class=\"drupElem\"><circle cx=\"200.914794921875\" cy=\"116.04830932617188\" r=\"81\" vector-effect=\"non-scaling-stroke\" fill=\"#ffffff\" stroke=\"#000000\" style=\"stroke-width: 1;\" class=\"core alignable sub\" transform=\"matrix(0.9383,0,0,0.5679,-40.6125,-14.8556)\"></circle><circle cx=\"200.914794921875\" cy=\"35.048309326171875\" r=\"5\" stroke=\"#000000\" fill=\"#ffffff\" id=\"drup_elem_2_endpoint_0\" style=\"stroke-width: 1; opacity: 0;\" class=\"endPoint up sub\" transform=\"matrix(1,0,0,1,-52.9994,-30.0001)\"></circle><circle cx=\"200.914794921875\" cy=\"197.04830932617188\" r=\"5\" stroke=\"#000000\" fill=\"#ffffff\" id=\"drup_elem_2_endpoint_1\" style=\"stroke-width: 1; opacity: 0;\" class=\"endPoint down sub\" transform=\"matrix(1,0,0,1,-52.9994,-100.0006)\"></circle><circle cx=\"119.914794921875\" cy=\"116.04830932617188\" r=\"5\" stroke=\"#000000\" fill=\"#ffffff\" id=\"drup_elem_2_endpoint_2\" style=\"stroke-width: 1; opacity: 0;\" class=\"endPoint left sub\" transform=\"matrix(1,0,0,1,-48.0056,-65.0003)\"></circle><circle cx=\"281.914794921875\" cy=\"116.04830932617188\" r=\"5\" stroke=\"#000000\" fill=\"#ffffff\" id=\"drup_elem_2_endpoint_3\" style=\"stroke-width: 1; opacity: 0;\" class=\"endPoint right sub\" transform=\"matrix(1,0,0,1,-57.9933,-65.0003)\"></circle><text x=\"200.914794921875\" y=\"116.04830932617188\" style=\"font-size: 20px; text-anchor: middle; alignment-baseline: central; opacity: 0;\" class=\"egal-label sub\" transform=\"matrix(1,0,0,1,-52.9989,-64.9997)\">|</text></g><g id=\"drup_elem_3\" class=\"drupElem\"><line x1=\"121.914794921875\" x2=\"147.914794921875\" y1=\"9.355133056640625\" y2=\"39.355133056640625\" fill=\"#ffffff\" stroke=\"#000000\" vector-effect=\"non-scaling-stroke\" style=\"stroke-width: 1;\" class=\"core alignable sub egal-line\"></line><text x=\"134.914794921875\" y=\"24.355133056640625\" style=\"font-size: 20px; text-anchor: middle; alignment-baseline: central; opacity: 0;\" class=\"egal-label sub\">|</text></g><g id=\"drup_elem_4\" class=\"drupElem\"><line x1=\"146.914794921875\" x2=\"146.914794921875\" y1=\"40.355133056640625\" y2=\"72.35513305664062\" fill=\"#ffffff\" stroke=\"#000000\" vector-effect=\"non-scaling-stroke\" style=\"stroke-width: 1;\" class=\"core alignable sub egal-line\"></line><text x=\"146.914794921875\" y=\"56.355133056640625\" style=\"font-size: 20px; text-anchor: middle; alignment-baseline: central; opacity: 0;\" class=\"egal-label sub\">|</text></g><g id=\"drup_elem_5\" class=\"drupElem\"><line x1=\"145.914794921875\" x2=\"121.914794921875\" y1=\"72.35513305664062\" y2=\"102.35513305664062\" fill=\"#ffffff\" stroke=\"#000000\" vector-effect=\"non-scaling-stroke\" style=\"stroke-width: 1;\" class=\"core alignable sub egal-line\" transform=\"matrix(0.875,0,0,0.6667,18.2393,24.1184)\"></line><text x=\"133.914794921875\" y=\"87.35513305664062\" style=\"font-size: 20px; text-anchor: middle; alignment-baseline: central; opacity: 0;\" class=\"egal-label sub\" transform=\"matrix(1,0,0,1,1.5011,-5.0014)\">|</text></g><g id=\"drup_elem_6\" class=\"drupElem\"><text x=\"43.914794921875\" y=\"37.0823974609375\" class=\"core alignable sub egal-label\" style=\"text-anchor: middle; alignment-baseline: central;\"></text></g><g id=\"drup_elem_7\" class=\"drupElem\"><text x=\"63.914794921875\" y=\"104.0823974609375\" class=\"core alignable sub egal-label\" style=\"text-anchor: middle; alignment-baseline: central; font-size: 20px;\" data-src=\"2\" transform=\"matrix(1,0,0,1,-5,-30)\">2</text></g><g id=\"drup_elem_9\" class=\"drupElem\"><text x=\"343.914794921875\" y=\"103.0823974609375\" class=\"core alignable sub egal-label\" style=\"text-anchor: middle; alignment-baseline: central; font-size: 20px;\"></text></g><g id=\"drup_elem_10\" class=\"drupElem\"><text x=\"57.914794921875\" y=\"50.0823974609375\" class=\"core alignable sub egal-label\" style=\"text-anchor: middle; alignment-baseline: central; font-size: 20px;\" data-src=\"1\" transform=\"matrix(1,0,0,1,0,-12)\">1</text></g><g id=\"drup_elem_11\" class=\"drupElem\"><text x=\"105.914794921875\" y=\"35.0823974609375\" class=\"core alignable sub egal-label\" style=\"text-anchor: middle; alignment-baseline: central;\"></text></g><g id=\"drup_elem_12\" class=\"drupElem\"><text x=\"110.914794921875\" y=\"72.0823974609375\" class=\"core alignable sub egal-label\" style=\"text-anchor: middle; alignment-baseline: central;\"></text></g><g id=\"drup_elem_13\" class=\"drupElem\"><text x=\"103.914794921875\" y=\"32.0823974609375\" class=\"core alignable sub egal-label\" style=\"text-anchor: middle; alignment-baseline: central;\"></text></g><g id=\"drup_elem_14\" class=\"drupElem\"><text x=\"103.914794921875\" y=\"42.0823974609375\" class=\"core alignable sub egal-label\" style=\"text-anchor: middle; alignment-baseline: central; font-size: 20px;\" data-src=\"3\" transform=\"matrix(1,0,0,1,6,-9)\">3</text></g><g id=\"drup_elem_15\" class=\"drupElem\"><text x=\"113.914794921875\" y=\"92.0823974609375\" class=\"core alignable sub egal-label\" style=\"text-anchor: middle; alignment-baseline: central; font-size: 20px;\" data-src=\"4\" transform=\"matrix(1,0,0,1,1,-23)\">4</text></g><g id=\"drup_elem_16\" class=\"drupElem\"><text x=\"164.914794921875\" y=\"28.0823974609375\" class=\"core alignable sub egal-label\" style=\"text-anchor: middle; alignment-baseline: central; font-size: 20px;\" data-src=\"5\">5</text></g><g id=\"drup_elem_17\" class=\"drupElem\"><text x=\"171.914794921875\" y=\"70.0823974609375\" class=\"core alignable sub egal-label\" style=\"text-anchor: middle; alignment-baseline: central; font-size: 20px;\" data-src=\"6\">6</text></g><g id=\"drup_elem_18\" class=\"drupElem\"><text x=\"65.914794921875\" y=\"30.0823974609375\" class=\"core alignable sub egal-label\" style=\"text-anchor: middle; alignment-baseline: central; font-size: 20px;\"></text></g><g id=\"drup_elem_19\" class=\"drupElem\"><text x=\"314.914794921875\" y=\"66.0823974609375\" class=\"core alignable sub egal-label\" style=\"text-anchor: middle; alignment-baseline: central; font-size: 20px;\"></text></g><g id=\"drup_elem_20\" class=\"drupElem\"><circle cx=\"367.914794921875\" cy=\"54.62786865234375\" r=\"54\" vector-effect=\"non-scaling-stroke\" fill=\"#6666ff\" stroke=\"#000000\" style=\"stroke-width: 1;\" class=\"core alignable sub\" transform=\"matrix(1.3513,0,0,0.787,-159.2584,4.1337)\"></circle><circle cx=\"367.914794921875\" cy=\"0.62786865234375\" r=\"5\" stroke=\"#000000\" fill=\"#ffffff\" id=\"drup_elem_20_endpoint_0\" style=\"stroke-width: 1; opacity: 0;\" class=\"endPoint up sub\" transform=\"matrix(1,0,0,1,-30,4)\"></circle><circle cx=\"367.914794921875\" cy=\"108.62786865234375\" r=\"5\" stroke=\"#000000\" fill=\"#ffffff\" id=\"drup_elem_20_endpoint_1\" style=\"stroke-width: 1; opacity: 0;\" class=\"endPoint down sub\" transform=\"matrix(1,0,0,1,-30,-19.0003)\"></circle><circle cx=\"313.914794921875\" cy=\"54.62786865234375\" r=\"5\" stroke=\"#000000\" fill=\"#ffffff\" id=\"drup_elem_20_endpoint_2\" style=\"stroke-width: 1; opacity: 0;\" class=\"endPoint left sub\" transform=\"matrix(1,0,0,1,-48.9717,-7.5001)\"></circle><circle cx=\"421.914794921875\" cy=\"54.62786865234375\" r=\"5\" stroke=\"#000000\" fill=\"#ffffff\" id=\"drup_elem_20_endpoint_3\" style=\"stroke-width: 1; opacity: 0;\" class=\"endPoint right sub\" transform=\"matrix(1,0,0,1,-11.0284,-7.5001)\"></circle><text x=\"367.914794921875\" y=\"54.62786865234375\" style=\"font-size: 20px; text-anchor: middle; alignment-baseline: central; opacity: 0;\" class=\"egal-label sub\" transform=\"matrix(1,0,0,1,-30.003,-7.4995)\">|</text></g><g id=\"drup_elem_21\" class=\"drupElem\"><circle cx=\"366.914794921875\" cy=\"52.62786865234375\" r=\"38\" vector-effect=\"non-scaling-stroke\" fill=\"#ffffff\" stroke=\"#000000\" style=\"stroke-width: 1;\" class=\"core alignable sub\" transform=\"matrix(0.9869,0,0,1.0658,-5.6794,-9.9624)\"></circle><circle cx=\"366.914794921875\" cy=\"14.62786865234375\" r=\"5\" stroke=\"#000000\" fill=\"#ffffff\" id=\"drup_elem_21_endpoint_0\" style=\"stroke-width: 1; opacity: 0;\" class=\"endPoint up sub\" transform=\"matrix(1,0,0,1,-10.5,-9)\"></circle><circle cx=\"366.914794921875\" cy=\"90.62786865234375\" r=\"5\" stroke=\"#000000\" fill=\"#ffffff\" id=\"drup_elem_21_endpoint_1\" style=\"stroke-width: 1; opacity: 0;\" class=\"endPoint down sub\" transform=\"matrix(1,0,0,1,-10.5,-4)\"></circle><circle cx=\"328.914794921875\" cy=\"52.62786865234375\" r=\"5\" stroke=\"#000000\" fill=\"#ffffff\" id=\"drup_elem_21_endpoint_2\" style=\"stroke-width: 1; opacity: 0;\" class=\"endPoint left sub\" transform=\"matrix(1,0,0,1,-10.0007,-6.5)\"></circle><circle cx=\"404.914794921875\" cy=\"52.62786865234375\" r=\"5\" stroke=\"#000000\" fill=\"#ffffff\" id=\"drup_elem_21_endpoint_3\" style=\"stroke-width: 1; opacity: 0;\" class=\"endPoint right sub\" transform=\"matrix(1,0,0,1,-10.9993,-6.5)\"></circle><text x=\"366.914794921875\" y=\"52.62786865234375\" style=\"font-size: 20px; text-anchor: middle; alignment-baseline: central; opacity: 0;\" class=\"egal-label sub\" transform=\"matrix(1,0,0,1,-10.4999,-6.5002)\">|</text></g><g id=\"drup_elem_22\" class=\"drupElem\"><text x=\"353.914794921875\" y=\"34.62786865234375\" class=\"core alignable sub egal-label\" style=\"text-anchor: middle; alignment-baseline: central; font-size: 20px;\" data-src=\"3\" transform=\"matrix(1,0,0,1,0,-5)\">3</text></g><g id=\"drup_elem_23\" class=\"drupElem\"><text x=\"350.914794921875\" y=\"81.62786865234375\" class=\"core alignable sub egal-label\" style=\"text-anchor: middle; alignment-baseline: central; font-size: 20px;\" data-src=\"4\" transform=\"matrix(1,0,0,1,10,-15)\">4</text></g><g id=\"drup_elem_24\" class=\"drupElem\"><text x=\"295.914794921875\" y=\"27.62786865234375\" class=\"core alignable sub egal-label\" style=\"text-anchor: middle; alignment-baseline: central;\"></text></g><g id=\"drup_elem_25\" class=\"drupElem\"><text x=\"289.914794921875\" y=\"36.62786865234375\" class=\"core alignable sub egal-label\" style=\"text-anchor: middle; alignment-baseline: central; font-size: 20px;\" data-src=\"1\" transform=\"matrix(1,0,0,1,12,-2)\">1</text></g><g id=\"drup_elem_26\" class=\"drupElem\"><text x=\"294.914794921875\" y=\"82.62786865234375\" class=\"core alignable sub egal-label\" style=\"text-anchor: middle; alignment-baseline: central; font-size: 20px;\" data-src=\"2\" transform=\"matrix(1,0,0,1,6,-14)\">2</text></g><g id=\"drup_elem_29\" class=\"drupElem\"><text x=\"423.914794921875\" y=\"40.62786865234375\" class=\"core alignable sub egal-label\" style=\"text-anchor: middle; alignment-baseline: central;\"></text></g><g id=\"drup_elem_30\" class=\"drupElem\"><text x=\"432.914794921875\" y=\"35.62786865234375\" class=\"core alignable sub egal-label\" style=\"text-anchor: middle; alignment-baseline: central;\"></text></g><g id=\"drup_elem_31\" class=\"drupElem\"><text x=\"443.914794921875\" y=\"60.62786865234375\" class=\"core alignable sub egal-label\" style=\"text-anchor: middle; alignment-baseline: central; font-size: 20px;\"></text></g><g id=\"drup_elem_33\" class=\"drupElem\"><text x=\"457.914794921875\" y=\"55.62786865234375\" class=\"core alignable sub egal-label\" style=\"text-anchor: middle; alignment-baseline: central; font-size: 20px;\" data-src=\"differenza\" transform=\"matrix(1,0,0,1,18,-19)\">differenza</text></g><g id=\"drup_elem_34\" class=\"drupElem\"><text x=\"549.914794921875\" y=\"74.62786865234375\" class=\"core alignable sub egal-label\" style=\"text-anchor: middle; alignment-baseline: central; font-size: 20px;\" data-src=\"complementare\" transform=\"matrix(1,0,0,1,-44,-14)\">complementare</text></g><g id=\"drup_elem_35\" class=\"drupElem\"><text x=\"442.914794921875\" y=\"76.62786865234375\" class=\"core alignable sub egal-label\" style=\"text-anchor: middle; alignment-baseline: central; font-size: 20px;\"></text></g></svg>"
   ]
  },
  {
   "cell_type": "code",
   "execution_count": 127,
   "metadata": {
    "code_folding": [
     0
    ],
    "hidden": true
   },
   "outputs": [
    {
     "name": "stdout",
     "output_type": "stream",
     "text": [
      "A = {1, 2, 3, 4}\n",
      "B = {3, 4, 5, 6}\t\t(per la differenza)\n",
      "C = {3, 4}\t\t\t(per la differenza complementare)\n",
      "A−B = A∖B = {1, 2}\n",
      "A−C = A∖C = {1, 2}\n",
      "A−B = A∖B = {1, 2}\t complementare: False\n",
      "A−C = A∖C = {1, 2}\t complementare: True\n"
     ]
    }
   ],
   "source": [
    "#ed differenza\n",
    "A = {1,2,3,4}\n",
    "B = {3,4,5,6}\n",
    "C = {3,4}\n",
    "\n",
    "def is_compl_diff(s1, s2):\n",
    "    diff = s1.difference(s2)\n",
    "    comp = s2.issubset(s1)\n",
    "    return diff, comp\n",
    "    \n",
    "\n",
    "print(f'A = {A}\\nB = {B}\\t\\t(per la differenza)\\nC = {C}\\t\\t\\t(per la differenza complementare)')\n",
    "print('A−B = A∖B = {}\\t complementare: {}'.format(*is_compl_diff(A, B)))\n",
    "print('A−C = A∖C = {}\\t complementare: {}'.format(*is_compl_diff(A, C)))\n"
   ]
  },
  {
   "cell_type": "markdown",
   "metadata": {
    "heading_collapsed": true,
    "hidden": true
   },
   "source": [
    "#### Complementare di un insieme"
   ]
  },
  {
   "cell_type": "markdown",
   "metadata": {
    "hidden": true
   },
   "source": [
    "L'insieme complementare di un insieme rispetto a un altro corrisponde alla diferenza di quest'altro meno il primo.<br>\n",
    "$ A = \\left\\{1,2,3,4\\right\\} \\\\\n",
    "  B = \\left\\{3,4\\right\\} \\\\\n",
    "  A-B = A \\backslash B = \\left\\{1,2\\right\\} = \\overline{B}$\n",
    "<br>\n",
    "\n",
    "Unire un insieme con il suo complementare restituisce l'insieme di partenza (tutti gli elementi di A-B +B):<br>\n",
    "$ \\overline{B} \\cup B = A $<br>\n",
    "Intersecare un insieme con il suo complementare restituiscie un insieme vuoto (tutti gli elementi in comune fra B e tutti gli elementi di A-B):<br>\n",
    "$ \\overline{B} \\cap B = \\emptyset $\n",
    "\n",
    "Complementando due volte un insieme si ottiene di nuolo lo stesso insieme:\n",
    "$\\overline{\\overline{A}} = A$"
   ]
  },
  {
   "cell_type": "code",
   "execution_count": 42,
   "metadata": {
    "code_folding": [
     0
    ],
    "hidden": true
   },
   "outputs": [
    {
     "name": "stdout",
     "output_type": "stream",
     "text": [
      "A = {1, 2, 3, 4}\n",
      "B = {3, 4}\n",
      "B̅ = A-B = {1, 2}\n",
      "B̅ ∪ B = A = {1, 2, 3, 4}\n",
      "B̅ ∩ B = ∅ = set()\n",
      "B̿ = B = {3, 4} \n"
     ]
    }
   ],
   "source": [
    "#es insieme complementare relativo (differenza)\n",
    "A = {1,2,3,4}\n",
    "B = {3,4}\n",
    "B̅ = A - B\n",
    "print(f'A = {A}\\nB = {B}')\n",
    "print(f'B̅ = A-B = {B̅}')\n",
    "print(f'B̅ ∪ B = A = {B̅ | B}')\n",
    "print(f'B̅ ∩ B = ∅ = {B̅ & B}')\n",
    "print(f'B̿ = B = {A-B̅} ')"
   ]
  },
  {
   "cell_type": "markdown",
   "metadata": {
    "heading_collapsed": true,
    "hidden": true
   },
   "source": [
    "#### Insieme universo"
   ]
  },
  {
   "cell_type": "markdown",
   "metadata": {
    "hidden": true
   },
   "source": [
    "L'insieme universo $\\mathbb{E}$ è quell'insieme soprainsieme di qualsiasi altro, possiamo considerarlo come il complementare dell'insieme vuoto $\\emptyset$.<br>\n",
    "$\\overline{\\emptyset} = \\mathbb{E} \\quad\n",
    " \\mathbb{E} = \\overline{\\emptyset}\n",
    "$<br>\n",
    "\n",
    "Le proprietà dell'insieme universo sono:\n",
    "\n",
    "__per l'unione__\n",
    "$A \\cup \\mathbb{E} = \\mathbb{E} \\cup A = \\mathbb{E}$<br>\n",
    "__per l'intersezione__\n",
    "$A \\cap \\mathbb{E} = \\mathbb{E} \\cap A = A$<br>\n"
   ]
  },
  {
   "cell_type": "code",
   "execution_count": 27,
   "metadata": {
    "code_folding": [
     0
    ],
    "hidden": true
   },
   "outputs": [
    {
     "name": "stdout",
     "output_type": "stream",
     "text": [
      "A ∪ U = {1, 2, 3}\n",
      "U ∪ A = {1, 2, 3}\n",
      "A ∩ U = Universal_set()\n",
      "U ∩ A = Universal_set()\n"
     ]
    }
   ],
   "source": [
    "#approfondimenti http://fiber-space.de/wordpress/2009/04/16/universal-set-in-python/\n",
    "class Universal_set(set):\n",
    "    #unione\n",
    "    def __or__(self, other):\n",
    "        return self\n",
    "    def __ror__(self,other):\n",
    "        return self\n",
    "    #intersezione\n",
    "    def __and__(self, other):\n",
    "        return other\n",
    "    def __rand__(self, other):\n",
    "        return other\n",
    "\n",
    "\n",
    "U = Universal_set()\n",
    "A = {1,2,3}\n",
    "print(f\"A ∪ U = {A & U}\")\n",
    "print(f\"U ∪ A = {U & A}\")\n",
    "print(f\"A ∩ U = {A | U}\")\n",
    "print(f\"U ∩ A = {U | A}\")"
   ]
  },
  {
   "cell_type": "markdown",
   "metadata": {
    "heading_collapsed": true,
    "hidden": true
   },
   "source": [
    "#### Differenza simmetrica"
   ]
  },
  {
   "cell_type": "markdown",
   "metadata": {
    "hidden": true
   },
   "source": [
    "La differenza simmetrica fra due insiemi corrisponde all'unione degli elementi non comuni dei due insiemi.<br>\n",
    "$ A = \\left\\{1,2,3\\right\\} \\\\\n",
    "  B = \\left\\{2,3,4\\right\\} \\\\\n",
    "  A \\triangle B = B \\triangle A = \\left\\{1,4\\right\\} $\n",
    "\n",
    "Valgono le seguenti relazioni:<br>\n",
    "$A \\triangle B=(A-B) \\cup (B-A)\\quad$ unione delle differenze reciproche\n",
    "$A \\triangle B = (A \\cup B) - (A \\cap B) \\quad$ rimozione dell'intersezione all'unione\n",
    "\n",
    "E per proprietà transitiva seguirà l'uguaglianza notevole:<br>\n",
    "$(A-B) \\cup (B-A) = (A \\cup B) - (A \\cap B)$"
   ]
  },
  {
   "cell_type": "raw",
   "metadata": {
    "hidden": true,
    "hide_egal": true,
    "is_egal": true
   },
   "source": [
    "<svg height=\"100\" width=\"100%\"><desc>Created with Snap</desc><defs><filter id=\"Sj2y4u5fh7p\" filterUnits=\"userSpaceOnUse\"><feGaussianBlur in=\"SourceAlpha\" stdDeviation=\"3\"></feGaussianBlur><feOffset dx=\"0\" dy=\"2\" result=\"offsetblur\"></feOffset><feFlood flood-color=\"#000000\"></feFlood><feComposite in2=\"offsetblur\" operator=\"in\"></feComposite><feComponentTransfer><feFuncA type=\"linear\" slope=\"1\"></feFuncA></feComponentTransfer><feMerge><feMergeNode></feMergeNode><feMergeNode in=\"SourceGraphic\"></feMergeNode></feMerge></filter><marker viewBox=\"0 0 10 10\" markerWidth=\"10\" markerHeight=\"10\" orient=\"auto\" refX=\"9\" refY=\"3\" id=\"arrowEndMarker\"><polygon points=\"0,0,0,6,9,3,0,0\" fill=\"#323232\" id=\"arrow\"></polygon></marker><marker viewBox=\"0 0 10 10\" markerWidth=\"10\" markerHeight=\"10\" orient=\"auto\" refX=\"0\" refY=\"3\" id=\"arrowStartMarker\"><polygon points=\"0,3,9,0,9,6,0,3\" fill=\"#323232\" id=\"startArrow\"></polygon></marker></defs><g id=\"drup_elem_1\" class=\"drupElem\"><circle cx=\"128.79998779296875\" cy=\"74.72500610351562\" r=\"70\" vector-effect=\"non-scaling-stroke\" fill=\"#6666ff\" stroke=\"#000000\" style=\"stroke-width: 1;\" class=\"core alignable sub\" transform=\"matrix(1.863,0,0,0.6714,-48.6542,-0.4475)\"></circle><circle cx=\"128.79998779296875\" cy=\"4.725006103515625\" r=\"5\" stroke=\"#000000\" fill=\"#ffffff\" id=\"drup_elem_1_endpoint_0\" style=\"stroke-width: 1; opacity: 0;\" class=\"endPoint up sub\" transform=\"matrix(1,0,0,1,62.5,-2)\"></circle><circle cx=\"128.79998779296875\" cy=\"144.72500610351562\" r=\"5\" stroke=\"#000000\" fill=\"#ffffff\" id=\"drup_elem_1_endpoint_1\" style=\"stroke-width: 1; opacity: 0;\" class=\"endPoint down sub\" transform=\"matrix(1,0,0,1,62.5,-48)\"></circle><circle cx=\"58.79998779296875\" cy=\"74.72500610351562\" r=\"5\" stroke=\"#000000\" fill=\"#ffffff\" id=\"drup_elem_1_endpoint_2\" style=\"stroke-width: 1; opacity: 0;\" class=\"endPoint left sub\" transform=\"matrix(1,0,0,1,2.0901,-25)\"></circle><circle cx=\"198.79998779296875\" cy=\"74.72500610351562\" r=\"5\" stroke=\"#000000\" fill=\"#ffffff\" id=\"drup_elem_1_endpoint_3\" style=\"stroke-width: 1; opacity: 0;\" class=\"endPoint right sub\" transform=\"matrix(1,0,0,1,122.9099,-25)\"></circle><text x=\"128.79998779296875\" y=\"74.72500610351562\" style=\"font-size: 20px; text-anchor: middle; alignment-baseline: central; opacity: 0;\" class=\"egal-label sub\" transform=\"matrix(1,0,0,1,62.4838,-25.0005)\">|</text></g><g id=\"drup_elem_2\" class=\"drupElem egal-select\"><circle cx=\"201.79998779296875\" cy=\"77.72500610351562\" r=\"47\" vector-effect=\"non-scaling-stroke\" fill=\"#ffffff\" stroke=\"#000000\" style=\"stroke-width: 1;\" class=\"core alignable sub\" transform=\"matrix(1.2762,0,0,1.0426,-65.738,-31.3074)\"></circle><circle cx=\"201.79998779296875\" cy=\"30.725006103515625\" r=\"5\" stroke=\"#000000\" fill=\"#ffffff\" id=\"drup_elem_2_endpoint_0\" style=\"stroke-width: 1; opacity: 0;\" class=\"endPoint up sub\" transform=\"matrix(1,0,0,1,-10.0008,-30)\"></circle><circle cx=\"201.79998779296875\" cy=\"124.72500610351562\" r=\"5\" stroke=\"#000000\" fill=\"#ffffff\" id=\"drup_elem_2_endpoint_1\" style=\"stroke-width: 1; opacity: 0;\" class=\"endPoint down sub\" transform=\"matrix(1,0,0,1,-10.0008,-25.9999)\"></circle><circle cx=\"154.79998779296875\" cy=\"77.72500610351562\" r=\"5\" stroke=\"#000000\" fill=\"#ffffff\" id=\"drup_elem_2_endpoint_2\" style=\"stroke-width: 1; opacity: 0;\" class=\"endPoint left sub\" transform=\"matrix(1,0,0,1,-22.9822,-27.9999)\"></circle><circle cx=\"248.79998779296875\" cy=\"77.72500610351562\" r=\"5\" stroke=\"#000000\" fill=\"#ffffff\" id=\"drup_elem_2_endpoint_3\" style=\"stroke-width: 1; opacity: 0;\" class=\"endPoint right sub\" transform=\"matrix(1,0,0,1,2.9806,-27.9999)\"></circle><text x=\"201.79999542236328\" y=\"77.72500610351562\" style=\"font-size: 20px; text-anchor: middle; alignment-baseline: central; opacity: 0; visibility: visible;\" class=\"egal-label sub\" transform=\"matrix(1,0,0,1,-10.0059,-27.9999)\">|</text></g><g id=\"drup_elem_4\" class=\"drupElem\"><text x=\"102.79998779296875\" y=\"20.725006103515625\" class=\"core alignable sub egal-label\" style=\"text-anchor: middle; alignment-baseline: central;\"></text></g><g id=\"drup_elem_5\" class=\"drupElem\"><text x=\"100.79998779296875\" y=\"84.72500610351562\" class=\"core alignable sub egal-label\" style=\"text-anchor: middle; alignment-baseline: central; font-size: 20px;\" data-src=\"2\" transform=\"matrix(1,0,0,1,4,-18)\">2</text></g><g id=\"drup_elem_6\" class=\"drupElem\"><text x=\"100.79998779296875\" y=\"37.725006103515625\" class=\"core alignable sub egal-label\" style=\"text-anchor: middle; alignment-baseline: central; font-size: 20px;\" data-src=\"1\" transform=\"matrix(1,0,0,1,6,-8)\">1</text></g><g id=\"drup_elem_7\" class=\"drupElem\"><text x=\"262.79998779296875\" y=\"21.725006103515625\" class=\"core alignable sub egal-label\" style=\"text-anchor: middle; alignment-baseline: central;\"></text></g><g id=\"drup_elem_8\" class=\"drupElem\"><text x=\"259.79998779296875\" y=\"80.72500610351562\" class=\"core alignable sub egal-label\" style=\"text-anchor: middle; alignment-baseline: central;\"></text></g><g id=\"drup_elem_9\" class=\"drupElem\"><text x=\"259.79998779296875\" y=\"79.72500610351562\" class=\"core alignable sub egal-label\" style=\"text-anchor: middle; alignment-baseline: central; font-size: 20px;\"></text></g><g id=\"drup_elem_12\" class=\"drupElem\"><text x=\"179.79998779296875\" y=\"26.725006103515625\" class=\"core alignable sub egal-label\" style=\"text-anchor: middle; alignment-baseline: central; font-size: 20px;\" data-src=\"3\" transform=\"matrix(1,0,0,1,11,4)\">3</text></g><g id=\"drup_elem_13\" class=\"drupElem\"><text x=\"179.79998779296875\" y=\"73.72500610351562\" class=\"core alignable sub egal-label\" style=\"text-anchor: middle; alignment-baseline: central; font-size: 20px;\" data-src=\"4\" transform=\"matrix(1,0,0,1,11,-4)\">4</text></g><g id=\"drup_elem_14\" class=\"drupElem\"><text x=\"259.79998779296875\" y=\"31.725006103515625\" class=\"core alignable sub egal-label\" style=\"text-anchor: middle; alignment-baseline: central; font-size: 20px;\" data-src=\"5\">5</text></g><g id=\"drup_elem_15\" class=\"drupElem\"><text x=\"264.79998779296875\" y=\"74.72500610351562\" class=\"core alignable sub egal-label\" style=\"text-anchor: middle; alignment-baseline: central; font-size: 20px;\" data-src=\"6\">6</text></g><g id=\"drup_elem_16\" class=\"drupElem\"><text x=\"120.79998779296875\" y=\"18.324981689453125\" class=\"core alignable sub egal-label\" style=\"text-anchor: middle; alignment-baseline: central;\"></text></g><g id=\"drup_elem_17\" class=\"drupElem\"><text x=\"126.79998779296875\" y=\"31.324981689453125\" class=\"core alignable sub egal-label\" style=\"text-anchor: middle; alignment-baseline: central; font-size: 20px;\"></text></g></svg>"
   ]
  },
  {
   "cell_type": "code",
   "execution_count": 32,
   "metadata": {
    "code_folding": [
     0
    ],
    "hidden": true
   },
   "outputs": [
    {
     "name": "stdout",
     "output_type": "stream",
     "text": [
      "A={1, 2, 3}\n",
      "B={2, 3, 4}\n",
      "A△B = B△A = {1, 4}\n",
      "A△B = (A-B)∪(B-A) = (A∪B)-(A∩B): True\n"
     ]
    }
   ],
   "source": [
    "#es differenza simmetrica\n",
    "A = {1,2,3}\n",
    "B = {2,3,4}\n",
    "C = A ^ B\n",
    "print(f\"A={A}\\nB={B}\")\n",
    "print(f\"A△B = B△A = {C}\")\n",
    "D = (A-B) | (B-A)\n",
    "E = (A|B) - (A&B)\n",
    "ris = C == D == E\n",
    "print(f\"A△B = (A-B)∪(B-A) = (A∪B)-(A∩B): {ris}\")"
   ]
  },
  {
   "cell_type": "markdown",
   "metadata": {
    "heading_collapsed": true,
    "hidden": true
   },
   "source": [
    "#### Leggi di de Morgan"
   ]
  },
  {
   "cell_type": "markdown",
   "metadata": {
    "hidden": true
   },
   "source": [
    "__prima legge__<br>\n",
    "$ \\overline{A \\cup B} = \\overline{A} \\cap \\overline{B}$<br>\n",
    "Il complementare (rispetto all'insieme universo $\\mathbb{E}$) dell'unione di due insiemi corrisponde all'intersezione del complementare del primo insieme e del complementare del secondo.\n",
    "In sostanza la parte esterna dell'unione degli elementi di due insiemi corrisponde all'unione degli elementi in comune della parte esterna del primo insieme e della parte esterna del secondo insieme.\n",
    "\n",
    "__seconda legge__<br>\n",
    "$ \\overline{A \\cap B} = \\overline{A} \\cup \\overline{B} $\n",
    "Il complementare (rispetto all'insieme universo $\\mathbb{E}$) dell'intersezione di due insiemi corrisponde all'unione del complementare del primo insieme e del complementare del secondo.\n",
    "In sostanza la parte esterna degli elementi in comune di due insiemi corrisponde all'unione degli elementi della parte esterna del primo insieme e della parte esterna del secondo insieme."
   ]
  },
  {
   "cell_type": "raw",
   "metadata": {
    "hidden": true,
    "hide_egal": true,
    "is_egal": true
   },
   "source": [
    "<svg height=\"100\" width=\"100%\"><g id=\"drup_elem_1\" class=\"drupElem\"><rect x=\"147.79998779296875\" y=\"79.72500610351562\" width=\"189\" height=\"84\" fill=\"#6666ff\" stroke=\"#000000\" vector-effect=\"non-scaling-stroke\" style=\"stroke-width: 1;\" class=\"core alignable sub\" transform=\"matrix(1.0634,0,0,1.1429,-156.384,-91.3893)\"></rect><circle cx=\"242.29998779296875\" cy=\"79.72500610351562\" r=\"5\" stroke=\"#000000\" fill=\"#ffffff\" id=\"drup_elem_1_endpoint_0\" style=\"stroke-width: 1; opacity: 0;\" class=\"endPoint up sub\" transform=\"matrix(1,0,0,1,-141.0024,-79.9989)\"></circle><circle cx=\"242.29998779296875\" cy=\"163.72500610351562\" r=\"5\" stroke=\"#000000\" fill=\"#ffffff\" id=\"drup_elem_1_endpoint_1\" style=\"stroke-width: 1; opacity: 0;\" class=\"endPoint down sub\" transform=\"matrix(1,0,0,1,-141.0024,-67.9977)\"></circle><circle cx=\"147.79998779296875\" cy=\"121.72500610351562\" r=\"5\" stroke=\"#000000\" fill=\"#ffffff\" id=\"drup_elem_1_endpoint_2\" style=\"stroke-width: 1; opacity: 0;\" class=\"endPoint left sub\" transform=\"matrix(1,0,0,1,-147.0014,-73.9983)\"></circle><circle cx=\"336.79998779296875\" cy=\"121.72500610351562\" r=\"5\" stroke=\"#000000\" fill=\"#ffffff\" id=\"drup_elem_1_endpoint_3\" style=\"stroke-width: 1; opacity: 0;\" class=\"endPoint right sub\" transform=\"matrix(1,0,0,1,-135.0034,-73.9983)\"></circle><circle cx=\"147.79998779296875\" cy=\"79.72500610351562\" r=\"5\" stroke=\"#000000\" fill=\"#ffffff\" id=\"drup_elem_1_endpoint_4\" style=\"stroke-width: 1; opacity: 0;\" class=\"endPoint left-up sub\" transform=\"matrix(1,0,0,1,-147.0014,-79.9989)\"></circle><circle cx=\"147.79998779296875\" cy=\"163.72500610351562\" r=\"5\" stroke=\"#000000\" fill=\"#ffffff\" id=\"drup_elem_1_endpoint_5\" style=\"stroke-width: 1; opacity: 0;\" class=\"endPoint left-down sub\" transform=\"matrix(1,0,0,1,-147.0014,-67.9977)\"></circle><circle cx=\"336.79998779296875\" cy=\"79.72500610351562\" r=\"5\" stroke=\"#000000\" fill=\"#ffffff\" id=\"drup_elem_1_endpoint_6\" style=\"stroke-width: 1; opacity: 0;\" class=\"endPoint right-up sub\" transform=\"matrix(1,0,0,1,-135.0034,-79.9989)\"></circle><circle cx=\"336.79998779296875\" cy=\"163.72500610351562\" r=\"5\" stroke=\"#000000\" fill=\"#ffffff\" id=\"drup_elem_1_endpoint_7\" style=\"stroke-width: 1; opacity: 0;\" class=\"endPoint right-down sub\" transform=\"matrix(1,0,0,1,-135.0034,-67.9977)\"></circle><text x=\"242.29998779296875\" y=\"121.72500610351562\" style=\"font-size: 20px; text-anchor: middle; alignment-baseline: central; opacity: 0;\" class=\"egal-label sub\" transform=\"matrix(1,0,0,1,-141.0036,-73.998)\">|</text></g><g id=\"drup_elem_21\" class=\"drupElem\"><rect x=\"147.79998779296875\" y=\"79.72500610351562\" width=\"189\" height=\"84\" fill=\"#6666ff\" stroke=\"#000000\" vector-effect=\"non-scaling-stroke\" style=\"stroke-width: 1;\" class=\"core alignable sub\" transform=\"matrix(1.0634,0,0,1.1429,85.616,-91.3893)\"></rect><circle cx=\"242.29998779296875\" cy=\"79.72500610351562\" r=\"5\" stroke=\"#000000\" fill=\"#ffffff\" id=\"drup_elem_21_endpoint_0\" style=\"stroke-width: 1; opacity: 0;\" class=\"endPoint up sub\" transform=\"matrix(1,0,0,1,100.9976,-79.9989)\"></circle><circle cx=\"242.29998779296875\" cy=\"163.72500610351562\" r=\"5\" stroke=\"#000000\" fill=\"#ffffff\" id=\"drup_elem_21_endpoint_1\" style=\"stroke-width: 1; opacity: 0;\" class=\"endPoint down sub\" transform=\"matrix(1,0,0,1,100.9976,-67.9977)\"></circle><circle cx=\"147.79998779296875\" cy=\"121.72500610351562\" r=\"5\" stroke=\"#000000\" fill=\"#ffffff\" id=\"drup_elem_21_endpoint_2\" style=\"stroke-width: 1; opacity: 0;\" class=\"endPoint left sub\" transform=\"matrix(1,0,0,1,94.9986,-73.9983)\"></circle><circle cx=\"336.79998779296875\" cy=\"121.72500610351562\" r=\"5\" stroke=\"#000000\" fill=\"#ffffff\" id=\"drup_elem_21_endpoint_3\" style=\"stroke-width: 1; opacity: 0;\" class=\"endPoint right sub\" transform=\"matrix(1,0,0,1,106.9966,-73.9983)\"></circle><circle cx=\"147.79998779296875\" cy=\"79.72500610351562\" r=\"5\" stroke=\"#000000\" fill=\"#ffffff\" id=\"drup_elem_21_endpoint_4\" style=\"stroke-width: 1; opacity: 0;\" class=\"endPoint left-up sub\" transform=\"matrix(1,0,0,1,94.9986,-79.9989)\"></circle><circle cx=\"147.79998779296875\" cy=\"163.72500610351562\" r=\"5\" stroke=\"#000000\" fill=\"#ffffff\" id=\"drup_elem_21_endpoint_5\" style=\"stroke-width: 1; opacity: 0;\" class=\"endPoint left-down sub\" transform=\"matrix(1,0,0,1,94.9986,-67.9977)\"></circle><circle cx=\"336.79998779296875\" cy=\"79.72500610351562\" r=\"5\" stroke=\"#000000\" fill=\"#ffffff\" id=\"drup_elem_21_endpoint_6\" style=\"stroke-width: 1; opacity: 0;\" class=\"endPoint right-up sub\" transform=\"matrix(1,0,0,1,106.9966,-79.9989)\"></circle><circle cx=\"336.79998779296875\" cy=\"163.72500610351562\" r=\"5\" stroke=\"#000000\" fill=\"#ffffff\" id=\"drup_elem_21_endpoint_7\" style=\"stroke-width: 1; opacity: 0;\" class=\"endPoint right-down sub\" transform=\"matrix(1,0,0,1,106.9966,-67.9977)\"></circle><text x=\"242.29998779296875\" y=\"121.72500610351562\" style=\"font-size: 20px; text-anchor: middle; alignment-baseline: central; opacity: 0;\" class=\"egal-label sub\" transform=\"matrix(1,0,0,1,100.9964,-73.998)\">|</text></g><g id=\"drup_elem_2\" class=\"drupElem\"><circle cx=\"98.79998779296875\" cy=\"98.32499694824219\" r=\"53\" vector-effect=\"non-scaling-stroke\" fill=\"#ffffff\" stroke=\"#000000\" style=\"stroke-width: 1;\" class=\"core alignable sub\" transform=\"matrix(1.7065,0,0,0.6793,-63.3015,-23.4618)\"></circle><circle cx=\"98.79998779296875\" cy=\"45.32499694824219\" r=\"5\" stroke=\"#000000\" fill=\"#ffffff\" id=\"drup_elem_2_endpoint_0\" style=\"stroke-width: 1; opacity: 0;\" class=\"endPoint up sub\" transform=\"matrix(1,0,0,1,6.5008,-38)\"></circle><circle cx=\"98.79998779296875\" cy=\"151.3249969482422\" r=\"5\" stroke=\"#000000\" fill=\"#ffffff\" id=\"drup_elem_2_endpoint_1\" style=\"stroke-width: 1; opacity: 0;\" class=\"endPoint down sub\" transform=\"matrix(1,0,0,1,6.5008,-72.0001)\"></circle><circle cx=\"45.79998779296875\" cy=\"98.32499694824219\" r=\"5\" stroke=\"#000000\" fill=\"#ffffff\" id=\"drup_elem_2_endpoint_2\" style=\"stroke-width: 1; opacity: 0;\" class=\"endPoint left sub\" transform=\"matrix(1,0,0,1,-30.9438,-55.0001)\"></circle><circle cx=\"151.79998779296875\" cy=\"98.32499694824219\" r=\"5\" stroke=\"#000000\" fill=\"#ffffff\" id=\"drup_elem_2_endpoint_3\" style=\"stroke-width: 1; opacity: 0;\" class=\"endPoint right sub\" transform=\"matrix(1,0,0,1,43.9454,-55.0001)\"></circle><text x=\"98.79998779296875\" y=\"98.32499694824219\" style=\"font-size: 20px; text-anchor: middle; alignment-baseline: central; opacity: 0;\" class=\"egal-label sub\" transform=\"matrix(1,0,0,1,6.4875,-54.9986)\">|</text></g><g id=\"drup_elem_23\" class=\"drupElem\"><circle cx=\"98.79998779296875\" cy=\"98.32499694824219\" r=\"53\" vector-effect=\"non-scaling-stroke\" fill=\"#6666ff\" stroke=\"#000000\" style=\"stroke-width: 1;\" class=\"core alignable sub\" transform=\"matrix(1.7065,0,0,0.6793,178.6985,-23.4618)\"></circle><circle cx=\"98.79998779296875\" cy=\"45.32499694824219\" r=\"5\" stroke=\"#000000\" fill=\"#ffffff\" id=\"drup_elem_23_endpoint_0\" style=\"stroke-width: 1; opacity: 0;\" class=\"endPoint up sub\" transform=\"matrix(1,0,0,1,248.5008,-38)\"></circle><circle cx=\"98.79998779296875\" cy=\"151.3249969482422\" r=\"5\" stroke=\"#000000\" fill=\"#ffffff\" id=\"drup_elem_23_endpoint_1\" style=\"stroke-width: 1; opacity: 0;\" class=\"endPoint down sub\" transform=\"matrix(1,0,0,1,248.5008,-72.0001)\"></circle><circle cx=\"45.79998779296875\" cy=\"98.32499694824219\" r=\"5\" stroke=\"#000000\" fill=\"#ffffff\" id=\"drup_elem_23_endpoint_2\" style=\"stroke-width: 1; opacity: 0;\" class=\"endPoint left sub\" transform=\"matrix(1,0,0,1,211.0562,-55.0001)\"></circle><circle cx=\"151.79998779296875\" cy=\"98.32499694824219\" r=\"5\" stroke=\"#000000\" fill=\"#ffffff\" id=\"drup_elem_23_endpoint_3\" style=\"stroke-width: 1; opacity: 0;\" class=\"endPoint right sub\" transform=\"matrix(1,0,0,1,285.9454,-55.0001)\"></circle><text x=\"98.79998779296875\" y=\"98.32499694824219\" style=\"font-size: 20px; text-anchor: middle; alignment-baseline: central; opacity: 0;\" class=\"egal-label sub\" transform=\"matrix(1,0,0,1,248.4875,-54.9986)\">|</text></g><g id=\"drup_elem_9\" class=\"drupElem\"><circle cx=\"140.79998779296875\" cy=\"105.32499694824219\" r=\"51\" vector-effect=\"non-scaling-stroke\" fill=\"#ffffff\" stroke=\"#000000\" style=\"stroke-width: 1;\" class=\"core alignable sub\" transform=\"matrix(1.137,0,0,0.6961,-58.2968,-30.4895)\"></circle><circle cx=\"140.79998779296875\" cy=\"54.32499694824219\" r=\"5\" stroke=\"#000000\" fill=\"#ffffff\" id=\"drup_elem_9_endpoint_0\" style=\"stroke-width: 1; opacity: 0;\" class=\"endPoint up sub\" transform=\"matrix(1,0,0,1,-39.0013,-47.0001)\"></circle><circle cx=\"140.79998779296875\" cy=\"156.3249969482422\" r=\"5\" stroke=\"#000000\" fill=\"#ffffff\" id=\"drup_elem_9_endpoint_1\" style=\"stroke-width: 1; opacity: 0;\" class=\"endPoint down sub\" transform=\"matrix(1,0,0,1,-39.0013,-78.0004)\"></circle><circle cx=\"89.79998779296875\" cy=\"105.32499694824219\" r=\"5\" stroke=\"#000000\" fill=\"#ffffff\" id=\"drup_elem_9_endpoint_2\" style=\"stroke-width: 1; opacity: 0;\" class=\"endPoint left sub\" transform=\"matrix(1,0,0,1,-45.9903,-62.5003)\"></circle><circle cx=\"191.79998779296875\" cy=\"105.32499694824219\" r=\"5\" stroke=\"#000000\" fill=\"#ffffff\" id=\"drup_elem_9_endpoint_3\" style=\"stroke-width: 1; opacity: 0;\" class=\"endPoint right sub\" transform=\"matrix(1,0,0,1,-32.0122,-62.5003)\"></circle><text x=\"140.79998779296875\" y=\"105.32500076293945\" style=\"font-size: 20px; text-anchor: middle; alignment-baseline: central; opacity: 0;\" class=\"egal-label sub\" transform=\"matrix(1,0,0,1,-39.0039,-62.4988)\">|</text></g><g id=\"drup_elem_24\" class=\"drupElem\"><circle cx=\"140.79998779296875\" cy=\"105.32499694824219\" r=\"51\" vector-effect=\"non-scaling-stroke\" fill=\"#ffffff\" stroke=\"#000000\" style=\"stroke-width: 1;\" class=\"core alignable sub\" transform=\"matrix(1.137,0,0,0.6961,183.7032,-31.4895)\"></circle><circle cx=\"140.79998779296875\" cy=\"54.32499694824219\" r=\"5\" stroke=\"#000000\" fill=\"#ffffff\" id=\"drup_elem_24_endpoint_0\" style=\"stroke-width: 1; opacity: 0;\" class=\"endPoint up sub\" transform=\"matrix(1,0,0,1,202.9987,-48.0001)\"></circle><circle cx=\"140.79998779296875\" cy=\"156.3249969482422\" r=\"5\" stroke=\"#000000\" fill=\"#ffffff\" id=\"drup_elem_24_endpoint_1\" style=\"stroke-width: 1; opacity: 0;\" class=\"endPoint down sub\" transform=\"matrix(1,0,0,1,202.9987,-79.0004)\"></circle><circle cx=\"89.79998779296875\" cy=\"105.32499694824219\" r=\"5\" stroke=\"#000000\" fill=\"#ffffff\" id=\"drup_elem_24_endpoint_2\" style=\"stroke-width: 1; opacity: 0;\" class=\"endPoint left sub\" transform=\"matrix(1,0,0,1,196.0097,-63.5003)\"></circle><circle cx=\"191.79998779296875\" cy=\"105.32499694824219\" r=\"5\" stroke=\"#000000\" fill=\"#ffffff\" id=\"drup_elem_24_endpoint_3\" style=\"stroke-width: 1; opacity: 0;\" class=\"endPoint right sub\" transform=\"matrix(1,0,0,1,209.9878,-63.5003)\"></circle><text x=\"140.79998779296875\" y=\"105.32500076293945\" style=\"font-size: 20px; text-anchor: middle; alignment-baseline: central; opacity: 0;\" class=\"egal-label sub\" transform=\"matrix(1,0,0,1,202.9961,-63.4988)\">|</text></g><desc>Created with Snap</desc><defs><filter id=\"Sj2y4u5fh230\" filterUnits=\"userSpaceOnUse\"><feGaussianBlur in=\"SourceAlpha\" stdDeviation=\"3\"></feGaussianBlur><feOffset dx=\"0\" dy=\"2\" result=\"offsetblur\"></feOffset><feFlood flood-color=\"#000000\"></feFlood><feComposite in2=\"offsetblur\" operator=\"in\"></feComposite><feComponentTransfer><feFuncA type=\"linear\" slope=\"1\"></feFuncA></feComponentTransfer><feMerge><feMergeNode></feMergeNode><feMergeNode in=\"SourceGraphic\"></feMergeNode></feMerge></filter><marker viewBox=\"0 0 10 10\" markerWidth=\"10\" markerHeight=\"10\" orient=\"auto\" refX=\"9\" refY=\"3\" id=\"arrowEndMarker\"><polygon points=\"0,0,0,6,9,3,0,0\" fill=\"#323232\" id=\"arrow\"></polygon></marker><marker viewBox=\"0 0 10 10\" markerWidth=\"10\" markerHeight=\"10\" orient=\"auto\" refX=\"0\" refY=\"3\" id=\"arrowStartMarker\"><polygon points=\"0,3,9,0,9,6,0,3\" fill=\"#323232\" id=\"startArrow\"></polygon></marker></defs><g id=\"drup_elem_3\" class=\"drupElem\"><text x=\"60.79998779296875\" y=\"98.32499694824219\" class=\"core alignable sub egal-label\" style=\"text-anchor: middle; alignment-baseline: central;\"></text></g><g id=\"drup_elem_4\" class=\"drupElem\"><text x=\"159.79998779296875\" y=\"88.32499694824219\" class=\"core alignable sub egal-label\" style=\"text-anchor: middle; alignment-baseline: central;\"></text></g><g id=\"drup_elem_6\" class=\"drupElem\"><text x=\"116.79998779296875\" y=\"97.32499694824219\" class=\"core alignable sub egal-label\" style=\"text-anchor: middle; alignment-baseline: central; font-size: 20px;\" data-src=\"2\" transform=\"matrix(1,0,0,1,-14,-66)\">2</text></g><g id=\"drup_elem_8\" class=\"drupElem\"><text x=\"20.79998779296875\" y=\"116.32499694824219\" class=\"core alignable sub egal-label\" style=\"text-anchor: middle; alignment-baseline: central; font-size: 20px;\" data-src=\"1\" transform=\"matrix(1,0,0,1,13,-72)\">1</text></g><g id=\"drup_elem_10\" class=\"drupElem\"><text x=\"104.79998779296875\" y=\"143.3249969482422\" class=\"core alignable sub egal-label\" style=\"text-anchor: middle; alignment-baseline: central; font-size: 20px;\" data-src=\"3\" transform=\"matrix(1,0,0,1,-2,-83)\">3</text></g><g id=\"drup_elem_11\" class=\"drupElem\"><text x=\"102.79998779296875\" y=\"161.3249969482422\" class=\"core alignable sub egal-label\" style=\"text-anchor: middle; alignment-baseline: central; font-size: 20px;\"></text></g><g id=\"drup_elem_12\" class=\"drupElem\"><text x=\"156.79998779296875\" y=\"86.32499694824219\" class=\"core alignable sub egal-label\" style=\"text-anchor: middle; alignment-baseline: central;\"></text></g><g id=\"drup_elem_15\" class=\"drupElem\"><text x=\"169.79998779296875\" y=\"81.32499694824219\" class=\"core alignable sub egal-label\" style=\"text-anchor: middle; alignment-baseline: central;\"></text></g><g id=\"drup_elem_16\" class=\"drupElem\"><text x=\"212.79998779296875\" y=\"128.3249969482422\" class=\"core alignable sub egal-label\" style=\"text-anchor: middle; alignment-baseline: central;\"></text></g><g id=\"drup_elem_17\" class=\"drupElem\"><text x=\"170.79998779296875\" y=\"94.32499694824219\" class=\"core alignable sub egal-label\" style=\"text-anchor: middle; alignment-baseline: central; font-size: 20px;\" data-src=\"4\" transform=\"matrix(1,0,0,1,4,-50)\">4</text></g><g id=\"drup_elem_18\" class=\"drupElem\"><text x=\"235.79998779296875\" y=\"80.52499389648438\" class=\"core alignable sub egal-label\" style=\"text-anchor: middle; alignment-baseline: central; font-size: 20px; stroke-width: 1; visibility: visible; opacity: 1;\" data-src=\"𝔼\" fill=\"none\" transform=\"matrix(1.4802,0,0,1.4466,-333.7192,-37.9624)\" stroke=\"#00ff00\">𝔼</text></g><g id=\"drup_elem_22\" class=\"drupElem\"><text x=\"235.79998779296875\" y=\"80.52499389648438\" class=\"core alignable sub egal-label\" style=\"text-anchor: middle; alignment-baseline: central; font-size: 20px; stroke-width: 1; visibility: visible; opacity: 1;\" data-src=\"𝔼\" fill=\"none\" transform=\"matrix(1.4802,0,0,1.4466,-91.7192,-37.9624)\" stroke=\"#00ff00\">𝔼</text></g><g id=\"drup_elem_19\" class=\"drupElem\"><text x=\"266.79998779296875\" y=\"107.52499389648438\" class=\"core alignable sub egal-label\" style=\"text-anchor: middle; alignment-baseline: central; font-size: 20px;\"></text></g><g id=\"drup_elem_25\" class=\"drupElem\"><text x=\"266.79998779296875\" y=\"87.52499389648438\" class=\"core alignable sub egal-label\" style=\"text-anchor: middle; alignment-baseline: central; font-size: 20px;\" data-src=\"1\" transform=\"matrix(1,0,0,1,0,-42)\">1</text></g><g id=\"drup_elem_26\" class=\"drupElem\"><text x=\"404.79998779296875\" y=\"78.52499389648438\" class=\"core alignable sub egal-label\" style=\"text-anchor: middle; alignment-baseline: central; font-size: 20px;\" data-src=\"2\" transform=\"matrix(1,0,0,1,-61,-51)\">2</text></g><g id=\"drup_elem_27\" class=\"drupElem\"><text x=\"334.79998779296875\" y=\"101.52499389648438\" class=\"core alignable sub egal-label\" style=\"text-anchor: middle; alignment-baseline: central; font-size: 20px;\" data-src=\"3\" transform=\"matrix(1,0,0,1,9,-44)\">3</text></g><g id=\"drup_elem_28\" class=\"drupElem\"><text x=\"390.79998779296875\" y=\"75.52499389648438\" class=\"core alignable sub egal-label\" style=\"text-anchor: middle; alignment-baseline: central; font-size: 20px;\" data-src=\"4\" transform=\"matrix(1,0,0,1,28,-33)\">4</text></g><g id=\"drup_elem_29\" class=\"drupElem\"><text x=\"522.7999877929688\" y=\"57.524993896484375\" class=\"core alignable sub egal-label\" style=\"text-anchor: middle; alignment-baseline: central; font-size: 20px;\" data-src=\"I legge\" transform=\"matrix(0.9834,0,0,0.866,-343.8043,39.2073)\" fill=\"#ffffff\">I legge</text></g><g id=\"drup_elem_30\" class=\"drupElem egal-select\"><text x=\"528.7999877929688\" y=\"35.524993896484375\" class=\"core alignable sub egal-label\" style=\"text-anchor: middle; alignment-baseline: central; font-size: 20px;\" data-src=\"II legge\" fill=\"#ffffff\" transform=\"matrix(0.9391,0,0,0.8214,-84.7901,57.3461)\">II legge</text></g><g id=\"drup_elem_31\" class=\"drupElem\"><text x=\"528.7999877929688\" y=\"80.52499389648438\" class=\"core alignable sub egal-label\" style=\"text-anchor: middle; alignment-baseline: central; font-size: 20px;\"></text></g></svg>"
   ]
  },
  {
   "cell_type": "code",
   "execution_count": 68,
   "metadata": {
    "code_folding": [
     0,
     3
    ],
    "hidden": true
   },
   "outputs": [
    {
     "data": {
      "text/latex": [
       "$$A =  \\{ {1, 2, 3} \\}$$"
      ],
      "text/plain": [
       "<IPython.core.display.Math object>"
      ]
     },
     "metadata": {},
     "output_type": "display_data"
    },
    {
     "data": {
      "text/latex": [
       "$$B =  \\{ {2, 3, 4} \\}$$"
      ],
      "text/plain": [
       "<IPython.core.display.Math object>"
      ]
     },
     "metadata": {},
     "output_type": "display_data"
    },
    {
     "name": "stdout",
     "output_type": "stream",
     "text": [
      "\n",
      "prima legge di de morgan\n"
     ]
    },
    {
     "data": {
      "text/latex": [
       "$$\\overline{A \\cup B} = \\texttt{ Universal_set() - {1, 2, 3, 4} }$$"
      ],
      "text/plain": [
       "<IPython.core.display.Math object>"
      ]
     },
     "metadata": {},
     "output_type": "display_data"
    },
    {
     "data": {
      "text/latex": [
       "$$\\overline{A} \\cap \\overline{B} = \\texttt{ Universal_set() - {1, 2, 3, 4} }$$"
      ],
      "text/plain": [
       "<IPython.core.display.Math object>"
      ]
     },
     "metadata": {},
     "output_type": "display_data"
    },
    {
     "data": {
      "text/latex": [
       "$$\\overline{A \\cup B} = \\overline{A} \\cap \\overline{B}:\\quad True$$"
      ],
      "text/plain": [
       "<IPython.core.display.Math object>"
      ]
     },
     "metadata": {},
     "output_type": "display_data"
    },
    {
     "name": "stdout",
     "output_type": "stream",
     "text": [
      "\n",
      "seconda legge di de morgan\n"
     ]
    },
    {
     "data": {
      "text/latex": [
       "$$\\overline{A \\cap B} = \\texttt{ Universal_set() - {2, 3} }$$"
      ],
      "text/plain": [
       "<IPython.core.display.Math object>"
      ]
     },
     "metadata": {},
     "output_type": "display_data"
    },
    {
     "data": {
      "text/latex": [
       "$$\\overline{A} \\cup \\overline{B} = \\texttt{ Universal_set() - {2, 3} }$$"
      ],
      "text/plain": [
       "<IPython.core.display.Math object>"
      ]
     },
     "metadata": {},
     "output_type": "display_data"
    },
    {
     "data": {
      "text/latex": [
       "$$\\overline{A \\cap B} = \\overline{A} \\cup \\overline{B}:\\quad True$$"
      ],
      "text/plain": [
       "<IPython.core.display.Math object>"
      ]
     },
     "metadata": {},
     "output_type": "display_data"
    }
   ],
   "source": [
    "#es leggi di de morgan\n",
    "from copy import copy\n",
    "from IPython.display import display, Math\n",
    "class Universal_set(set):\n",
    "    _excluded = set()\n",
    "    #differenza\n",
    "    def __sub__(self, other):\n",
    "        #restituisco un insieme universo senza ciò che è stato sottratto\n",
    "        S = copy(self)\n",
    "        S._excluded = S._excluded | other\n",
    "        return S\n",
    "    def __rsub__(self, other):\n",
    "        return set()\n",
    "    \n",
    "    #operatore in\n",
    "    def __contains__(self, elem):\n",
    "        #l'insieme universo ha tutto meno quello che è stato sottratto\n",
    "        return elem not in self._excluded\n",
    "   \n",
    "    def __repr__(self):\n",
    "        if self._excluded:\n",
    "            return f'{type(self).__name__}() - {self._excluded}'\n",
    "        else:\n",
    "            return f'{type(self).__name__}()' \n",
    "    \n",
    "    def __and__(self, other):\n",
    "        if isinstance(other, Universal_set):\n",
    "            S = copy(self)\n",
    "            #tengo tutti gli elementi mancanti\n",
    "            S._excluded = S._excluded | other._excluded\n",
    "            return S\n",
    "    \n",
    "    def __or__(self, other):\n",
    "        if isinstance(other, Universal_set):\n",
    "            S = copy(self)\n",
    "            #tengo gli elementi mancanti in comune ad entrambi\n",
    "            S._excluded = S._excluded & other._excluded\n",
    "            return S\n",
    "    \n",
    "    def __eq__(self, other):\n",
    "        if isinstance(other, Universal_set):\n",
    "            return self._excluded == other._excluded\n",
    "\n",
    "        \n",
    "A = {1,2,3}\n",
    "B = {2,3,4}\n",
    "E = Universal_set()\n",
    "\n",
    "C = E - (A | B)\n",
    "D = (E-A) & (E-B)\n",
    "\n",
    "#abbreviazione di display(Math('stringa in latex))\n",
    "tex = lambda x: display(Math(x))\n",
    "\n",
    "#quando scrivo una stringa formattata per inserire una { non catturata\n",
    "#dalla formattazione devo ripeterla due volte, inoltre pare che basti\n",
    "#scrivere in latexy \\{ invece che \\left\\{\n",
    "tex(rf'A =  \\{{ {A} \\}}')\n",
    "tex(rf'B =  \\{{ {B} \\}}')\n",
    "\n",
    "\n",
    "print(\"\\nprima legge di de morgan\")\n",
    "\n",
    "#\\texttt serve a inserire testo non interpretato da latex ma lo devo\n",
    "#backquotare due volte perché per una stringa python \\t è una tabulaz\n",
    "tex(rf'\\overline{{A \\cup B}} = \\texttt{{ {C} }}')\n",
    "tex(rf'\\overline{{A}} \\cap \\overline{{B}} = \\texttt{{ {D} }}')\n",
    "\n",
    "#prima legge di demorgan\n",
    "tex(rf'\\overline{{A \\cup B}} = \\overline{{A}} \\cap \\overline{{B}}:'\n",
    "    rf'\\quad {C==D}')\n",
    "\n",
    "print(\"\\nseconda legge di de morgan\")\n",
    "E = E - (A & B)\n",
    "F = (E-A) | (E-B)\n",
    "tex(rf'\\overline{{A \\cap B}} = \\texttt{{ {E} }}')\n",
    "tex(rf'\\overline{{A}} \\cup \\overline{{B}} = \\texttt{{ {F} }}')\n",
    "\n",
    "#seconda legge di demorgan\n",
    "tex(rf'\\overline{{A \\cap B}} = \\overline{{A}} \\cup \\overline{{B}}:'\n",
    "    rf'\\quad {E==F}')\n",
    "\n"
   ]
  },
  {
   "cell_type": "markdown",
   "metadata": {
    "heading_collapsed": true,
    "hidden": true
   },
   "source": [
    "#### Prodotto cartesiano"
   ]
  },
  {
   "cell_type": "markdown",
   "metadata": {
    "heading_collapsed": true,
    "hidden": true
   },
   "source": [
    "##### Coppia ordinata"
   ]
  },
  {
   "cell_type": "markdown",
   "metadata": {
    "collapsed": true,
    "hidden": true
   },
   "source": [
    "La coppia ordinata è un insieme di due elementi dove anche l'ordine ne distingue l'identità<br>\n",
    "$ a = (1,2) \\\\\n",
    "  b = (2,1) \\\\\n",
    "  a \\ne b\n",
    "$"
   ]
  },
  {
   "cell_type": "code",
   "execution_count": 76,
   "metadata": {
    "code_folding": [
     0
    ],
    "hidden": true
   },
   "outputs": [
    {
     "name": "stdout",
     "output_type": "stream",
     "text": [
      "a = (1,2)\n",
      "b = (2,1)\n",
      "a ≠ b:    True\n"
     ]
    }
   ],
   "source": [
    "#coppia ordinata\n",
    "a = (1,2)\n",
    "b = (2,1)\n",
    "print(f'a = (1,2)\\nb = (2,1)')\n",
    "print(f'a ≠ b:    {a != b}')"
   ]
  },
  {
   "cell_type": "markdown",
   "metadata": {
    "heading_collapsed": true,
    "hidden": true
   },
   "source": [
    "##### Prodotto cartesiano"
   ]
  },
  {
   "cell_type": "markdown",
   "metadata": {
    "hidden": true
   },
   "source": [
    "Il prodotto cartesiano fra due insiemi A & B è l'insieme di tutte le coppie ordinate formate da un primo elemento preso da A e da un secondo elemento preso da B.\n",
    "$ A = \\{1,2\\} \\\\\n",
    "  B = \\{a,b\\} \\\\\n",
    "  A \\times B = \\{(1,a), (1,b), (2,a), (2,b)\\}\n",
    "$"
   ]
  },
  {
   "cell_type": "raw",
   "metadata": {
    "hidden": true,
    "hide_egal": true,
    "is_egal": true
   },
   "source": [
    "<svg height=\"150\" width=\"100%\"><desc>Created with Snap</desc><defs><filter id=\"Sj30mtqd1bl\" filterUnits=\"userSpaceOnUse\"><feGaussianBlur in=\"SourceAlpha\" stdDeviation=\"3\"></feGaussianBlur><feOffset dx=\"0\" dy=\"2\" result=\"offsetblur\"></feOffset><feFlood flood-color=\"#000000\"></feFlood><feComposite in2=\"offsetblur\" operator=\"in\"></feComposite><feComponentTransfer><feFuncA type=\"linear\" slope=\"1\"></feFuncA></feComponentTransfer><feMerge><feMergeNode></feMergeNode><feMergeNode in=\"SourceGraphic\"></feMergeNode></feMerge></filter><marker viewBox=\"0 0 10 10\" markerWidth=\"10\" markerHeight=\"10\" orient=\"auto\" refX=\"9\" refY=\"3\" id=\"arrowEndMarker\"><polygon points=\"0,0,0,6,9,3,0,0\" fill=\"#323232\" id=\"arrow\"></polygon></marker><marker viewBox=\"0 0 10 10\" markerWidth=\"10\" markerHeight=\"10\" orient=\"auto\" refX=\"0\" refY=\"3\" id=\"arrowStartMarker\"><polygon points=\"0,3,9,0,9,6,0,3\" fill=\"#323232\" id=\"startArrow\"></polygon></marker></defs><g id=\"drup_elem_16\" class=\"drupElem\"><rect x=\"65.79998779296875\" y=\"79.125\" width=\"43\" height=\"41\" fill=\"#ffffff\" stroke=\"#000000\" vector-effect=\"non-scaling-stroke\" style=\"stroke-width: 1;\" class=\"core alignable sub\" transform=\"matrix(1,0,0,1,-15,-37)\"></rect><circle cx=\"87.29998779296875\" cy=\"79.125\" r=\"5\" stroke=\"#000000\" fill=\"#ffffff\" id=\"drup_elem_16_endpoint_0\" style=\"stroke-width: 1; opacity: 0;\" class=\"endPoint up sub\" transform=\"matrix(1,0,0,1,-15,-37)\"></circle><circle cx=\"87.29998779296875\" cy=\"120.125\" r=\"5\" stroke=\"#000000\" fill=\"#ffffff\" id=\"drup_elem_16_endpoint_1\" style=\"stroke-width: 1; opacity: 0;\" class=\"endPoint down sub\" transform=\"matrix(1,0,0,1,-15,-37)\"></circle><circle cx=\"65.79998779296875\" cy=\"99.625\" r=\"5\" stroke=\"#000000\" fill=\"#ffffff\" id=\"drup_elem_16_endpoint_2\" style=\"stroke-width: 1; opacity: 0;\" class=\"endPoint left sub\" transform=\"matrix(1,0,0,1,-15,-37)\"></circle><circle cx=\"108.79998779296875\" cy=\"99.625\" r=\"5\" stroke=\"#000000\" fill=\"#ffffff\" id=\"drup_elem_16_endpoint_3\" style=\"stroke-width: 1; opacity: 0;\" class=\"endPoint right sub\" transform=\"matrix(1,0,0,1,-15,-37)\"></circle><circle cx=\"65.79998779296875\" cy=\"79.125\" r=\"5\" stroke=\"#000000\" fill=\"#ffffff\" id=\"drup_elem_16_endpoint_4\" style=\"stroke-width: 1; opacity: 0;\" class=\"endPoint left-up sub\" transform=\"matrix(1,0,0,1,-15,-37)\"></circle><circle cx=\"65.79998779296875\" cy=\"120.125\" r=\"5\" stroke=\"#000000\" fill=\"#ffffff\" id=\"drup_elem_16_endpoint_5\" style=\"stroke-width: 1; opacity: 0;\" class=\"endPoint left-down sub\" transform=\"matrix(1,0,0,1,-15,-37)\"></circle><circle cx=\"108.79998779296875\" cy=\"79.125\" r=\"5\" stroke=\"#000000\" fill=\"#ffffff\" id=\"drup_elem_16_endpoint_6\" style=\"stroke-width: 1; opacity: 0;\" class=\"endPoint right-up sub\" transform=\"matrix(1,0,0,1,-15,-37)\"></circle><circle cx=\"108.79998779296875\" cy=\"120.125\" r=\"5\" stroke=\"#000000\" fill=\"#ffffff\" id=\"drup_elem_16_endpoint_7\" style=\"stroke-width: 1; opacity: 0;\" class=\"endPoint right-down sub\" transform=\"matrix(1,0,0,1,-15,-37)\"></circle><text x=\"87.29998779296875\" y=\"99.625\" style=\"font-size: 20px; text-anchor: middle; alignment-baseline: central; opacity: 0;\" class=\"egal-label sub\" transform=\"matrix(1,0,0,1,-15,-37)\">|</text></g><g id=\"drup_elem_5\" class=\"drupElem\"><rect x=\"65.79998779296875\" y=\"79.125\" width=\"43\" height=\"41\" fill=\"#ffffff\" stroke=\"#000000\" vector-effect=\"non-scaling-stroke\" style=\"stroke-width: 1;\" class=\"core alignable sub\" transform=\"matrix(1,0,0,1,-15,-78)\"></rect><circle cx=\"87.29998779296875\" cy=\"79.125\" r=\"5\" stroke=\"#000000\" fill=\"#ffffff\" id=\"drup_elem_5_endpoint_0\" style=\"stroke-width: 1; opacity: 0;\" class=\"endPoint up sub\" transform=\"matrix(1,0,0,1,-15,-78)\"></circle><circle cx=\"87.29998779296875\" cy=\"120.125\" r=\"5\" stroke=\"#000000\" fill=\"#ffffff\" id=\"drup_elem_5_endpoint_1\" style=\"stroke-width: 1; opacity: 0;\" class=\"endPoint down sub\" transform=\"matrix(1,0,0,1,-15,-78)\"></circle><circle cx=\"65.79998779296875\" cy=\"99.625\" r=\"5\" stroke=\"#000000\" fill=\"#ffffff\" id=\"drup_elem_5_endpoint_2\" style=\"stroke-width: 1; opacity: 0;\" class=\"endPoint left sub\" transform=\"matrix(1,0,0,1,-15,-78)\"></circle><circle cx=\"108.79998779296875\" cy=\"99.625\" r=\"5\" stroke=\"#000000\" fill=\"#ffffff\" id=\"drup_elem_5_endpoint_3\" style=\"stroke-width: 1; opacity: 0;\" class=\"endPoint right sub\" transform=\"matrix(1,0,0,1,-15,-78)\"></circle><circle cx=\"65.79998779296875\" cy=\"79.125\" r=\"5\" stroke=\"#000000\" fill=\"#ffffff\" id=\"drup_elem_5_endpoint_4\" style=\"stroke-width: 1; opacity: 0;\" class=\"endPoint left-up sub\" transform=\"matrix(1,0,0,1,-15,-78)\"></circle><circle cx=\"65.79998779296875\" cy=\"120.125\" r=\"5\" stroke=\"#000000\" fill=\"#ffffff\" id=\"drup_elem_5_endpoint_5\" style=\"stroke-width: 1; opacity: 0;\" class=\"endPoint left-down sub\" transform=\"matrix(1,0,0,1,-15,-78)\"></circle><circle cx=\"108.79998779296875\" cy=\"79.125\" r=\"5\" stroke=\"#000000\" fill=\"#ffffff\" id=\"drup_elem_5_endpoint_6\" style=\"stroke-width: 1; opacity: 0;\" class=\"endPoint right-up sub\" transform=\"matrix(1,0,0,1,-15,-78)\"></circle><circle cx=\"108.79998779296875\" cy=\"120.125\" r=\"5\" stroke=\"#000000\" fill=\"#ffffff\" id=\"drup_elem_5_endpoint_7\" style=\"stroke-width: 1; opacity: 0;\" class=\"endPoint right-down sub\" transform=\"matrix(1,0,0,1,-15,-78)\"></circle><text x=\"87.29998779296875\" y=\"99.625\" style=\"font-size: 20px; text-anchor: middle; alignment-baseline: central; opacity: 0;\" class=\"egal-label sub\" transform=\"matrix(1,0,0,1,-15,-78)\">|</text></g><g id=\"drup_elem_15\" class=\"drupElem\"><rect x=\"65.79998779296875\" y=\"79.125\" width=\"43\" height=\"41\" fill=\"#ffffff\" stroke=\"#000000\" vector-effect=\"non-scaling-stroke\" style=\"stroke-width: 1;\" class=\"core alignable sub\" transform=\"matrix(1,0,0,1,-15,4)\"></rect><circle cx=\"87.29998779296875\" cy=\"79.125\" r=\"5\" stroke=\"#000000\" fill=\"#ffffff\" id=\"drup_elem_15_endpoint_0\" style=\"stroke-width: 1; opacity: 0;\" class=\"endPoint up sub\" transform=\"matrix(1,0,0,1,-15,4)\"></circle><circle cx=\"87.29998779296875\" cy=\"120.125\" r=\"5\" stroke=\"#000000\" fill=\"#ffffff\" id=\"drup_elem_15_endpoint_1\" style=\"stroke-width: 1; opacity: 0;\" class=\"endPoint down sub\" transform=\"matrix(1,0,0,1,-15,4)\"></circle><circle cx=\"65.79998779296875\" cy=\"99.625\" r=\"5\" stroke=\"#000000\" fill=\"#ffffff\" id=\"drup_elem_15_endpoint_2\" style=\"stroke-width: 1; opacity: 0;\" class=\"endPoint left sub\" transform=\"matrix(1,0,0,1,-15,4)\"></circle><circle cx=\"108.79998779296875\" cy=\"99.625\" r=\"5\" stroke=\"#000000\" fill=\"#ffffff\" id=\"drup_elem_15_endpoint_3\" style=\"stroke-width: 1; opacity: 0;\" class=\"endPoint right sub\" transform=\"matrix(1,0,0,1,-15,4)\"></circle><circle cx=\"65.79998779296875\" cy=\"79.125\" r=\"5\" stroke=\"#000000\" fill=\"#ffffff\" id=\"drup_elem_15_endpoint_4\" style=\"stroke-width: 1; opacity: 0;\" class=\"endPoint left-up sub\" transform=\"matrix(1,0,0,1,-15,4)\"></circle><circle cx=\"65.79998779296875\" cy=\"120.125\" r=\"5\" stroke=\"#000000\" fill=\"#ffffff\" id=\"drup_elem_15_endpoint_5\" style=\"stroke-width: 1; opacity: 0;\" class=\"endPoint left-down sub\" transform=\"matrix(1,0,0,1,-15,4)\"></circle><circle cx=\"108.79998779296875\" cy=\"79.125\" r=\"5\" stroke=\"#000000\" fill=\"#ffffff\" id=\"drup_elem_15_endpoint_6\" style=\"stroke-width: 1; opacity: 0;\" class=\"endPoint right-up sub\" transform=\"matrix(1,0,0,1,-15,4)\"></circle><circle cx=\"108.79998779296875\" cy=\"120.125\" r=\"5\" stroke=\"#000000\" fill=\"#ffffff\" id=\"drup_elem_15_endpoint_7\" style=\"stroke-width: 1; opacity: 0;\" class=\"endPoint right-down sub\" transform=\"matrix(1,0,0,1,-15,4)\"></circle><text x=\"87.29998779296875\" y=\"99.625\" style=\"font-size: 20px; text-anchor: middle; alignment-baseline: central; opacity: 0;\" class=\"egal-label sub\" transform=\"matrix(1,0,0,1,-15,4)\">|</text></g><g id=\"drup_elem_12\" class=\"drupElem\"><rect x=\"65.79998779296875\" y=\"79.125\" width=\"43\" height=\"41\" fill=\"#ffffff\" stroke=\"#000000\" vector-effect=\"non-scaling-stroke\" style=\"stroke-width: 1;\" class=\"core alignable sub\" transform=\"matrix(1,0,0,1,71,-37)\"></rect><circle cx=\"87.29998779296875\" cy=\"79.125\" r=\"5\" stroke=\"#000000\" fill=\"#ffffff\" id=\"drup_elem_12_endpoint_0\" style=\"stroke-width: 1; opacity: 0;\" class=\"endPoint up sub\" transform=\"matrix(1,0,0,1,71,-37)\"></circle><circle cx=\"87.29998779296875\" cy=\"120.125\" r=\"5\" stroke=\"#000000\" fill=\"#ffffff\" id=\"drup_elem_12_endpoint_1\" style=\"stroke-width: 1; opacity: 0;\" class=\"endPoint down sub\" transform=\"matrix(1,0,0,1,71,-37)\"></circle><circle cx=\"65.79998779296875\" cy=\"99.625\" r=\"5\" stroke=\"#000000\" fill=\"#ffffff\" id=\"drup_elem_12_endpoint_2\" style=\"stroke-width: 1; opacity: 0;\" class=\"endPoint left sub\" transform=\"matrix(1,0,0,1,71,-37)\"></circle><circle cx=\"108.79998779296875\" cy=\"99.625\" r=\"5\" stroke=\"#000000\" fill=\"#ffffff\" id=\"drup_elem_12_endpoint_3\" style=\"stroke-width: 1; opacity: 0;\" class=\"endPoint right sub\" transform=\"matrix(1,0,0,1,71,-37)\"></circle><circle cx=\"65.79998779296875\" cy=\"79.125\" r=\"5\" stroke=\"#000000\" fill=\"#ffffff\" id=\"drup_elem_12_endpoint_4\" style=\"stroke-width: 1; opacity: 0;\" class=\"endPoint left-up sub\" transform=\"matrix(1,0,0,1,71,-37)\"></circle><circle cx=\"65.79998779296875\" cy=\"120.125\" r=\"5\" stroke=\"#000000\" fill=\"#ffffff\" id=\"drup_elem_12_endpoint_5\" style=\"stroke-width: 1; opacity: 0;\" class=\"endPoint left-down sub\" transform=\"matrix(1,0,0,1,71,-37)\"></circle><circle cx=\"108.79998779296875\" cy=\"79.125\" r=\"5\" stroke=\"#000000\" fill=\"#ffffff\" id=\"drup_elem_12_endpoint_6\" style=\"stroke-width: 1; opacity: 0;\" class=\"endPoint right-up sub\" transform=\"matrix(1,0,0,1,71,-37)\"></circle><circle cx=\"108.79998779296875\" cy=\"120.125\" r=\"5\" stroke=\"#000000\" fill=\"#ffffff\" id=\"drup_elem_12_endpoint_7\" style=\"stroke-width: 1; opacity: 0;\" class=\"endPoint right-down sub\" transform=\"matrix(1,0,0,1,71,-37)\"></circle><text x=\"87.29998779296875\" y=\"99.625\" style=\"font-size: 20px; text-anchor: middle; alignment-baseline: central; opacity: 0;\" class=\"egal-label sub\" transform=\"matrix(1,0,0,1,71,-37)\">|</text></g><g id=\"drup_elem_7\" class=\"drupElem\"><rect x=\"65.79998779296875\" y=\"79.125\" width=\"43\" height=\"41\" fill=\"#ffffff\" stroke=\"#000000\" vector-effect=\"non-scaling-stroke\" style=\"stroke-width: 1;\" class=\"core alignable sub\" transform=\"matrix(1,0,0,1,71,-78)\"></rect><circle cx=\"87.29998779296875\" cy=\"79.125\" r=\"5\" stroke=\"#000000\" fill=\"#ffffff\" id=\"drup_elem_7_endpoint_0\" style=\"stroke-width: 1; opacity: 0;\" class=\"endPoint up sub\" transform=\"matrix(1,0,0,1,71,-78)\"></circle><circle cx=\"87.29998779296875\" cy=\"120.125\" r=\"5\" stroke=\"#000000\" fill=\"#ffffff\" id=\"drup_elem_7_endpoint_1\" style=\"stroke-width: 1; opacity: 0;\" class=\"endPoint down sub\" transform=\"matrix(1,0,0,1,71,-78)\"></circle><circle cx=\"65.79998779296875\" cy=\"99.625\" r=\"5\" stroke=\"#000000\" fill=\"#ffffff\" id=\"drup_elem_7_endpoint_2\" style=\"stroke-width: 1; opacity: 0;\" class=\"endPoint left sub\" transform=\"matrix(1,0,0,1,71,-78)\"></circle><circle cx=\"108.79998779296875\" cy=\"99.625\" r=\"5\" stroke=\"#000000\" fill=\"#ffffff\" id=\"drup_elem_7_endpoint_3\" style=\"stroke-width: 1; opacity: 0;\" class=\"endPoint right sub\" transform=\"matrix(1,0,0,1,71,-78)\"></circle><circle cx=\"65.79998779296875\" cy=\"79.125\" r=\"5\" stroke=\"#000000\" fill=\"#ffffff\" id=\"drup_elem_7_endpoint_4\" style=\"stroke-width: 1; opacity: 0;\" class=\"endPoint left-up sub\" transform=\"matrix(1,0,0,1,71,-78)\"></circle><circle cx=\"65.79998779296875\" cy=\"120.125\" r=\"5\" stroke=\"#000000\" fill=\"#ffffff\" id=\"drup_elem_7_endpoint_5\" style=\"stroke-width: 1; opacity: 0;\" class=\"endPoint left-down sub\" transform=\"matrix(1,0,0,1,71,-78)\"></circle><circle cx=\"108.79998779296875\" cy=\"79.125\" r=\"5\" stroke=\"#000000\" fill=\"#ffffff\" id=\"drup_elem_7_endpoint_6\" style=\"stroke-width: 1; opacity: 0;\" class=\"endPoint right-up sub\" transform=\"matrix(1,0,0,1,71,-78)\"></circle><circle cx=\"108.79998779296875\" cy=\"120.125\" r=\"5\" stroke=\"#000000\" fill=\"#ffffff\" id=\"drup_elem_7_endpoint_7\" style=\"stroke-width: 1; opacity: 0;\" class=\"endPoint right-down sub\" transform=\"matrix(1,0,0,1,71,-78)\"></circle><text x=\"87.29998779296875\" y=\"99.625\" style=\"font-size: 20px; text-anchor: middle; alignment-baseline: central; opacity: 0;\" class=\"egal-label sub\" transform=\"matrix(1,0,0,1,71,-78)\">|</text></g><g id=\"drup_elem_9\" class=\"drupElem\"><rect x=\"65.79998779296875\" y=\"79.125\" width=\"43\" height=\"41\" fill=\"#ffffff\" stroke=\"#000000\" vector-effect=\"non-scaling-stroke\" style=\"stroke-width: 1;\" class=\"core alignable sub\" transform=\"matrix(1,0,0,1,71,4)\"></rect><circle cx=\"87.29998779296875\" cy=\"79.125\" r=\"5\" stroke=\"#000000\" fill=\"#ffffff\" id=\"drup_elem_9_endpoint_0\" style=\"stroke-width: 1; opacity: 0;\" class=\"endPoint up sub\" transform=\"matrix(1,0,0,1,71,4)\"></circle><circle cx=\"87.29998779296875\" cy=\"120.125\" r=\"5\" stroke=\"#000000\" fill=\"#ffffff\" id=\"drup_elem_9_endpoint_1\" style=\"stroke-width: 1; opacity: 0;\" class=\"endPoint down sub\" transform=\"matrix(1,0,0,1,71,4)\"></circle><circle cx=\"65.79998779296875\" cy=\"99.625\" r=\"5\" stroke=\"#000000\" fill=\"#ffffff\" id=\"drup_elem_9_endpoint_2\" style=\"stroke-width: 1; opacity: 0;\" class=\"endPoint left sub\" transform=\"matrix(1,0,0,1,71,4)\"></circle><circle cx=\"108.79998779296875\" cy=\"99.625\" r=\"5\" stroke=\"#000000\" fill=\"#ffffff\" id=\"drup_elem_9_endpoint_3\" style=\"stroke-width: 1; opacity: 0;\" class=\"endPoint right sub\" transform=\"matrix(1,0,0,1,71,4)\"></circle><circle cx=\"65.79998779296875\" cy=\"79.125\" r=\"5\" stroke=\"#000000\" fill=\"#ffffff\" id=\"drup_elem_9_endpoint_4\" style=\"stroke-width: 1; opacity: 0;\" class=\"endPoint left-up sub\" transform=\"matrix(1,0,0,1,71,4)\"></circle><circle cx=\"65.79998779296875\" cy=\"120.125\" r=\"5\" stroke=\"#000000\" fill=\"#ffffff\" id=\"drup_elem_9_endpoint_5\" style=\"stroke-width: 1; opacity: 0;\" class=\"endPoint left-down sub\" transform=\"matrix(1,0,0,1,71,4)\"></circle><circle cx=\"108.79998779296875\" cy=\"79.125\" r=\"5\" stroke=\"#000000\" fill=\"#ffffff\" id=\"drup_elem_9_endpoint_6\" style=\"stroke-width: 1; opacity: 0;\" class=\"endPoint right-up sub\" transform=\"matrix(1,0,0,1,71,4)\"></circle><circle cx=\"108.79998779296875\" cy=\"120.125\" r=\"5\" stroke=\"#000000\" fill=\"#ffffff\" id=\"drup_elem_9_endpoint_7\" style=\"stroke-width: 1; opacity: 0;\" class=\"endPoint right-down sub\" transform=\"matrix(1,0,0,1,71,4)\"></circle><text x=\"87.29998779296875\" y=\"99.625\" style=\"font-size: 20px; text-anchor: middle; alignment-baseline: central; opacity: 0;\" class=\"egal-label sub\" transform=\"matrix(1,0,0,1,71,4)\">|</text></g><g id=\"drup_elem_13\" class=\"drupElem egal-select\"><rect x=\"65.79998779296875\" y=\"79.125\" width=\"43\" height=\"41\" fill=\"#ffffff\" stroke=\"#000000\" vector-effect=\"non-scaling-stroke\" style=\"stroke-width: 1;\" class=\"core alignable sub\" transform=\"matrix(1,0,0,1,28,-37)\"></rect><circle cx=\"87.29998779296875\" cy=\"79.125\" r=\"5\" stroke=\"#000000\" fill=\"#ffffff\" id=\"drup_elem_13_endpoint_0\" style=\"stroke-width: 1; opacity: 0;\" class=\"endPoint up sub\" transform=\"matrix(1,0,0,1,28,-37)\"></circle><circle cx=\"87.29998779296875\" cy=\"120.125\" r=\"5\" stroke=\"#000000\" fill=\"#ffffff\" id=\"drup_elem_13_endpoint_1\" style=\"stroke-width: 1; opacity: 0;\" class=\"endPoint down sub\" transform=\"matrix(1,0,0,1,28,-37)\"></circle><circle cx=\"65.79998779296875\" cy=\"99.625\" r=\"5\" stroke=\"#000000\" fill=\"#ffffff\" id=\"drup_elem_13_endpoint_2\" style=\"stroke-width: 1; opacity: 0;\" class=\"endPoint left sub\" transform=\"matrix(1,0,0,1,28,-37)\"></circle><circle cx=\"108.79998779296875\" cy=\"99.625\" r=\"5\" stroke=\"#000000\" fill=\"#ffffff\" id=\"drup_elem_13_endpoint_3\" style=\"stroke-width: 1; opacity: 0;\" class=\"endPoint right sub\" transform=\"matrix(1,0,0,1,28,-37)\"></circle><circle cx=\"65.79998779296875\" cy=\"79.125\" r=\"5\" stroke=\"#000000\" fill=\"#ffffff\" id=\"drup_elem_13_endpoint_4\" style=\"stroke-width: 1; opacity: 0;\" class=\"endPoint left-up sub\" transform=\"matrix(1,0,0,1,28,-37)\"></circle><circle cx=\"65.79998779296875\" cy=\"120.125\" r=\"5\" stroke=\"#000000\" fill=\"#ffffff\" id=\"drup_elem_13_endpoint_5\" style=\"stroke-width: 1; opacity: 0;\" class=\"endPoint left-down sub\" transform=\"matrix(1,0,0,1,28,-37)\"></circle><circle cx=\"108.79998779296875\" cy=\"79.125\" r=\"5\" stroke=\"#000000\" fill=\"#ffffff\" id=\"drup_elem_13_endpoint_6\" style=\"stroke-width: 1; opacity: 0;\" class=\"endPoint right-up sub\" transform=\"matrix(1,0,0,1,28,-37)\"></circle><circle cx=\"108.79998779296875\" cy=\"120.125\" r=\"5\" stroke=\"#000000\" fill=\"#ffffff\" id=\"drup_elem_13_endpoint_7\" style=\"stroke-width: 1; opacity: 0;\" class=\"endPoint right-down sub\" transform=\"matrix(1,0,0,1,28,-37)\"></circle><text x=\"87.29998779296875\" y=\"99.625\" style=\"font-size: 20px; text-anchor: middle; alignment-baseline: central; opacity: 0;\" class=\"egal-label sub\" transform=\"matrix(1,0,0,1,28,-37)\">|</text></g><g id=\"drup_elem_6\" class=\"drupElem\"><rect x=\"65.79998779296875\" y=\"79.125\" width=\"43\" height=\"41\" fill=\"#ffffff\" stroke=\"#000000\" vector-effect=\"non-scaling-stroke\" style=\"stroke-width: 1;\" class=\"core alignable sub\" transform=\"matrix(1,0,0,1,28,-78)\"></rect><circle cx=\"87.29998779296875\" cy=\"79.125\" r=\"5\" stroke=\"#000000\" fill=\"#ffffff\" id=\"drup_elem_6_endpoint_0\" style=\"stroke-width: 1; opacity: 0;\" class=\"endPoint up sub\" transform=\"matrix(1,0,0,1,28,-78)\"></circle><circle cx=\"87.29998779296875\" cy=\"120.125\" r=\"5\" stroke=\"#000000\" fill=\"#ffffff\" id=\"drup_elem_6_endpoint_1\" style=\"stroke-width: 1; opacity: 0;\" class=\"endPoint down sub\" transform=\"matrix(1,0,0,1,28,-78)\"></circle><circle cx=\"65.79998779296875\" cy=\"99.625\" r=\"5\" stroke=\"#000000\" fill=\"#ffffff\" id=\"drup_elem_6_endpoint_2\" style=\"stroke-width: 1; opacity: 0;\" class=\"endPoint left sub\" transform=\"matrix(1,0,0,1,28,-78)\"></circle><circle cx=\"108.79998779296875\" cy=\"99.625\" r=\"5\" stroke=\"#000000\" fill=\"#ffffff\" id=\"drup_elem_6_endpoint_3\" style=\"stroke-width: 1; opacity: 0;\" class=\"endPoint right sub\" transform=\"matrix(1,0,0,1,28,-78)\"></circle><circle cx=\"65.79998779296875\" cy=\"79.125\" r=\"5\" stroke=\"#000000\" fill=\"#ffffff\" id=\"drup_elem_6_endpoint_4\" style=\"stroke-width: 1; opacity: 0;\" class=\"endPoint left-up sub\" transform=\"matrix(1,0,0,1,28,-78)\"></circle><circle cx=\"65.79998779296875\" cy=\"120.125\" r=\"5\" stroke=\"#000000\" fill=\"#ffffff\" id=\"drup_elem_6_endpoint_5\" style=\"stroke-width: 1; opacity: 0;\" class=\"endPoint left-down sub\" transform=\"matrix(1,0,0,1,28,-78)\"></circle><circle cx=\"108.79998779296875\" cy=\"79.125\" r=\"5\" stroke=\"#000000\" fill=\"#ffffff\" id=\"drup_elem_6_endpoint_6\" style=\"stroke-width: 1; opacity: 0;\" class=\"endPoint right-up sub\" transform=\"matrix(1,0,0,1,28,-78)\"></circle><circle cx=\"108.79998779296875\" cy=\"120.125\" r=\"5\" stroke=\"#000000\" fill=\"#ffffff\" id=\"drup_elem_6_endpoint_7\" style=\"stroke-width: 1; opacity: 0;\" class=\"endPoint right-down sub\" transform=\"matrix(1,0,0,1,28,-78)\"></circle><text x=\"87.29998779296875\" y=\"99.625\" style=\"font-size: 20px; text-anchor: middle; alignment-baseline: central; opacity: 0;\" class=\"egal-label sub\" transform=\"matrix(1,0,0,1,28,-78)\">|</text></g><g id=\"drup_elem_14\" class=\"drupElem\"><rect x=\"65.79998779296875\" y=\"79.125\" width=\"43\" height=\"41\" fill=\"#ffffff\" stroke=\"#000000\" vector-effect=\"non-scaling-stroke\" style=\"stroke-width: 1;\" class=\"core alignable sub\" transform=\"matrix(1,0,0,1,28,4)\"></rect><circle cx=\"87.29998779296875\" cy=\"79.125\" r=\"5\" stroke=\"#000000\" fill=\"#ffffff\" id=\"drup_elem_14_endpoint_0\" style=\"stroke-width: 1; opacity: 0;\" class=\"endPoint up sub\" transform=\"matrix(1,0,0,1,28,4)\"></circle><circle cx=\"87.29998779296875\" cy=\"120.125\" r=\"5\" stroke=\"#000000\" fill=\"#ffffff\" id=\"drup_elem_14_endpoint_1\" style=\"stroke-width: 1; opacity: 0;\" class=\"endPoint down sub\" transform=\"matrix(1,0,0,1,28,4)\"></circle><circle cx=\"65.79998779296875\" cy=\"99.625\" r=\"5\" stroke=\"#000000\" fill=\"#ffffff\" id=\"drup_elem_14_endpoint_2\" style=\"stroke-width: 1; opacity: 0;\" class=\"endPoint left sub\" transform=\"matrix(1,0,0,1,28,4)\"></circle><circle cx=\"108.79998779296875\" cy=\"99.625\" r=\"5\" stroke=\"#000000\" fill=\"#ffffff\" id=\"drup_elem_14_endpoint_3\" style=\"stroke-width: 1; opacity: 0;\" class=\"endPoint right sub\" transform=\"matrix(1,0,0,1,28,4)\"></circle><circle cx=\"65.79998779296875\" cy=\"79.125\" r=\"5\" stroke=\"#000000\" fill=\"#ffffff\" id=\"drup_elem_14_endpoint_4\" style=\"stroke-width: 1; opacity: 0;\" class=\"endPoint left-up sub\" transform=\"matrix(1,0,0,1,28,4)\"></circle><circle cx=\"65.79998779296875\" cy=\"120.125\" r=\"5\" stroke=\"#000000\" fill=\"#ffffff\" id=\"drup_elem_14_endpoint_5\" style=\"stroke-width: 1; opacity: 0;\" class=\"endPoint left-down sub\" transform=\"matrix(1,0,0,1,28,4)\"></circle><circle cx=\"108.79998779296875\" cy=\"79.125\" r=\"5\" stroke=\"#000000\" fill=\"#ffffff\" id=\"drup_elem_14_endpoint_6\" style=\"stroke-width: 1; opacity: 0;\" class=\"endPoint right-up sub\" transform=\"matrix(1,0,0,1,28,4)\"></circle><circle cx=\"108.79998779296875\" cy=\"120.125\" r=\"5\" stroke=\"#000000\" fill=\"#ffffff\" id=\"drup_elem_14_endpoint_7\" style=\"stroke-width: 1; opacity: 0;\" class=\"endPoint right-down sub\" transform=\"matrix(1,0,0,1,28,4)\"></circle><text x=\"87.29998779296875\" y=\"99.625\" style=\"font-size: 20px; text-anchor: middle; alignment-baseline: central; opacity: 0;\" class=\"egal-label sub\" transform=\"matrix(1,0,0,1,28,4)\">|</text></g><g id=\"drup_elem_17\" class=\"drupElem\"><text x=\"104.79998779296875\" y=\"236.125\" class=\"core alignable sub egal-label\" style=\"text-anchor: middle; alignment-baseline: central; font-size: 20px;\" data-src=\"1\" transform=\"matrix(1,0,0,1,-16,-95)\">1</text></g><g id=\"drup_elem_18\" class=\"drupElem\"><text x=\"145.79998779296875\" y=\"245.125\" class=\"core alignable sub egal-label\" style=\"text-anchor: middle; alignment-baseline: central; font-size: 20px; visibility: visible; opacity: 1;\" data-src=\"2\" transform=\"matrix(1,0,0,1,-14,-104)\">2</text></g><g id=\"drup_elem_19\" class=\"drupElem\"><text x=\"103.79998779296875\" y=\"255.125\" class=\"core alignable sub egal-label\" style=\"text-anchor: middle; alignment-baseline: central; font-size: 20px;\"></text></g><g id=\"drup_elem_20\" class=\"drupElem\"><text x=\"278.79998779296875\" y=\"232.125\" class=\"core alignable sub egal-label\" style=\"text-anchor: middle; alignment-baseline: central; font-size: 20px;\"></text></g><g id=\"drup_elem_21\" class=\"drupElem\"><text x=\"224.79998779296875\" y=\"206.125\" class=\"core alignable sub egal-label\" style=\"text-anchor: middle; alignment-baseline: central; font-size: 20px;\"></text></g><g id=\"drup_elem_22\" class=\"drupElem\"><text x=\"298.79998779296875\" y=\"157.125\" class=\"core alignable sub egal-label\" style=\"text-anchor: middle; alignment-baseline: central; font-size: 20px;\"></text></g><g id=\"drup_elem_23\" class=\"drupElem\"><text x=\"37.79998779296875\" y=\"179.125\" class=\"core alignable sub egal-label\" style=\"text-anchor: middle; alignment-baseline: central; font-size: 20px;\" data-src=\"a\" transform=\"matrix(1,0,0,1,-7,-85)\">a</text></g><g id=\"drup_elem_24\" class=\"drupElem\"><text x=\"29.79998779296875\" y=\"147.125\" class=\"core alignable sub egal-label\" style=\"text-anchor: middle; alignment-baseline: central; font-size: 20px;\" data-src=\"b\" transform=\"matrix(1,0,0,1,0,-94)\">b</text></g><g id=\"drup_elem_25\" class=\"drupElem\"><text x=\"25.79998779296875\" y=\"168.125\" class=\"core alignable sub egal-label\" style=\"text-anchor: middle; alignment-baseline: central; font-size: 20px;\"></text></g><g id=\"drup_elem_26\" class=\"drupElem\"><text x=\"312.79998779296875\" y=\"103.125\" class=\"core alignable sub egal-label\" style=\"text-anchor: middle; alignment-baseline: central; font-size: 20px; visibility: visible; opacity: 1;\" data-src=\"(1,a)\" transform=\"matrix(0.808,0,0,0.7767,-158.877,-2.4731)\" fill=\"#ff00ff\">(1,a)</text></g><g id=\"drup_elem_30\" class=\"drupElem\"><text x=\"312.79998779296875\" y=\"103.125\" class=\"core alignable sub egal-label\" style=\"text-anchor: middle; alignment-baseline: central; font-size: 20px; visibility: visible; opacity: 1;\" data-src=\"(1,b)\" transform=\"matrix(0.808,0,0,0.7767,-158.877,-44.4731)\" fill=\"#ff00ff\">(1,b)</text></g><g id=\"drup_elem_31\" class=\"drupElem\"><text x=\"312.79998779296875\" y=\"103.125\" class=\"core alignable sub egal-label\" style=\"text-anchor: middle; alignment-baseline: central; font-size: 20px; visibility: visible; opacity: 1;\" data-src=\"(2,b)\" transform=\"matrix(0.808,0,0,0.7767,-115.877,-44.4731)\" fill=\"#ff00ff\">(2,b)</text></g><g id=\"drup_elem_29\" class=\"drupElem\"><text x=\"312.79998779296875\" y=\"103.125\" class=\"core alignable sub egal-label\" style=\"text-anchor: middle; alignment-baseline: central; font-size: 20px; visibility: visible; opacity: 1;\" data-src=\"(2,a)\" transform=\"matrix(0.808,0,0,0.7767,-115.877,-2.4731)\" fill=\"#ff00ff\">(2,a)</text></g><g id=\"drup_elem_27\" class=\"drupElem\"><text x=\"313.79998779296875\" y=\"112.125\" class=\"core alignable sub egal-label\" style=\"text-anchor: middle; alignment-baseline: central;\"></text></g><g id=\"drup_elem_28\" class=\"drupElem\"><text x=\"326.79998779296875\" y=\"128.125\" class=\"core alignable sub egal-label\" style=\"text-anchor: middle; alignment-baseline: central; font-size: 20px;\"></text></g><g id=\"drup_elem_32\" class=\"drupElem\"><text x=\"227.79998779296875\" y=\"51.92498779296875\" class=\"core alignable sub egal-label\" style=\"text-anchor: middle; alignment-baseline: central; font-size: 20px;\" data-src=\"rappresentazione\" transform=\"matrix(1,0,0,1,54,-40)\">rappresentazione</text></g><g id=\"drup_elem_33\" class=\"drupElem\"><text x=\"396.79998779296875\" y=\"110.92498779296875\" class=\"core alignable sub egal-label\" style=\"text-anchor: middle; alignment-baseline: central; font-size: 20px;\" data-src=\"cartesiana\" transform=\"matrix(1,0,0,1,-112,-72)\">cartesiana</text></g><g id=\"drup_elem_34\" class=\"drupElem\"><text x=\"372.79998779296875\" y=\"88.92498779296875\" class=\"core alignable sub egal-label\" style=\"text-anchor: middle; alignment-baseline: central; font-size: 20px;\"></text></g></svg>"
   ]
  },
  {
   "cell_type": "code",
   "execution_count": 131,
   "metadata": {
    "code_folding": [],
    "hidden": true
   },
   "outputs": [
    {
     "name": "stdout",
     "output_type": "stream",
     "text": [
      "A = {1, 2}\n",
      "B = {'a', 'b'}\n",
      "A x B = {(2, 'b'), (1, 'a'), (1, 'b'), (2, 'a')}\n"
     ]
    }
   ],
   "source": [
    "#prodotto cartesiano\n",
    "from itertools import product\n",
    "A = {1,2}\n",
    "B = {'a', 'b'}\n",
    "C = set(product(A,B))\n",
    "print(f'A = {A}')\n",
    "print(f'B = {B}')\n",
    "print(f'A x B = {C}')"
   ]
  },
  {
   "cell_type": "markdown",
   "metadata": {
    "heading_collapsed": true,
    "hidden": true
   },
   "source": [
    "##### Proprietà prodotto cartesiano"
   ]
  },
  {
   "cell_type": "markdown",
   "metadata": {
    "hidden": true
   },
   "source": [
    "__~~proprietà commutativa~~__<br>\n",
    "La proprietà commutativa non c'è per insiemi distinti (ma persiste per insiemi identici o comunque un solo insieme) <br>\n",
    "$ A \\ne B:\\quad A \\times B \\ne B \\times A \\\\\n",
    "  C = D:\\quad C \\times D  =  D \\times C \n",
    "$\n",
    "\n",
    "__proprietà insieme vuoto__<br>\n",
    "L'insieme vuoto annulla il prodotto cartesiano: <br>\n",
    "$ A \\times \\emptyset = \\emptyset \\times A = \\emptyset \\\\\n",
    "  \\emptyset \\times \\emptyset = \\emptyset\n",
    "$\n",
    "\n",
    "__proprietà distributiva__<br>\n",
    "Il prodotto cartesiano fra un insieme e l'unione di due insiemi corrisponde all'unione del prodotto del primo insieme per il secondo e del primo per il terzo.<br> O semplicemente moltiplicare un insieme per la somma degli elementi di due insiemi equivale a moltiplicarlo separatamente con entrambi e poi sommare i due risultati.<br>\n",
    "$ A \\times (B \\cup C) = (A \\times B) \\cup (A \\times C) $\n",
    "\n",
    "Il prodotto cartesiano fra un insieme e l'intersezione di due insieme corrisponde all'intersezione del prodotto del primo insieme per il secondo e del primo per il terzo.<br> O semplicemente moltiplicare un insieme per la somma degli elementi in comune di due insiemi equivale a moltiplicarlo separamente con entrambi e poi sommare gli elementi in comune dei due risultati.<br>\n",
    "$ A \\times (B \\cap C) = (A \\times B) \\cap (A \\times C) $"
   ]
  },
  {
   "cell_type": "code",
   "execution_count": 137,
   "metadata": {
    "code_folding": [
     0
    ],
    "hidden": true
   },
   "outputs": [
    {
     "name": "stdout",
     "output_type": "stream",
     "text": [
      "A = {1, 2}\n",
      "B = {3, 4}\n",
      "AxB ≠ BxA:    True\n",
      "C = {4, 5}\n",
      "D = {4, 5}\n",
      "CxD = DxC:    True\n",
      "Ax∅ = ∅xA = ∅:    True\n",
      "A x (B∪C) = (AxB) ∪ (AxC):    True\n",
      "A x (B∩C) = (AxB) ∩ (AxC):    True\n"
     ]
    }
   ],
   "source": [
    "#proprietà prodotto cartesiano\n",
    "from itertools import product\n",
    "\n",
    "#commutativa\n",
    "A = {1,2}\n",
    "B = {3,4}\n",
    "C = {4,5}\n",
    "D = {4,5}\n",
    "AxB = set(product(A, B))\n",
    "BxA = set(product(B, A))\n",
    "CxD = set(product(C, D))\n",
    "DxC = set(product(D, C))\n",
    "print(f'A = {A}\\nB = {B}')\n",
    "print(f'AxB ≠ BxA:    {AxB != BxA}')\n",
    "print(f'C = {C}\\nD = {D}')\n",
    "print(f'CxD = DxC:    {CxD == DxC}')\n",
    "\n",
    "#insieme vuoto\n",
    "V1 = set(product(A, set()))\n",
    "V2 = set(product(set(), A))\n",
    "print(f'Ax∅ = ∅xA = ∅:    {V1==V2==set()}')\n",
    "\n",
    "#proprietà distributiva\n",
    "AxBuC = set(product(A, (B | C)))\n",
    "AxC = set(product(A, C))\n",
    "print(f'A x (B∪C) = (AxB) ∪ (AxC):    {AxBuC == AxB | AxC}')\n",
    "AxBiC = set(product(A, (B & C)))\n",
    "print(f'A x (B∩C) = (AxB) ∩ (AxC):    {AxBiC == AxB & AxC}')\n"
   ]
  },
  {
   "cell_type": "markdown",
   "metadata": {
    "heading_collapsed": true,
    "hidden": true
   },
   "source": [
    "#### Ricoprimento finito di un insieme"
   ]
  },
  {
   "cell_type": "markdown",
   "metadata": {
    "hidden": true
   },
   "source": [
    "Quando l'unione di più insiemi __non vuoti__ restituisce esattamente il contenuto di un altro insieme, si parla di ricoprimento finito di questo insieme:<br>\n",
    "$\n",
    "A = \\{1,2,3,4,5\\} \\\\\n",
    "B = \\{1,2\\} \\\\\n",
    "C = \\{2,3,4\\} \\\\\n",
    "D = \\{1,5\\} \\\\\n",
    "A = B \\cup C \\cup D = C \\cup D \n",
    "$ <br>"
   ]
  },
  {
   "cell_type": "code",
   "execution_count": 139,
   "metadata": {
    "code_folding": [
     0
    ],
    "hidden": true
   },
   "outputs": [
    {
     "name": "stdout",
     "output_type": "stream",
     "text": [
      "A = BuCuD = CuD:    True\n"
     ]
    }
   ],
   "source": [
    "#ricoprimento finito di un insieme\n",
    "A = {1,2,3,4,5}\n",
    "B = {1,2}\n",
    "C = {2,3,4}\n",
    "D = {1,5}\n",
    "print(f'A = BuCuD = CuD:    {A == B|C|D == C|D}')"
   ]
  },
  {
   "cell_type": "markdown",
   "metadata": {
    "heading_collapsed": true,
    "hidden": true
   },
   "source": [
    "#### Partizione di un insieme"
   ]
  },
  {
   "cell_type": "markdown",
   "metadata": {
    "hidden": true
   },
   "source": [
    "Quando l'unione di insiemi __non vuoti__ e __senza elementi in comune__ restituisce esattamente il contenuto di un altro insieme, si parla di partizionamento di un insieme:<br>\n",
    "$\n",
    "A = \\{1,2,3,4,5\\} \\\\\n",
    "B = \\{1,2\\} \\\\\n",
    "C = \\{2,3,4\\} \\\\\n",
    "D = \\{1,5\\} \\\\\n",
    "A = B \\cup C \\cup D \\quad \\texttt{Non è un partizionamento dell'insieme A} \\\\\n",
    "A = C \\cup D \\quad \\texttt{È un partizionamento dell'insieme A}\n",
    "$ <br> <br>\n",
    "\n",
    "Con una definizione matematica:<br>\n",
    "Si dice che si opera una partizione dell'insieme E nelle classi (sottoinsiemi) $C_1, C_2, C_3,\\;......., C_n$ se tali classi godono delle seguenti proprietà:\n",
    "- Nessuna Classe è vuota <br>\n",
    "$ C_j \\ne \\emptyset $\n",
    "- Tutte le classi sono disgiunte fra loro <br>\n",
    "$ C_i \\cap C_j = \\emptyset $\n",
    "- L'unione di tutte le classi restituisce l'insieme E <br>\n",
    "\n",
    "$ \\bigcup_{i=1}^{i=n} \\quad C_i = E $"
   ]
  },
  {
   "cell_type": "code",
   "execution_count": 259,
   "metadata": {
    "code_folding": [
     0,
     4
    ],
    "hidden": true
   },
   "outputs": [
    {
     "name": "stdout",
     "output_type": "stream",
     "text": [
      "A = {1, 2, 3, 4, 5}\n",
      "B = {1, 2}\n",
      "C = {2, 3, 4}\n",
      "D = {1, 5}\n",
      "A = B u C u D:    ricoprimento\n",
      "A = C u D:    partizione\n"
     ]
    }
   ],
   "source": [
    "#ricoprimento o partizione\n",
    "from functools import reduce\n",
    "from itertools import combinations, takewhile\n",
    "\n",
    "def valuta_sottoinsiemi(start_set, *insiemi):\n",
    "    '''restituisce il tipo di insieme rispetto a quello di partenza'''\n",
    "    unione = reduce(lambda x,y: x | y, insiemi) # reduce(operator.__or__, insiemi)\n",
    "    c = {'nessuna relazione': True}\n",
    "    if len(insiemi) == 1:\n",
    "        c['identico'] = insiemi[0] == start_set\n",
    "    else:\n",
    "        if unione.issuperset(start_set):\n",
    "            c['soprainsieme'] = True \n",
    "        if unione.issubset(start_set):\n",
    "            c['sottoinsieme'] = True\n",
    "            if start_set == unione:\n",
    "                c['improprio'] = True\n",
    "                c.update({'ricoprimento':  all(map(lambda x: bool(x), insiemi))})\n",
    "                if c['ricoprimento']:\n",
    "                    c['partizione'] = not any(map(lambda x: x[0] & x[1], i.combinations(insiemi, 2)))\n",
    "    caratt = list(takewhile(lambda d: bool(d[1]), c.items()))[-1][0]\n",
    "    # print(c, end=' ')\n",
    "    return caratt\n",
    "vs = valuta_sottoinsiemi\n",
    "    \n",
    "A = {1,2,3,4,5}\n",
    "B = {1,2}\n",
    "C = {2,3,4}\n",
    "D = {1,5}\n",
    "# print(vs(A, {7,8}))\n",
    "# print(vs(A, {1,2,3,4,5}))\n",
    "# print(vs(A, {1,2,3}, {4,5,6}))\n",
    "# print(vs(A, {1,2,3}, {4}))\n",
    "print(f'A = {A}\\nB = {B}\\nC = {C}\\nD = {D}')\n",
    "print(f'A = B u C u D:    {vs(A, B,C,D)}')\n",
    "print(f'A = C u D:    {vs(A, C,D)}')\n"
   ]
  },
  {
   "cell_type": "markdown",
   "metadata": {},
   "source": [
    "## Relazioni"
   ]
  },
  {
   "cell_type": "markdown",
   "metadata": {},
   "source": []
  },
  {
   "cell_type": "markdown",
   "metadata": {
    "heading_collapsed": true,
    "hide_input": false
   },
   "source": [
    "# Codice non usato"
   ]
  },
  {
   "cell_type": "code",
   "execution_count": 73,
   "metadata": {
    "code_folding": [
     0,
     2
    ],
    "editable": false,
    "hidden": true,
    "run_control": {
     "frozen": true
    }
   },
   "outputs": [
    {
     "data": {
      "text/latex": [
       "$$A = \\{ OrderedSet([1, 2]) \\}$$"
      ],
      "text/plain": [
       "<IPython.core.display.Math object>"
      ]
     },
     "metadata": {},
     "output_type": "display_data"
    },
    {
     "data": {
      "text/latex": [
       "$$B = \\{ OrderedSet([2, 1]) \\}$$"
      ],
      "text/plain": [
       "<IPython.core.display.Math object>"
      ]
     },
     "metadata": {},
     "output_type": "display_data"
    },
    {
     "data": {
      "text/latex": [
       "$$A = B:\\quad False$$"
      ],
      "text/plain": [
       "<IPython.core.display.Math object>"
      ]
     },
     "metadata": {},
     "output_type": "display_data"
    }
   ],
   "source": [
    "#insieme ordinato\n",
    "import collections\n",
    "class OrderedSet(collections.MutableSet):\n",
    "    #implementazione set ordinati da questo codice\n",
    "    #http://code.activestate.com/recipes/576694/\n",
    "\n",
    "    def __init__(self, iterable=None):\n",
    "        self.end = end = [] \n",
    "        end += [None, end, end]         # sentinel node for doubly linked list\n",
    "        self.map = {}                   # key --> [key, prev, next]\n",
    "        if iterable is not None:\n",
    "            self |= iterable\n",
    "\n",
    "    def __len__(self):\n",
    "        return len(self.map)\n",
    "\n",
    "    def __contains__(self, key):\n",
    "        return key in self.map\n",
    "\n",
    "    def add(self, key):\n",
    "        if key not in self.map:\n",
    "            end = self.end\n",
    "            curr = end[1]\n",
    "            curr[2] = end[1] = self.map[key] = [key, curr, end]\n",
    "\n",
    "    def discard(self, key):\n",
    "        if key in self.map:        \n",
    "            key, prev, next = self.map.pop(key)\n",
    "            prev[2] = next\n",
    "            next[1] = prev\n",
    "\n",
    "    def __iter__(self):\n",
    "        end = self.end\n",
    "        curr = end[2]\n",
    "        while curr is not end:\n",
    "            yield curr[0]\n",
    "            curr = curr[2]\n",
    "\n",
    "    def __reversed__(self):\n",
    "        end = self.end\n",
    "        curr = end[1]\n",
    "        while curr is not end:\n",
    "            yield curr[0]\n",
    "            curr = curr[1]\n",
    "\n",
    "    def pop(self, last=True):\n",
    "        if not self:\n",
    "            raise KeyError('set is empty')\n",
    "        key = self.end[1][0] if last else self.end[2][0]\n",
    "        self.discard(key)\n",
    "        return key\n",
    "\n",
    "    def __repr__(self):\n",
    "        if not self:\n",
    "            return '%s()' % (self.__class__.__name__,)\n",
    "        return '%s(%r)' % (self.__class__.__name__, list(self))\n",
    "\n",
    "    def __eq__(self, other):\n",
    "        if isinstance(other, OrderedSet):\n",
    "            return len(self) == len(other) and list(self) == list(other)\n",
    "        return set(self) == set(other)\n",
    "\n",
    "from IPython.display import display, Math\n",
    "tex = lambda x: display(Math(x))\n",
    "\n",
    "A = OrderedSet([1,2])\n",
    "B = OrderedSet([2,1])\n",
    "tex(rf'A = \\{{ {A} \\}}')\n",
    "tex(rf'B = \\{{ {B} \\}}')\n",
    "tex(rf'A = B:\\quad {A == B}')"
   ]
  }
 ],
 "metadata": {
  "kernelspec": {
   "display_name": "Python 3",
   "language": "python",
   "name": "python3"
  },
  "language_info": {
   "codemirror_mode": {
    "name": "ipython",
    "version": 3
   },
   "file_extension": ".py",
   "mimetype": "text/x-python",
   "name": "python",
   "nbconvert_exporter": "python",
   "pygments_lexer": "ipython3",
   "version": "3.6.1"
  },
  "toc": {
   "colors": {
    "hover_highlight": "#DAA520",
    "navigate_num": "#000000",
    "navigate_text": "#333333",
    "running_highlight": "#FF0000",
    "selected_highlight": "#FFD700",
    "sidebar_border": "#EEEEEE",
    "wrapper_background": "#FFFFFF"
   },
   "moveMenuLeft": true,
   "nav_menu": {
    "height": "0px",
    "width": "0px"
   },
   "navigate_menu": true,
   "number_sections": true,
   "sideBar": true,
   "threshold": "6",
   "toc_cell": false,
   "toc_position": {
    "height": "538px",
    "left": "0px",
    "right": "958.636px",
    "top": "106px",
    "width": "258px"
   },
   "toc_section_display": "block",
   "toc_window_display": true,
   "widenNotebook": false
  },
  "varInspector": {
   "cols": {
    "lenName": 16,
    "lenType": 16,
    "lenVar": 40
   },
   "kernels_config": {
    "python": {
     "delete_cmd_postfix": "",
     "delete_cmd_prefix": "del ",
     "library": "var_list.py",
     "varRefreshCmd": "print(var_dic_list())"
    },
    "r": {
     "delete_cmd_postfix": ") ",
     "delete_cmd_prefix": "rm(",
     "library": "var_list.r",
     "varRefreshCmd": "cat(var_dic_list()) "
    }
   },
   "types_to_exclude": [
    "module",
    "function",
    "builtin_function_or_method",
    "instance",
    "_Feature"
   ],
   "window_display": false
  }
 },
 "nbformat": 4,
 "nbformat_minor": 2
}
