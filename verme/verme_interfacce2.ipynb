{
 "cells": [
  {
   "cell_type": "markdown",
   "metadata": {
    "run_control": {
     "frozen": false,
     "read_only": false
    }
   },
   "source": [
    "# Il verme è tratto\n",
    "Cercherò di creare una trasposizione di questo gioco da tavola, se mai ci riesca."
   ]
  },
  {
   "cell_type": "markdown",
   "metadata": {
    "heading_collapsed": true,
    "run_control": {
     "frozen": false,
     "read_only": false
    }
   },
   "source": [
    "## Regolamento\n",
    "Documento contenente le regole"
   ]
  },
  {
   "cell_type": "code",
   "execution_count": 26,
   "metadata": {
    "code_folding": [
     0
    ],
    "hidden": true,
    "run_control": {
     "frozen": false,
     "read_only": false
    },
    "scrolled": true
   },
   "outputs": [
    {
     "data": {
      "text/html": [
       "<iframe src=./regole.pdf width=100% height=350></iframe>"
      ],
      "text/plain": [
       "<IPython.core.display.HTML object>"
      ]
     },
     "metadata": {},
     "output_type": "display_data"
    }
   ],
   "source": [
    "%%HTML\n",
    "<iframe src=./regole.pdf width=100% height=350></iframe>"
   ]
  },
  {
   "cell_type": "markdown",
   "metadata": {
    "heading_collapsed": true,
    "run_control": {
     "frozen": false,
     "read_only": false
    }
   },
   "source": [
    "## Analisi\n",
    "Note sul problema"
   ]
  },
  {
   "cell_type": "markdown",
   "metadata": {
    "hidden": true,
    "run_control": {
     "frozen": false,
     "read_only": false
    }
   },
   "source": [
    "### Svolgimento\n",
    "In questa sezione cercherò di spiegare i passaggi della partita per comprendere meglio l'algoritmo da adottare"
   ]
  },
  {
   "cell_type": "markdown",
   "metadata": {
    "hidden": true,
    "run_control": {
     "frozen": false,
     "read_only": false
    }
   },
   "source": [
    "<span class=\"mark\">1. Si decide il numero di giocatori (da 2 a 7) e li si ordina per età dal più giovane al più vecchio (in origine si gioca in senso orario a partire dal più giovane)</span>\n",
    "<span class=\"mark\">2. Si dispongono le tessere sul tavolo a formare una griglia in ordine numerico (da 21 a 36)</span>\n",
    "3. Il primo giocatore lancia i dadi:\n",
    "    1. lancia 8 dadi e sceglie quale serie tenere con lo stesso numero in comune e può rilanciare i dadi rimanenti fino a quando:\n",
    "        * ottiene un numero maggiore o uguale a una tessera disponibie dalla griglia del tavolo\n",
    "        * ottiene un numero uguale ad una tessera in cima ad una pila di un altro giocatore\n",
    "        * non ci sono più serie con numeri in comune non precedentemente trattenuti (non si possono scegliere piu volte serie con lo stesso numero in comune)\n",
    "        * non si è almeno trattenuto una volta una serie con il simbolo del verme\n",
    "        * non ci sono più dadi da rilanciare\n",
    "    3. il giocatore prende una una tessera e la mette in cima alla sua pila se:\n",
    "        * ha totalizzato un numero maggiore o uguale ad una delle tessere disposte sulla griglia, prende una di queste\n",
    "        * ha totalizzato un numero uguale a una delle tessere in cima alla pila di un altro giocatore, prende questa\n",
    "    4. in tutti gli altri casi ha sballato e quindi, se possiede delle tessere, dovrà:\n",
    "        * restituire quella in cima alla sua pila reinserendola nella griglia\n",
    "        * se nella griglia ci sono ancora tessere dal valore più alto di quella restituita bisognerà capovolgere (e quindi rendere indisponibile) la tessera dal valore più alto presente nella griglia\n",
    "4. Si passa al giocatore seguente\n",
    "5. Il gioco ha fine quando non ci sono più tessere sottraibili dalla griglia\n",
    "6. Vince il giocatore che ha totalizzato più vermi (ogni tessera oltre al valore numerico ha anche un punteggio rappresentato da dei vermi, da uno a quattro)"
   ]
  },
  {
   "cell_type": "markdown",
   "metadata": {
    "heading_collapsed": true,
    "hidden": true,
    "run_control": {
     "frozen": false,
     "read_only": false
    }
   },
   "source": [
    "### Idee\n",
    "Quello che potrei implementare"
   ]
  },
  {
   "cell_type": "markdown",
   "metadata": {
    "hidden": true,
    "run_control": {
     "frozen": false,
     "read_only": false
    }
   },
   "source": [
    "* Per iniziare potrei gestire il gioco fra persone\n",
    "* Poi potrei integrare un pochetto di grafica (guizero?)\n",
    "* Poi potrei inserire intelligenza artificiale (difficile, basata sulle probabilità)\n",
    "* Infine potrei tentare di integrare il gioco in rete"
   ]
  },
  {
   "cell_type": "markdown",
   "metadata": {
    "heading_collapsed": true,
    "hidden": true,
    "run_control": {
     "frozen": false,
     "read_only": false
    }
   },
   "source": [
    "### Architettura\n",
    "Struttura del programma"
   ]
  },
  {
   "cell_type": "markdown",
   "metadata": {
    "hidden": true,
    "run_control": {
     "frozen": false,
     "read_only": false
    }
   },
   "source": [
    "Considerando le idee ecco come dovrei strutturare il programma:\n",
    "1. L'interfaccia è la parte di programma che ci permette di interagire (I/O) con esso e può cambiare\n",
    "2. I giocatori possono essere sia umani e artificiali, per cui le azioni che gli verranno richieste saranno esplicate manualmente (attraveso l'interfaccia) oppure automaticamente (intelligenza artificiale)\n",
    "3. Sarà inoltre possibile giocare in rete, questo vuol dire che ci dovranno essere giocatori remoti (struttura client server ?)\n",
    "\n",
    "Luoghi identificati\n",
    "- main: colui che gestisce l'esecuzione generale\n",
    "- interfaccia: tutti gli i/o\n",
    "- tavolo: tutto quello che è disposto sul tavolo (dadi, tessere, giocatori)\n",
    "- giocatori: possono essere umani/artificiali, hanno caratteristiche (nome, eta, immagine, indirizzo) e compiono azioni (sequenze dadi, pesca)\n",
    "- dadi: hanno delle facce e immagini, possono essere lanciati\n",
    "- tessere: hanno valori e punti e immagini\n",
    "\n",
    "Funzionamento\n",
    "Il main avvia l'interfaccia, il tavolo e la partita\n",
    "L'inter"
   ]
  },
  {
   "cell_type": "markdown",
   "metadata": {
    "heading_collapsed": true,
    "hidden": true,
    "run_control": {
     "frozen": false,
     "read_only": false
    }
   },
   "source": [
    "### Grafico\n",
    "rappresentazione struttura"
   ]
  },
  {
   "cell_type": "raw",
   "metadata": {
    "hidden": true,
    "hide_egal": false,
    "is_egal": true
   },
   "source": [
    "<svg height=\"250\" width=\"100%\"><desc>Created with Snap</desc><defs><filter id=\"Sj2g1v8e73\" filterUnits=\"userSpaceOnUse\"><feGaussianBlur in=\"SourceAlpha\" stdDeviation=\"3\"></feGaussianBlur><feOffset dx=\"0\" dy=\"2\" result=\"offsetblur\"></feOffset><feFlood flood-color=\"#000000\"></feFlood><feComposite in2=\"offsetblur\" operator=\"in\"></feComposite><feComponentTransfer><feFuncA type=\"linear\" slope=\"1\"></feFuncA></feComponentTransfer><feMerge><feMergeNode></feMergeNode><feMergeNode in=\"SourceGraphic\"></feMergeNode></feMerge></filter><marker viewBox=\"0 0 10 10\" markerWidth=\"10\" markerHeight=\"10\" orient=\"auto\" refX=\"9\" refY=\"3\" id=\"arrowEndMarker\"><polygon points=\"0,0,0,6,9,3,0,0\" fill=\"#323232\" id=\"arrow\"></polygon></marker><marker viewBox=\"0 0 10 10\" markerWidth=\"10\" markerHeight=\"10\" orient=\"auto\" refX=\"0\" refY=\"3\" id=\"arrowStartMarker\"><polygon points=\"0,3,9,0,9,6,0,3\" fill=\"#323232\" id=\"startArrow\"></polygon></marker><filter id=\"Sj2g5btfn3\" filterUnits=\"userSpaceOnUse\"><feGaussianBlur in=\"SourceAlpha\" stdDeviation=\"3\"></feGaussianBlur><feOffset dx=\"0\" dy=\"2\" result=\"offsetblur\"></feOffset><feFlood flood-color=\"#000000\"></feFlood><feComposite in2=\"offsetblur\" operator=\"in\"></feComposite><feComponentTransfer><feFuncA type=\"linear\" slope=\"1\"></feFuncA></feComponentTransfer><feMerge><feMergeNode></feMergeNode><feMergeNode in=\"SourceGraphic\"></feMergeNode></feMerge></filter><marker viewBox=\"0 0 10 10\" markerWidth=\"10\" markerHeight=\"10\" orient=\"auto\" refX=\"9\" refY=\"3\" id=\"arrowEndMarker\"><polygon points=\"0,0,0,6,9,3,0,0\" fill=\"#323232\" id=\"arrow\"></polygon></marker><marker viewBox=\"0 0 10 10\" markerWidth=\"10\" markerHeight=\"10\" orient=\"auto\" refX=\"0\" refY=\"3\" id=\"arrowStartMarker\"><polygon points=\"0,3,9,0,9,6,0,3\" fill=\"#323232\" id=\"startArrow\"></polygon></marker></defs><g id=\"drup_elem_2\" class=\"drupElem\"><text x=\"74.27841186523438\" y=\"66.64205932617188\" class=\"core alignable sub egal-label\" style=\"text-anchor: middle; alignment-baseline: central;\"></text></g><g id=\"drup_elem_3\" class=\"drupElem\"><text x=\"88.27841186523438\" y=\"59.642059326171875\" class=\"core alignable sub egal-label\" style=\"text-anchor: middle; alignment-baseline: central;\"></text></g><g id=\"drup_elem_4\" class=\"drupElem\"><text x=\"88.27841186523438\" y=\"75.64205932617188\" class=\"core alignable sub egal-label\" style=\"text-anchor: middle; alignment-baseline: central; font-size: 20px;\"></text></g><g id=\"drup_elem_6\" class=\"drupElem\"><text x=\"180.27841186523438\" y=\"19.642059326171875\" class=\"core alignable sub egal-label\" style=\"text-anchor: middle; alignment-baseline: central;\"></text></g><g id=\"drup_elem_7\" class=\"drupElem\"><text x=\"155.27841186523438\" y=\"80.64205932617188\" class=\"core alignable sub egal-label\" style=\"text-anchor: middle; alignment-baseline: central; font-size: 20px;\"></text></g><g id=\"drup_elem_9\" class=\"drupElem\"><text x=\"278.2784118652344\" y=\"38.642059326171875\" class=\"core alignable sub egal-label\" style=\"text-anchor: middle; alignment-baseline: central; font-size: 20px;\"></text></g><g id=\"drup_elem_11\" class=\"drupElem\"><text x=\"268.2784118652344\" y=\"19.642059326171875\" class=\"core alignable sub egal-label\" style=\"text-anchor: middle; alignment-baseline: central;\"></text></g><g id=\"drup_elem_12\" class=\"drupElem\"><text x=\"240.27841186523438\" y=\"89.64205932617188\" class=\"core alignable sub egal-label\" style=\"text-anchor: middle; alignment-baseline: central; font-size: 20px;\"></text></g><g id=\"drup_elem_15\" class=\"drupElem\"><text x=\"517.2784271240234\" y=\"55.642059326171875\" style=\"font-size: 20px; text-anchor: middle; alignment-baseline: central; opacity: 0;\" class=\"egal-label sub\">|</text></g><g id=\"drup_elem_16\" class=\"drupElem\"><rect x=\"54.278411865234375\" y=\"86.64205932617188\" width=\"108\" height=\"30\" fill=\"#ffffff\" stroke=\"#000000\" vector-effect=\"non-scaling-stroke\" style=\"stroke-width: 1;\" class=\"core alignable sub\" transform=\"matrix(0.6204,0,0,0.9333,-27.3943,-46.2236)\"></rect><circle cx=\"108.27841186523438\" cy=\"86.64205932617188\" r=\"5\" stroke=\"#000000\" fill=\"#ffffff\" id=\"drup_elem_16_endpoint_0\" style=\"stroke-width: 1; opacity: 0;\" class=\"endPoint up sub\" transform=\"matrix(1,0,0,1,-68.5,-52)\"></circle><circle cx=\"108.27841186523438\" cy=\"116.64205932617188\" r=\"5\" stroke=\"#000000\" fill=\"#ffffff\" id=\"drup_elem_16_endpoint_1\" style=\"stroke-width: 1; opacity: 0;\" class=\"endPoint down sub\" transform=\"matrix(1,0,0,1,-68.5,-54.0001)\"></circle><circle cx=\"54.278411865234375\" cy=\"101.64205932617188\" r=\"5\" stroke=\"#000000\" fill=\"#ffffff\" id=\"drup_elem_16_endpoint_2\" style=\"stroke-width: 1; opacity: 0;\" class=\"endPoint left sub\" transform=\"matrix(1,0,0,1,-48,-53.0001)\"></circle><circle cx=\"162.27841186523438\" cy=\"101.64205932617188\" r=\"5\" stroke=\"#000000\" fill=\"#ffffff\" id=\"drup_elem_16_endpoint_3\" style=\"stroke-width: 1; opacity: 0;\" class=\"endPoint right sub\" transform=\"matrix(1,0,0,1,-89,-53.0001)\"></circle><circle cx=\"54.278411865234375\" cy=\"86.64205932617188\" r=\"5\" stroke=\"#000000\" fill=\"#ffffff\" id=\"drup_elem_16_endpoint_4\" style=\"stroke-width: 1; opacity: 0;\" class=\"endPoint left-up sub\" transform=\"matrix(1,0,0,1,-48,-52)\"></circle><circle cx=\"54.278411865234375\" cy=\"116.64205932617188\" r=\"5\" stroke=\"#000000\" fill=\"#ffffff\" id=\"drup_elem_16_endpoint_5\" style=\"stroke-width: 1; opacity: 0;\" class=\"endPoint left-down sub\" transform=\"matrix(1,0,0,1,-48,-54.0001)\"></circle><circle cx=\"162.27841186523438\" cy=\"86.64205932617188\" r=\"5\" stroke=\"#000000\" fill=\"#ffffff\" id=\"drup_elem_16_endpoint_6\" style=\"stroke-width: 1; opacity: 0;\" class=\"endPoint right-up sub\" transform=\"matrix(1,0,0,1,-89,-52)\"></circle><circle cx=\"162.27841186523438\" cy=\"116.64205932617188\" r=\"5\" stroke=\"#000000\" fill=\"#ffffff\" id=\"drup_elem_16_endpoint_7\" style=\"stroke-width: 1; opacity: 0;\" class=\"endPoint right-down sub\" transform=\"matrix(1,0,0,1,-89,-54.0001)\"></circle><text x=\"108.27841186523438\" y=\"101.64206314086914\" style=\"font-size: 20px; text-anchor: middle; alignment-baseline: central; opacity: 1; visibility: visible;\" class=\"egal-label sub\" transform=\"matrix(1,0,0,1,-68.3231,-53)\" data-src=\"Tui/Gui\">Tui/Gui</text></g><g id=\"drup_elem_32\" class=\"drupElem egal-select\"><rect x=\"54.278411865234375\" y=\"86.64205932617188\" width=\"108\" height=\"30\" fill=\"#ffffff\" stroke=\"#000000\" vector-effect=\"non-scaling-stroke\" style=\"stroke-width: 1;\" class=\"core alignable sub\" transform=\"matrix(0.6204,0,0,0.9333,575.6057,-46.2236)\"></rect><circle cx=\"108.27841186523438\" cy=\"86.64205932617188\" r=\"5\" stroke=\"#000000\" fill=\"#ffffff\" id=\"drup_elem_32_endpoint_0\" style=\"stroke-width: 1; opacity: 0;\" class=\"endPoint up sub\" transform=\"matrix(1,0,0,1,534.5,-52)\"></circle><circle cx=\"108.27841186523438\" cy=\"116.64205932617188\" r=\"5\" stroke=\"#000000\" fill=\"#ffffff\" id=\"drup_elem_32_endpoint_1\" style=\"stroke-width: 1; opacity: 0;\" class=\"endPoint down sub\" transform=\"matrix(1,0,0,1,534.5,-54.0001)\"></circle><circle cx=\"54.278411865234375\" cy=\"101.64205932617188\" r=\"5\" stroke=\"#000000\" fill=\"#ffffff\" id=\"drup_elem_32_endpoint_2\" style=\"stroke-width: 1; opacity: 0;\" class=\"endPoint left sub\" transform=\"matrix(1,0,0,1,555,-53.0001)\"></circle><circle cx=\"162.27841186523438\" cy=\"101.64205932617188\" r=\"5\" stroke=\"#000000\" fill=\"#ffffff\" id=\"drup_elem_32_endpoint_3\" style=\"stroke-width: 1; opacity: 0;\" class=\"endPoint right sub\" transform=\"matrix(1,0,0,1,514,-53.0001)\"></circle><circle cx=\"54.278411865234375\" cy=\"86.64205932617188\" r=\"5\" stroke=\"#000000\" fill=\"#ffffff\" id=\"drup_elem_32_endpoint_4\" style=\"stroke-width: 1; opacity: 0;\" class=\"endPoint left-up sub\" transform=\"matrix(1,0,0,1,555,-52)\"></circle><circle cx=\"54.278411865234375\" cy=\"116.64205932617188\" r=\"5\" stroke=\"#000000\" fill=\"#ffffff\" id=\"drup_elem_32_endpoint_5\" style=\"stroke-width: 1; opacity: 0;\" class=\"endPoint left-down sub\" transform=\"matrix(1,0,0,1,555,-54.0001)\"></circle><circle cx=\"162.27841186523438\" cy=\"86.64205932617188\" r=\"5\" stroke=\"#000000\" fill=\"#ffffff\" id=\"drup_elem_32_endpoint_6\" style=\"stroke-width: 1; opacity: 0;\" class=\"endPoint right-up sub\" transform=\"matrix(1,0,0,1,514,-52)\"></circle><circle cx=\"162.27841186523438\" cy=\"116.64205932617188\" r=\"5\" stroke=\"#000000\" fill=\"#ffffff\" id=\"drup_elem_32_endpoint_7\" style=\"stroke-width: 1; opacity: 0;\" class=\"endPoint right-down sub\" transform=\"matrix(1,0,0,1,514,-54.0001)\"></circle><text x=\"108.27841186523438\" y=\"101.64206314086914\" style=\"font-size: 20px; text-anchor: middle; alignment-baseline: central; opacity: 1; visibility: visible;\" class=\"egal-label sub\" transform=\"matrix(1,0,0,1,534.6769,-53)\" data-src=\"Gioca\">Gioca</text></g><g id=\"drup_elem_17\" class=\"drupElem\"><rect x=\"118.27841186523438\" y=\"104.64205932617188\" width=\"0\" height=\"0\" fill=\"#ffffff\" stroke=\"#000000\" vector-effect=\"non-scaling-stroke\" style=\"stroke-width: 1;\" class=\"core alignable sub\"></rect><circle cx=\"118.27841186523438\" cy=\"104.64205932617188\" r=\"5\" stroke=\"#000000\" fill=\"#ffffff\" id=\"drup_elem_17_endpoint_0\" style=\"stroke-width: 1; opacity: 0;\" class=\"endPoint up sub\"></circle><circle cx=\"118.27841186523438\" cy=\"104.64205932617188\" r=\"5\" stroke=\"#000000\" fill=\"#ffffff\" id=\"drup_elem_17_endpoint_1\" style=\"stroke-width: 1; opacity: 0;\" class=\"endPoint down sub\"></circle><circle cx=\"118.27841186523438\" cy=\"104.64205932617188\" r=\"5\" stroke=\"#000000\" fill=\"#ffffff\" id=\"drup_elem_17_endpoint_2\" style=\"stroke-width: 1; opacity: 0;\" class=\"endPoint left sub\"></circle><circle cx=\"118.27841186523438\" cy=\"104.64205932617188\" r=\"5\" stroke=\"#000000\" fill=\"#ffffff\" id=\"drup_elem_17_endpoint_3\" style=\"stroke-width: 1; opacity: 0;\" class=\"endPoint right sub\"></circle><circle cx=\"118.27841186523438\" cy=\"104.64205932617188\" r=\"5\" stroke=\"#000000\" fill=\"#ffffff\" id=\"drup_elem_17_endpoint_4\" style=\"stroke-width: 1; opacity: 0;\" class=\"endPoint left-up sub\"></circle><circle cx=\"118.27841186523438\" cy=\"104.64205932617188\" r=\"5\" stroke=\"#000000\" fill=\"#ffffff\" id=\"drup_elem_17_endpoint_5\" style=\"stroke-width: 1; opacity: 0;\" class=\"endPoint left-down sub\"></circle><circle cx=\"118.27841186523438\" cy=\"104.64205932617188\" r=\"5\" stroke=\"#000000\" fill=\"#ffffff\" id=\"drup_elem_17_endpoint_6\" style=\"stroke-width: 1; opacity: 0;\" class=\"endPoint right-up sub\"></circle><circle cx=\"118.27841186523438\" cy=\"104.64205932617188\" r=\"5\" stroke=\"#000000\" fill=\"#ffffff\" id=\"drup_elem_17_endpoint_7\" style=\"stroke-width: 1; opacity: 0;\" class=\"endPoint right-down sub\"></circle><text x=\"118.2784194946289\" y=\"104.64205932617188\" style=\"font-size: 20px; text-anchor: middle; alignment-baseline: central; opacity: 0; visibility: visible;\" class=\"egal-label sub\">|</text></g><g id=\"drup_elem_19\" class=\"drupElem\"><rect x=\"175.27841186523438\" y=\"76.64205932617188\" width=\"100\" height=\"28\" fill=\"#ffffff\" stroke=\"#000000\" vector-effect=\"non-scaling-stroke\" style=\"stroke-width: 1;\" class=\"core alignable sub\" transform=\"matrix(0.87,0,0,1,-49.2138,-42)\"></rect><circle cx=\"225.27841186523438\" cy=\"76.64205932617188\" r=\"5\" stroke=\"#000000\" fill=\"#ffffff\" id=\"drup_elem_19_endpoint_0\" style=\"stroke-width: 1; opacity: 0;\" class=\"endPoint up sub\" transform=\"matrix(1,0,0,1,-78.5,-42)\"></circle><circle cx=\"225.27841186523438\" cy=\"104.64205932617188\" r=\"5\" stroke=\"#000000\" fill=\"#ffffff\" id=\"drup_elem_19_endpoint_1\" style=\"stroke-width: 1; opacity: 0;\" class=\"endPoint down sub\" transform=\"matrix(1,0,0,1,-78.5,-42)\"></circle><circle cx=\"175.27841186523438\" cy=\"90.64205932617188\" r=\"5\" stroke=\"#000000\" fill=\"#ffffff\" id=\"drup_elem_19_endpoint_2\" style=\"stroke-width: 1; opacity: 0;\" class=\"endPoint left sub\" transform=\"matrix(1,0,0,1,-72,-42)\"></circle><circle cx=\"275.2784118652344\" cy=\"90.64205932617188\" r=\"5\" stroke=\"#000000\" fill=\"#ffffff\" id=\"drup_elem_19_endpoint_3\" style=\"stroke-width: 1; opacity: 0;\" class=\"endPoint right sub\" transform=\"matrix(1,0,0,1,-85,-42)\"></circle><circle cx=\"175.27841186523438\" cy=\"76.64205932617188\" r=\"5\" stroke=\"#000000\" fill=\"#ffffff\" id=\"drup_elem_19_endpoint_4\" style=\"stroke-width: 1; opacity: 0;\" class=\"endPoint left-up sub\" transform=\"matrix(1,0,0,1,-72,-42)\"></circle><circle cx=\"175.27841186523438\" cy=\"104.64205932617188\" r=\"5\" stroke=\"#000000\" fill=\"#ffffff\" id=\"drup_elem_19_endpoint_5\" style=\"stroke-width: 1; opacity: 0;\" class=\"endPoint left-down sub\" transform=\"matrix(1,0,0,1,-72,-42)\"></circle><circle cx=\"275.2784118652344\" cy=\"76.64205932617188\" r=\"5\" stroke=\"#000000\" fill=\"#ffffff\" id=\"drup_elem_19_endpoint_6\" style=\"stroke-width: 1; opacity: 0;\" class=\"endPoint right-up sub\" transform=\"matrix(1,0,0,1,-85,-42)\"></circle><circle cx=\"275.2784118652344\" cy=\"104.64205932617188\" r=\"5\" stroke=\"#000000\" fill=\"#ffffff\" id=\"drup_elem_19_endpoint_7\" style=\"stroke-width: 1; opacity: 0;\" class=\"endPoint right-down sub\" transform=\"matrix(1,0,0,1,-85,-42)\"></circle><text x=\"225.27841186523438\" y=\"90.64205932617188\" style=\"font-size: 20px; text-anchor: middle; alignment-baseline: central; opacity: 1; visibility: visible;\" class=\"egal-label sub\" data-src=\"Loc/Rem\" transform=\"matrix(1,0,0,1,-78.4973,-42)\">Loc/Rem</text></g><g id=\"drup_elem_20\" class=\"drupElem\"><rect x=\"175.27841186523438\" y=\"76.64205932617188\" width=\"100\" height=\"28\" fill=\"#ffffff\" stroke=\"#000000\" vector-effect=\"non-scaling-stroke\" style=\"stroke-width: 1;\" class=\"core alignable sub\" transform=\"matrix(0.99,0,0,1,50.7528,-42)\"></rect><circle cx=\"225.27841186523438\" cy=\"76.64205932617188\" r=\"5\" stroke=\"#000000\" fill=\"#ffffff\" id=\"drup_elem_20_endpoint_0\" style=\"stroke-width: 1; opacity: 0;\" class=\"endPoint up sub\" transform=\"matrix(1,0,0,1,48.5,-42)\"></circle><circle cx=\"225.27841186523438\" cy=\"104.64205932617188\" r=\"5\" stroke=\"#000000\" fill=\"#ffffff\" id=\"drup_elem_20_endpoint_1\" style=\"stroke-width: 1; opacity: 0;\" class=\"endPoint down sub\" transform=\"matrix(1,0,0,1,48.5,-42)\"></circle><circle cx=\"175.27841186523438\" cy=\"90.64205932617188\" r=\"5\" stroke=\"#000000\" fill=\"#ffffff\" id=\"drup_elem_20_endpoint_2\" style=\"stroke-width: 1; opacity: 0;\" class=\"endPoint left sub\" transform=\"matrix(1,0,0,1,49,-42)\"></circle><circle cx=\"275.2784118652344\" cy=\"90.64205932617188\" r=\"5\" stroke=\"#000000\" fill=\"#ffffff\" id=\"drup_elem_20_endpoint_3\" style=\"stroke-width: 1; opacity: 0;\" class=\"endPoint right sub\" transform=\"matrix(1,0,0,1,48,-42)\"></circle><circle cx=\"175.27841186523438\" cy=\"76.64205932617188\" r=\"5\" stroke=\"#000000\" fill=\"#ffffff\" id=\"drup_elem_20_endpoint_4\" style=\"stroke-width: 1; opacity: 0;\" class=\"endPoint left-up sub\" transform=\"matrix(1,0,0,1,49,-42)\"></circle><circle cx=\"175.27841186523438\" cy=\"104.64205932617188\" r=\"5\" stroke=\"#000000\" fill=\"#ffffff\" id=\"drup_elem_20_endpoint_5\" style=\"stroke-width: 1; opacity: 0;\" class=\"endPoint left-down sub\" transform=\"matrix(1,0,0,1,49,-42)\"></circle><circle cx=\"275.2784118652344\" cy=\"76.64205932617188\" r=\"5\" stroke=\"#000000\" fill=\"#ffffff\" id=\"drup_elem_20_endpoint_6\" style=\"stroke-width: 1; opacity: 0;\" class=\"endPoint right-up sub\" transform=\"matrix(1,0,0,1,48,-42)\"></circle><circle cx=\"275.2784118652344\" cy=\"104.64205932617188\" r=\"5\" stroke=\"#000000\" fill=\"#ffffff\" id=\"drup_elem_20_endpoint_7\" style=\"stroke-width: 1; opacity: 0;\" class=\"endPoint right-down sub\" transform=\"matrix(1,0,0,1,48,-42)\"></circle><text x=\"225.27841186523438\" y=\"90.64205932617188\" style=\"font-size: 20px; text-anchor: middle; alignment-baseline: central; opacity: 1; visibility: visible;\" class=\"egal-label sub\" data-src=\"Serv/Client\" transform=\"matrix(1,0,0,1,48.4938,-42)\">Serv/Client</text></g><g id=\"drup_elem_24\" class=\"drupElem\"><rect x=\"175.27841186523438\" y=\"76.64205932617188\" width=\"100\" height=\"28\" fill=\"#ffffff\" stroke=\"#000000\" vector-effect=\"non-scaling-stroke\" style=\"stroke-width: 1;\" class=\"core alignable sub\" transform=\"matrix(0.99,0,0,1,181.7528,-42)\"></rect><circle cx=\"225.27841186523438\" cy=\"76.64205932617188\" r=\"5\" stroke=\"#000000\" fill=\"#ffffff\" id=\"drup_elem_24_endpoint_0\" style=\"stroke-width: 1; opacity: 0;\" class=\"endPoint up sub\" transform=\"matrix(1,0,0,1,179.5,-42)\"></circle><circle cx=\"225.27841186523438\" cy=\"104.64205932617188\" r=\"5\" stroke=\"#000000\" fill=\"#ffffff\" id=\"drup_elem_24_endpoint_1\" style=\"stroke-width: 1; opacity: 0;\" class=\"endPoint down sub\" transform=\"matrix(1,0,0,1,179.5,-42)\"></circle><circle cx=\"175.27841186523438\" cy=\"90.64205932617188\" r=\"5\" stroke=\"#000000\" fill=\"#ffffff\" id=\"drup_elem_24_endpoint_2\" style=\"stroke-width: 1; opacity: 0;\" class=\"endPoint left sub\" transform=\"matrix(1,0,0,1,180,-42)\"></circle><circle cx=\"275.2784118652344\" cy=\"90.64205932617188\" r=\"5\" stroke=\"#000000\" fill=\"#ffffff\" id=\"drup_elem_24_endpoint_3\" style=\"stroke-width: 1; opacity: 0;\" class=\"endPoint right sub\" transform=\"matrix(1,0,0,1,179,-42)\"></circle><circle cx=\"175.27841186523438\" cy=\"76.64205932617188\" r=\"5\" stroke=\"#000000\" fill=\"#ffffff\" id=\"drup_elem_24_endpoint_4\" style=\"stroke-width: 1; opacity: 0;\" class=\"endPoint left-up sub\" transform=\"matrix(1,0,0,1,180,-42)\"></circle><circle cx=\"175.27841186523438\" cy=\"104.64205932617188\" r=\"5\" stroke=\"#000000\" fill=\"#ffffff\" id=\"drup_elem_24_endpoint_5\" style=\"stroke-width: 1; opacity: 0;\" class=\"endPoint left-down sub\" transform=\"matrix(1,0,0,1,180,-42)\"></circle><circle cx=\"275.2784118652344\" cy=\"76.64205932617188\" r=\"5\" stroke=\"#000000\" fill=\"#ffffff\" id=\"drup_elem_24_endpoint_6\" style=\"stroke-width: 1; opacity: 0;\" class=\"endPoint right-up sub\" transform=\"matrix(1,0,0,1,179,-42)\"></circle><circle cx=\"275.2784118652344\" cy=\"104.64205932617188\" r=\"5\" stroke=\"#000000\" fill=\"#ffffff\" id=\"drup_elem_24_endpoint_7\" style=\"stroke-width: 1; opacity: 0;\" class=\"endPoint right-down sub\" transform=\"matrix(1,0,0,1,179,-42)\"></circle><text x=\"225.27841186523438\" y=\"90.64205932617188\" style=\"font-size: 20px; text-anchor: middle; alignment-baseline: central; opacity: 1; visibility: visible;\" class=\"egal-label sub\" data-src=\"iniz giocat\" transform=\"matrix(1,0,0,1,179.4938,-42)\">iniz giocat</text></g><g id=\"drup_elem_26\" class=\"drupElem\"><rect x=\"175.27841186523438\" y=\"76.64205932617188\" width=\"100\" height=\"28\" fill=\"#ffffff\" stroke=\"#000000\" vector-effect=\"non-scaling-stroke\" style=\"stroke-width: 1;\" class=\"core alignable sub\" transform=\"matrix(0.99,0,0,1,313.7528,-42)\"></rect><circle cx=\"225.27841186523438\" cy=\"76.64205932617188\" r=\"5\" stroke=\"#000000\" fill=\"#ffffff\" id=\"drup_elem_26_endpoint_0\" style=\"stroke-width: 1; opacity: 0;\" class=\"endPoint up sub\" transform=\"matrix(1,0,0,1,311.5,-42)\"></circle><circle cx=\"225.27841186523438\" cy=\"104.64205932617188\" r=\"5\" stroke=\"#000000\" fill=\"#ffffff\" id=\"drup_elem_26_endpoint_1\" style=\"stroke-width: 1; opacity: 0;\" class=\"endPoint down sub\" transform=\"matrix(1,0,0,1,311.5,-42)\"></circle><circle cx=\"175.27841186523438\" cy=\"90.64205932617188\" r=\"5\" stroke=\"#000000\" fill=\"#ffffff\" id=\"drup_elem_26_endpoint_2\" style=\"stroke-width: 1; opacity: 0;\" class=\"endPoint left sub\" transform=\"matrix(1,0,0,1,312,-42)\"></circle><circle cx=\"275.2784118652344\" cy=\"90.64205932617188\" r=\"5\" stroke=\"#000000\" fill=\"#ffffff\" id=\"drup_elem_26_endpoint_3\" style=\"stroke-width: 1; opacity: 0;\" class=\"endPoint right sub\" transform=\"matrix(1,0,0,1,311,-42)\"></circle><circle cx=\"175.27841186523438\" cy=\"76.64205932617188\" r=\"5\" stroke=\"#000000\" fill=\"#ffffff\" id=\"drup_elem_26_endpoint_4\" style=\"stroke-width: 1; opacity: 0;\" class=\"endPoint left-up sub\" transform=\"matrix(1,0,0,1,312,-42)\"></circle><circle cx=\"175.27841186523438\" cy=\"104.64205932617188\" r=\"5\" stroke=\"#000000\" fill=\"#ffffff\" id=\"drup_elem_26_endpoint_5\" style=\"stroke-width: 1; opacity: 0;\" class=\"endPoint left-down sub\" transform=\"matrix(1,0,0,1,312,-42)\"></circle><circle cx=\"275.2784118652344\" cy=\"76.64205932617188\" r=\"5\" stroke=\"#000000\" fill=\"#ffffff\" id=\"drup_elem_26_endpoint_6\" style=\"stroke-width: 1; opacity: 0;\" class=\"endPoint right-up sub\" transform=\"matrix(1,0,0,1,311,-42)\"></circle><circle cx=\"275.2784118652344\" cy=\"104.64205932617188\" r=\"5\" stroke=\"#000000\" fill=\"#ffffff\" id=\"drup_elem_26_endpoint_7\" style=\"stroke-width: 1; opacity: 0;\" class=\"endPoint right-down sub\" transform=\"matrix(1,0,0,1,311,-42)\"></circle><text x=\"225.27841186523438\" y=\"90.64205932617188\" style=\"font-size: 20px; text-anchor: middle; alignment-baseline: central; opacity: 1; visibility: visible;\" class=\"egal-label sub\" data-src=\"iniz tavolo\" transform=\"matrix(1,0,0,1,311.4938,-42)\">iniz tavolo</text></g><g id=\"drup_elem_21\" class=\"drupElem\"><line x1=\"190.27841186523438\" x2=\"224.27841186523438\" y1=\"48.642059326171875\" y2=\"48.642059326171875\" stroke=\"#000000\" data-n1=\"drup_elem_19_endpoint_3\" style=\"marker-end: url(&quot;#arrowEndMarker&quot;);\" class=\"drupElem connector egal-line core\" data-n2=\"drup_elem_20_endpoint_2\"></line><text x=\"274.7784118652344\" y=\"48.642059326171875\" style=\"font-size: 20px; text-anchor: middle; alignment-baseline: central; opacity: 0;\" class=\"egal-label sub\">|</text></g><g id=\"drup_elem_22\" class=\"drupElem\"><line x1=\"73.27841186523438\" x2=\"103.27841186523438\" y1=\"48.64195932617187\" y2=\"48.642059326171875\" stroke=\"#000000\" data-n1=\"drup_elem_16_endpoint_3\" style=\"marker-end: url(&quot;#arrowEndMarker&quot;);\" class=\"drupElem connector egal-line core\" data-n2=\"drup_elem_19_endpoint_2\"></line><text x=\"118.77841186523438\" y=\"48.64200973510742\" style=\"font-size: 20px; text-anchor: middle; alignment-baseline: central; opacity: 0;\" class=\"egal-label sub\">|</text></g><g id=\"drup_elem_25\" class=\"drupElem\"><line x1=\"323.2784118652344\" x2=\"355.2784118652344\" y1=\"48.642059326171875\" y2=\"48.642059326171875\" stroke=\"#000000\" data-n1=\"drup_elem_20_endpoint_3\" style=\"marker-end: url(&quot;#arrowEndMarker&quot;);\" class=\"drupElem connector egal-line core\" data-n2=\"drup_elem_24_endpoint_2\"></line><text x=\"387.2784118652344\" y=\"49.142059326171875\" style=\"font-size: 20px; text-anchor: middle; alignment-baseline: central; opacity: 0;\" class=\"egal-label sub\">|</text></g><g id=\"drup_elem_27\" class=\"drupElem\"><line x1=\"454.2784118652344\" x2=\"487.2784118652344\" y1=\"48.642059326171875\" y2=\"48.642059326171875\" stroke=\"#000000\" data-n1=\"drup_elem_24_endpoint_3\" style=\"marker-end: url(&quot;#arrowEndMarker&quot;);\" class=\"drupElem connector egal-line core\" data-n2=\"drup_elem_26_endpoint_2\"></line><text x=\"532.7784271240234\" y=\"49.142059326171875\" style=\"font-size: 20px; text-anchor: middle; alignment-baseline: central; opacity: 0;\" class=\"egal-label sub\">|</text></g><g id=\"drup_elem_28\" class=\"drupElem\"><text x=\"500.2784118652344\" y=\"101.95455932617188\" class=\"core alignable sub egal-label\" style=\"text-anchor: middle; alignment-baseline: central; font-size: 20px; visibility: visible; opacity: 1;\" data-src=\"tessere, dadi\" transform=\"matrix(0.5239,0,0,0.868,268.4998,-11.0371)\">tessere, dadi</text></g><g id=\"drup_elem_29\" class=\"drupElem\"><text x=\"504.2784118652344\" y=\"106.95455932617188\" class=\"core alignable sub egal-label\" style=\"text-anchor: middle; alignment-baseline: central;\"></text></g><g id=\"drup_elem_30\" class=\"drupElem\"><text x=\"505.2784118652344\" y=\"96.95455932617188\" class=\"core alignable sub egal-label\" style=\"text-anchor: middle; alignment-baseline: central;\"></text></g><g id=\"drup_elem_31\" class=\"drupElem\"><text x=\"506.2784118652344\" y=\"116.95455932617188\" class=\"core alignable sub egal-label\" style=\"text-anchor: middle; alignment-baseline: central; font-size: 20px;\"></text></g></svg>"
   ]
  },
  {
   "cell_type": "markdown",
   "metadata": {
    "run_control": {
     "frozen": false,
     "read_only": false
    }
   },
   "source": [
    "## Codice"
   ]
  },
  {
   "cell_type": "code",
   "execution_count": 6,
   "metadata": {
    "collapsed": true,
    "run_control": {
     "frozen": false,
     "read_only": false
    }
   },
   "outputs": [],
   "source": [
    "import doctest, random, itertools, os"
   ]
  },
  {
   "cell_type": "code",
   "execution_count": 28,
   "metadata": {
    "code_folding": [
     0
    ],
    "collapsed": true,
    "run_control": {
     "frozen": false,
     "read_only": false
    }
   },
   "outputs": [],
   "source": [
    "class Interfaccia:\n",
    "    \"\"\"\n",
    "    Questa classe deve contenere le azioni eseguite in base al tipo di interfaccia implementata\n",
    "    \"\"\"\n",
    "    \n",
    "    def inizializza_giocatori(self):\n",
    "        \"\"\"metodo che richiede i giocatori e ritorna una loro lista\"\"\"\n",
    "        raise NotImplementedError\n",
    "\n",
    "    def scelta_dadi(self):\n",
    "        \"\"\"metodo che gestisce i lanci di un giocatore\"\"\"\n",
    "        raise NotImplementedError"
   ]
  },
  {
   "cell_type": "code",
   "execution_count": null,
   "metadata": {
    "code_folding": [
     0,
     47
    ],
    "collapsed": true,
    "run_control": {
     "frozen": false,
     "read_only": false
    }
   },
   "outputs": [],
   "source": [
    "class Tui(Interfaccia):\n",
    "    def inizializza_giocatori(self):\n",
    "        \"\"\"richiede partecipanti, restituisce lista di giocatori\"\"\"\n",
    "        #numero giocatori\n",
    "        gioca_num = int(input(\"inserisci numero giocatori(2-7): \"))\n",
    "        gioca_num = min(max(2, gioca_num), 7)   #no minore di 2, non maggioree di 7\n",
    "        nomi = []\n",
    "        giocatori = []\n",
    "        #input loop nome e età \n",
    "        while len(giocatori) < gioca_num:\n",
    "            nome = input(\"inserisci nome giocatore: \")\n",
    "            if nome in nomi:\n",
    "                print(\"Giocatore già esistente, usare un altro nome\")\n",
    "                continue\n",
    "            nomi.append(nome)\n",
    "            while True:\n",
    "                eta  = input(\"inserisci la sua età o niente per random: \")\n",
    "                try:\n",
    "                    eta = int(eta)\n",
    "                except ValueError:\n",
    "                    if eta == \"\":                     #se non si specifica l'età\n",
    "                        eta = random.randint(0,100)   #viene estratta random\n",
    "                        print(\"Età random: {} anni\".format(eta))\n",
    "                finally:\n",
    "                    if isinstance(eta, int): break\n",
    "                    else: print(\"età sbagliata, ritenta\")\n",
    "            giocatori.append(G_Umano(nome, eta, self))\n",
    "        #restituisco i giocatori\n",
    "        return giocatori\n",
    "   \n",
    "    def formatta(self, lista):\n",
    "        \"\"\"restituisce una stringa con il contenuto di una lista. la lista viene ordinata,\n",
    "        gli elementi ripetuti vengono accoppiati uno affianco all'altro senza separatori,\n",
    "        i gruppi di elementi diversi vengono separati da uno spazio, senza virgolette\n",
    "        \"\"\"\n",
    "        stringa = ' '.join(str(el)*lista.count(el) for el in sorted(set(lista)))\n",
    "        return stringa\n",
    "\n",
    "    def scelta_dadi(self, tavolo):\n",
    "        dadi_disp = list(tavolo.dadi)\n",
    "        scelti = []\n",
    "        totale = 0\n",
    "        while True:\n",
    "            pescati = [dado.lancia() for dado in dadi_disp]\n",
    "            print(\"totale:{}, scelti:{}, pescati:{}\".format(totale, self.formatta(scelti), self.formatta(pescati)))\n",
    "\n",
    "                  \n",
    "def lanci_serie(lanci=8):\n",
    "    \"\"\"esegue la procedura di estrazione dei numero per n lanci e restituisce il totale delle estrazioni ottenute\n",
    "    oppure None se si è sballato\n",
    "    potrebbe essere un metodo del giocatore subclassato umano\n",
    "    \"\"\"\n",
    "    pescati = []\n",
    "    scelti = []\n",
    "    totale = 0\n",
    "    giocabile = continua = True\n",
    "    while continua and any([comb not in scelti for comb in Dado._dado]):  #nei num. scelti non sono presenti tutti i numeri di un dado\n",
    "        pescati = Dado.lancia(lanci)\n",
    "        print(\"totale:{}, scelti:{}, pescati:{}\".format(totale, formatta(scelti), formatta(pescati)))\n",
    "        giocabile = any([comb not in scelti for comb in pescati])   #nei num. scelti non sono presenti tutti i numeri delle pescate\n",
    "        if not giocabile:\n",
    "            print(\"non puoi più scegliere niente, hai perso questa mano\")\n",
    "            break\n",
    "        while True:\n",
    "            scelto = input(\"scegli un valore fra quelli pescati o [s]top: \")\n",
    "            if scelto == 's':\n",
    "                continua = False\n",
    "                break\n",
    "            comparse = pescati.count(scelto)\n",
    "            if comparse and scelto not in scelti:\n",
    "                scelti.append(scelto)\n",
    "                totale += int(scelto)*comparse if scelto != 'v' else 5*comparse\n",
    "                lanci -= comparse\n",
    "                break\n",
    "            else:\n",
    "                print('scelta non valida')\n",
    "    if giocabile:\n",
    "        return totale\n",
    "    else:\n",
    "        return None"
   ]
  },
  {
   "cell_type": "code",
   "execution_count": null,
   "metadata": {
    "code_folding": [
     0
    ],
    "collapsed": true,
    "run_control": {
     "frozen": true,
     "read_only": true
    }
   },
   "outputs": [],
   "source": [
    "class Gui(Interfaccia):\n",
    "    \"\"\"\n",
    "        PER ORA LA LASCIO COSÌ MA LE IMMAGINI È MEGLIO GENERARLE COME DICEVA WOLF\n",
    "        Esempio di come potrebbe funzionare gui, ad esempio ho reimplementato i metodi\n",
    "        per le tessere e i dadi così da aggiungergli le immagini\n",
    "        \n",
    "        Aggiunge le immagini ai dadi\n",
    "        >>> g = Gui()\n",
    "        >>> d = g.inizializza_dadi()\n",
    "        >>> fd = ('dado_gif/1.gif', 'dado_gif/2.gif', 'dado_gif/3.gif', 'dado_gif/4.gif', 'dado_gif/5.gif', 'dado_gif/6.gif')\n",
    "        >>> all(dado.facced == fd for dado in d)\n",
    "        True\n",
    "        >>> from os.path import isfile\n",
    "        >>> all([isfile(dado) for dado in fd])\n",
    "        True\n",
    "        \n",
    "        Riesce ad utilizzare il metodo della classe padre per generare la lista tessere\n",
    "        >>> g = Gui()\n",
    "        >>> t = g.inizializza_tessere()\n",
    "        >>> t\n",
    "        [Tessera(21, 1), Tessera(22, 1), Tessera(23, 1), Tessera(24, 1), Tessera(25, 2), Tessera(26, 2), Tessera(27, 2), Tessera(28, 2), Tessera(29, 3), Tessera(30, 3), Tessera(31, 3), Tessera(32, 3), Tessera(33, 4), Tessera(34, 4), Tessera(35, 4), Tessera(36, 4)]\n",
    "    \n",
    "        E inoltre gli aggiunge dei path validi per le immagini\n",
    "        >>> from os.path import isfile\n",
    "        >>> all([isfile(tes.immagine) for tes in t])\n",
    "        True\n",
    "    \"\"\"\n",
    "    def inizializza_dadi(self):\n",
    "        dadi = super().inizializza_dadi()\n",
    "        facced = tuple(os.path.join(\"dado_gif/\", str(f) + \".gif\") for f in dadi[0].faccev)\n",
    "        for dado in dadi:\n",
    "            dado.facced = facced\n",
    "        return dadi\n",
    "            \n",
    "    \n",
    "    def inizializza_tessere(self):\n",
    "        tessere = super().inizializza_tessere()\n",
    "        for tessera in tessere:\n",
    "            tessera.immagine = os.path.join(\"tessere_gif/\", str(tessera.valore) + \".gif\")\n",
    "        return tessere"
   ]
  },
  {
   "cell_type": "code",
   "execution_count": 3,
   "metadata": {
    "code_folding": [
     0
    ],
    "collapsed": true,
    "run_control": {
     "frozen": false,
     "read_only": false
    }
   },
   "outputs": [],
   "source": [
    "class Giocatore():\n",
    "    \"\"\"\n",
    "    Questa classe rappresenta un giocatore\n",
    "    \n",
    "    Istanziando il giocatore bisogna specificare il nome e l'età (facoltativa)\n",
    "    >>> g = Giocatore('aldo', 14)\n",
    "    >>> g.nome  #il nome del giocatore\n",
    "    'aldo'\n",
    "    >>> g.eta   #la sua età\n",
    "    14\n",
    "    \n",
    "    Senza età viene assegnata un età casuale da 0 a 100\n",
    "    >>> g = Giocatore('rino', 22)\n",
    "    >>> isinstance(g.eta, int) and 0 <= g.eta <= 100\n",
    "    True\n",
    "    \n",
    "\n",
    "    \"\"\"\n",
    "    def __init__(self, nome, eta):\n",
    "        self.nome = nome\n",
    "        self.eta = eta\n",
    "  \n",
    "    def __repr__(self):\n",
    "        # return f'{type(self).__name__}(\"{self.nome}\", {self.eta})'\n",
    "        return '{}(\"{}\", {})'.format(type(self).__name__, self.nome, self.eta)"
   ]
  },
  {
   "cell_type": "code",
   "execution_count": 31,
   "metadata": {
    "code_folding": [
     0
    ],
    "collapsed": true,
    "run_control": {
     "frozen": false,
     "read_only": false
    }
   },
   "outputs": [],
   "source": [
    "class G_Umano(Giocatore):\n",
    "    \"\"\"se il giocatore è umano, i/o sarà gestita da una interfaccia\n",
    "    \n",
    "    >>> g = G_Umano('aldo', '35')\n",
    "    >>> isinstance(g.ui, Interfaccia), g.eta, g.nome\n",
    "    (True, 35, 'aldo')\n",
    "    >>> g\n",
    "    G_Umano(\"aldo\", 35)\n",
    "    \n",
    "    Età non valida: ValueError\n",
    "    >>> g = G_Umano('rinco', 'asda')\n",
    "    Traceback (most recent call last):\n",
    "    ...\n",
    "    ValueError: invalid literal for int() with base 10: 'asda'\n",
    "    \n",
    "    \"\"\"\n",
    "    def __init__(self, nome, eta=None, ui=Interfaccia()):\n",
    "        if eta is None: eta = random.randint(0,100) #età casuale\n",
    "        else: eta = int(eta)\n",
    "        super().__init__(nome, eta)\n",
    "        self.ui = ui   #l'interfaccia serve per giocatori diversi da umani locali, a questo punto generalizzo\n",
    "\n",
    "    def scelta_dadi(self, tavolo):\n",
    "        risultato = self.ui.scelta_dadi(tavolo)\n",
    "        "
   ]
  },
  {
   "cell_type": "code",
   "execution_count": 43,
   "metadata": {
    "code_folding": [
     27,
     54,
     60
    ],
    "run_control": {
     "frozen": false,
     "read_only": false
    }
   },
   "outputs": [
    {
     "data": {
      "text/plain": [
       "TestResults(failed=0, attempted=16)"
      ]
     },
     "execution_count": 43,
     "metadata": {},
     "output_type": "execute_result"
    }
   ],
   "source": [
    "class G_Artificiale(Giocatore):\n",
    "    \"\"\"se il giocatore è un ia, le azioni saranno calcolate in automatico\n",
    "    attualmente quanto fatto è inutile perché ci sono molte più variabili\n",
    "    da tenere in considerazione (il fatto che i vermi valgono 5 ma bisogna\n",
    "    considerarli a parte per le estrazioni, il fatto che le probabilità\n",
    "    devono essere calcolate per le coppie dei lanci, il fatto che non\n",
    "    è più possibile ripescare numeri già usciti...), insomma per ora\n",
    "    si salverebbe solo combinazioni ma modificandolo e tenendo solo\n",
    "    le combinazioni dei lanci e non le somme\n",
    "    \n",
    "    >>> ia = G_Artificiale('asd', 17)\n",
    "    >>> c = ia.combinazioni(3)\n",
    "    >>> len(c) == 6**3\n",
    "    True\n",
    "    \n",
    "    >>> p = ia.possibilità(c, 4)\n",
    "    >>> print(p)\n",
    "    1.3888888888888888\n",
    "    \n",
    "    >>> tot = 0\n",
    "    >>> for r in set(c): tot += ia.possibilità(c, r)\n",
    "    >>> print(round(tot, 6), \"%\", sep='')\n",
    "    100.0%\n",
    "    \n",
    "    >>> ia.perc_riuscita(3, 4)\n",
    "    1.3888888888888888\n",
    "    \n",
    "    >>> ia.perc_riuscita(2, 10)\n",
    "    11.11111111111111\n",
    "    \n",
    "    >>> sorted(ia._perc_riuscita.keys())\n",
    "    [2, 3]\n",
    "    \"\"\"\n",
    "    _perc_riuscita = dict()\n",
    "    \n",
    "    def combinazioni(self, ndadi=1, facce=6):\n",
    "        \"\"\"restituisce i risultati delle somme di tutte\n",
    "        le combinazioni possibili dei lanci dei dadi\n",
    "        ho trasformato i 6 in 5 (ma non è ancora una soluzione ottimale)\n",
    "        \"\"\"\n",
    "        if facce == 0: return []\n",
    "        comb = [(1,)*ndadi] #[(1,1,1)]\n",
    "        risu = [ndadi]      #[sum(comb[0])]\n",
    "        maxl = facce**ndadi #6**3\n",
    "        cont = 0\n",
    "        while cont < maxl:\n",
    "            cm = list(comb[cont])\n",
    "            cont += 1\n",
    "            for i in range(ndadi):\n",
    "                if cm[i] < facce:\n",
    "                    cm[i] += 1\n",
    "                    comb.append(tuple(cm))\n",
    "                    # somma = sum(cm)\n",
    "                    # traformo i 6 in 5 per le somme\n",
    "                    somma = sum(map(lambda x: min(5, x), cm))\n",
    "                    risu.append(somma)\n",
    "                    break\n",
    "                else:\n",
    "                    cm[i] = 1\n",
    "        #~ return comb, sorted(risu), maxl\n",
    "        return sorted(risu)\n",
    "\n",
    "    def possibilità(self, combinazioni, estrazione):\n",
    "        \"\"\"restituisce la percentuale che esca un valore\n",
    "        fra delle combinazioni\n",
    "        \"\"\"\n",
    "        return 100/len(combinazioni)*combinazioni.count(estrazione)\n",
    "\n",
    "    def perc_riuscita(self, numero_dadi, risultato):\n",
    "        \"\"\"restituisce la possibilità in percentuale che esca un determinato\n",
    "        numero da un lancio di dadi, i lanci vengono effettuati solo la prima\n",
    "        volta e poi i risultati memorizzati in un dizionario\n",
    "        \"\"\"\n",
    "        percentuali = self._perc_riuscita.get(numero_dadi)\n",
    "        if percentuali is not None:\n",
    "            return percentuali.get(risultato, 0)\n",
    "        else:\n",
    "            self._perc_riuscita.update({numero_dadi : dict()})\n",
    "            risultati = self.combinazioni(numero_dadi)\n",
    "            for ris_univ in set(risultati):\n",
    "                percentuale = self.possibilità(risultati, ris_univ)\n",
    "                self._perc_riuscita[numero_dadi].update({ris_univ : percentuale})\n",
    "            return self._perc_riuscita[numero_dadi].get(risultato, 0)\n",
    "\n",
    "doctest.testmod()"
   ]
  },
  {
   "cell_type": "code",
   "execution_count": 33,
   "metadata": {
    "code_folding": [
     0
    ],
    "collapsed": true,
    "run_control": {
     "frozen": false,
     "read_only": false
    }
   },
   "outputs": [],
   "source": [
    "class G_Remoto(Giocatore):\n",
    "    \"\"\"se il giocatore è remoto l'io sarà gestito da un client, il client dovrà vedere che interfaccia usare\"\"\"\n",
    "    pass"
   ]
  },
  {
   "cell_type": "code",
   "execution_count": 34,
   "metadata": {
    "code_folding": [
     0
    ],
    "collapsed": true,
    "run_control": {
     "frozen": false,
     "read_only": false
    }
   },
   "outputs": [],
   "source": [
    "class Tessera():\n",
    "    \"\"\"\n",
    "    Questa classe rappresenta una tessera\n",
    "    \n",
    "    >>> t = Tessera(21, 1)\n",
    "    >>> t\n",
    "    Tessera(21, 1)\n",
    "    \"\"\"\n",
    "    def __init__(self, valore, punti):\n",
    "        self.valore = int(valore)\n",
    "        self.punti = int(punti)\n",
    "    \n",
    "    def __repr__(self):\n",
    "        return \"Tessera({}, {})\".format(self.valore, self.punti)"
   ]
  },
  {
   "cell_type": "code",
   "execution_count": 35,
   "metadata": {
    "code_folding": [
     0
    ],
    "collapsed": true,
    "hide_input": false,
    "run_control": {
     "frozen": false,
     "read_only": false
    }
   },
   "outputs": [],
   "source": [
    "class Dado():\n",
    "    \"\"\"\n",
    "    Questa classe rappresenta un dado\n",
    "    \n",
    "    >>> d = Dado(6)\n",
    "    >>> d.faccev\n",
    "    (1, 2, 3, 4, 5, 6)\n",
    "    \n",
    "    >>> d.lancia() in [1,2,3,4,5,6]\n",
    "    True\n",
    "    \"\"\"\n",
    "    def __init__(self, facce=6):\n",
    "        self.faccev = tuple(range(1, facce+1))\n",
    "    \n",
    "    def __repr__(self):\n",
    "        return \"Dado({})\".format(len(self.faccev))\n",
    "        \n",
    "    # def lancia(self, numero=1):\n",
    "    #     \"\"\"Lancia il dado n volte\"\"\"\n",
    "    #     return [random.choice(self.faccev) for n in range(numero)]  \n",
    "    \n",
    "    def lancia(self):\n",
    "        \"\"\"lancia il dado una sola volta\"\"\"\n",
    "        return random.choice(self.faccev)"
   ]
  },
  {
   "cell_type": "code",
   "execution_count": 36,
   "metadata": {
    "code_folding": [
     0
    ],
    "collapsed": true,
    "run_control": {
     "frozen": false,
     "read_only": false
    }
   },
   "outputs": [],
   "source": [
    "class Tavolo():\n",
    "    \"\"\"\n",
    "    Questa classe serve a gestire gli spostamenti sul tavolo\n",
    "    \n",
    "    >>> \n",
    "    \n",
    "    disattivo questo test perché è interattivo, comunuqe inserendo come input\n",
    "    2, a, 2, b, 3, funziona correttamente\n",
    "    >> tui = Tui()\n",
    "    >> tav = Tavolo(tui)\n",
    "    >> isinstance(tav.giocatori[0], Giocatore)\n",
    "    True\n",
    "    >> isinstance(tav.griglia[0], Tessera)\n",
    "    True\n",
    "    >> isinstance(tav.dadi[0], Dado)\n",
    "    True\n",
    "    \"\"\"\n",
    "    def __init__(self, giocatori):\n",
    "        self.giocatori = self.ordina_giocatori(giocatori)\n",
    "        self.griglia = self.inizializza_griglia_tessere()\n",
    "        self.dadi = self.inizializza_dadi()\n",
    "        # ui.tavolo = self    #dipendenza circolare!\n",
    "    \n",
    "    def inizializza_griglia_tessere(self):\n",
    "        \"\"\"Questa funzione genera una lista di tessere\"\"\"\n",
    "        tessere = []\n",
    "        p = 1\n",
    "        for v in range (21, 37):\n",
    "            tessere.append(Tessera(v, int(p)))\n",
    "            p += 0.25\n",
    "        return tessere\n",
    "    \n",
    "    def inizializza_dadi(self):\n",
    "        \"\"\"Crea una tupla con tutti i dadi in gioco\"\"\"\n",
    "        return tuple(Dado() for i in range(8))\n",
    "    \n",
    "    def ordina_giocatori(self, giocatori):\n",
    "        \"\"\"ordina i giocaatori per età\"\"\"\n",
    "        # g = giocatori.sort(key=lambda giocatore:giocatore.eta) #sbagliato\n",
    "        return sorted(giocatori, key=lambda giocatore:giocatore.eta) \n",
    "\n",
    "    def turno(self):\n",
    "        \"\"\"restituisce il giocatore del turno corrente fintanto che ci sono tessere nella griglia\"\"\"\n",
    "        print(type(self.giocatori), self.giocatori)\n",
    "        giocatore = itertools.cycle(self.giocatori)\n",
    "        while self.griglia:\n",
    "            yield next(giocatore)\n",
    "        else:  #fine tessere\n",
    "            return None"
   ]
  },
  {
   "cell_type": "code",
   "execution_count": null,
   "metadata": {
    "code_folding": [
     0
    ],
    "run_control": {
     "frozen": false,
     "read_only": false
    }
   },
   "outputs": [
    {
     "name": "stdout",
     "output_type": "stream",
     "text": [
      "inserisci numero giocatori(2-7): 1\n",
      "inserisci nome giocatore: a\n",
      "inserisci la sua età o niente per random: \n",
      "Età random: 91 anni\n",
      "inserisci nome giocatore: b\n",
      "inserisci la sua età o niente per random: \n",
      "Età random: 12 anni\n",
      "<class 'list'> [G_Umano(\"b\", 12), G_Umano(\"a\", 91)]\n",
      "[2, 6, 3, 6, 2, 2, 6, 1]\n"
     ]
    }
   ],
   "source": [
    "### programma\n",
    "if __name__ == \"__main__\":\n",
    "    doctest.testmod()                             #eseguo i test\n",
    "    ui = Tui()                                    #scelgo l'interfaccia\n",
    "    tv = Tavolo(ui.inizializza_giocatori())       #inizializzo il tavolo\n",
    "\n",
    "    #provo a fare un giro di gioco, poi vedrò come e dove piazzarlo\n",
    "    for giocatore in tv.turno():\n",
    "        risultato = giocatore.scelta_dadi(tv)        \n",
    "        # if a == 'x': break\n",
    "    \n",
    "    \n",
    "    "
   ]
  },
  {
   "cell_type": "markdown",
   "metadata": {
    "run_control": {
     "frozen": false,
     "read_only": false
    }
   },
   "source": [
    "### codice inutilizzato"
   ]
  },
  {
   "cell_type": "code",
   "execution_count": null,
   "metadata": {
    "code_folding": [
     0
    ],
    "collapsed": true,
    "run_control": {
     "frozen": true,
     "read_only": true
    }
   },
   "outputs": [],
   "source": [
    "def inizializza_griglia_tessere(car=\"tessere_gif/\", est=\".gif\"):\n",
    "    \"\"\"\n",
    "    Questa funzione genera una lista di tessere\n",
    "    \n",
    "    >>> ts = genera_tessere()\n",
    "    >>> ts\n",
    "    [(21, 1), (22, 1), (23, 1), (24, 1), (25, 2), (26, 2), (27, 2), (28, 2), (29, 3), (30, 3), (31, 3), (32, 3), (33, 4), (34, 4), (35, 4), (36, 4)]\n",
    "    >>> from os.path import isfile\n",
    "    >>> all([isfile(t.immagine) for t in ts])\n",
    "    True\n",
    "    \"\"\"\n",
    "    tessere = []\n",
    "    p = 1\n",
    "    for v in range (21, 37):\n",
    "        path = car + str(v) + est\n",
    "        tessere.append(Tessera(v, int(p), path))\n",
    "        p += 0.25\n",
    "    return tessere"
   ]
  },
  {
   "cell_type": "code",
   "execution_count": null,
   "metadata": {
    "code_folding": [
     0
    ],
    "collapsed": true,
    "hide_input": false,
    "run_control": {
     "frozen": true,
     "read_only": true
    }
   },
   "outputs": [],
   "source": [
    "#metto i doctest dentro un altra funzione alla fine, se non li voglio nelle docstring\n",
    "#di ogni singola classe e funzione potrei fare così e metterli a parte\n",
    "def test_giocatore():\n",
    "    \"\"\"\n",
    "    Questa classe rappresenta un giocatore\n",
    "    \n",
    "    Istanziando il giocatore bisogna specificare il nome e l'età (facoltativa)\n",
    "    >>> g = Giocatore('aldo', 14)\n",
    "    >>> g.nome  #il nome del giocatore\n",
    "    'aldo'\n",
    "    >>> g.eta   #la sua età\n",
    "    14\n",
    "    \n",
    "    Senza età viene assegnata un età casuale da 0 a 100\n",
    "    >>> g = Giocatore('rino')\n",
    "    >>> isinstance(g.eta, int) and 0 <= g.eta <= 100\n",
    "    True\n",
    "    \n",
    "    Età non valida sempre età casuale\n",
    "    >>> g = Giocatore('rinco', 'asda')\n",
    "    >>> isinstance(g.eta, int) and 0 <= g.eta <= 100\n",
    "    True\n",
    "    \n",
    "    Età valida\n",
    "    >>> g = Giocatore('rinco', '134')\n",
    "    >>> g.eta\n",
    "    134\n",
    "    \"\"\"\n",
    "    pass\n",
    "doctest.testmod()"
   ]
  },
  {
   "cell_type": "code",
   "execution_count": 17,
   "metadata": {
    "run_control": {
     "frozen": true,
     "read_only": true
    }
   },
   "outputs": [
    {
     "name": "stdout",
     "output_type": "stream",
     "text": [
      "[NbConvertApp] Converting notebook verme_interfacce2.ipynb to script\n",
      "[NbConvertApp] Writing 36622 bytes to verme_interfacce2.py\n"
     ]
    }
   ],
   "source": [
    "!jupyter nbconvert --to script verme_interfacce2.ipynb"
   ]
  },
  {
   "cell_type": "code",
   "execution_count": null,
   "metadata": {
    "collapsed": true,
    "run_control": {
     "frozen": false,
     "read_only": false
    }
   },
   "outputs": [],
   "source": []
  }
 ],
 "metadata": {
  "kernelspec": {
   "display_name": "Python 3",
   "language": "python",
   "name": "python3"
  },
  "language_info": {
   "codemirror_mode": {
    "name": "ipython",
    "version": 3
   },
   "file_extension": ".py",
   "mimetype": "text/x-python",
   "name": "python",
   "nbconvert_exporter": "python",
   "pygments_lexer": "ipython3",
   "version": "3.6.1"
  },
  "toc": {
   "colors": {
    "hover_highlight": "#DAA520",
    "running_highlight": "#FF0000",
    "selected_highlight": "#FFD700"
   },
   "moveMenuLeft": true,
   "nav_menu": {
    "height": "178px",
    "width": "252px"
   },
   "navigate_menu": true,
   "number_sections": true,
   "sideBar": true,
   "threshold": 4,
   "toc_cell": false,
   "toc_section_display": "block",
   "toc_window_display": false,
   "widenNotebook": false
  },
  "varInspector": {
   "cols": {
    "lenName": 16,
    "lenType": 16,
    "lenVar": 40
   },
   "kernels_config": {
    "python": {
     "delete_cmd_postfix": "",
     "delete_cmd_prefix": "del ",
     "library": "var_list.py",
     "varRefreshCmd": "print(var_dic_list())"
    },
    "r": {
     "delete_cmd_postfix": ") ",
     "delete_cmd_prefix": "rm(",
     "library": "var_list.r",
     "varRefreshCmd": "cat(var_dic_list()) "
    }
   },
   "oldHeight": 83.18181799999999,
   "position": {
    "height": "40px",
    "left": "793.636px",
    "right": "20px",
    "top": "120px",
    "width": "250px"
   },
   "types_to_exclude": [
    "module",
    "function",
    "builtin_function_or_method",
    "instance",
    "_Feature"
   ],
   "varInspector_section_display": "none",
   "window_display": false
  }
 },
 "nbformat": 4,
 "nbformat_minor": 2
}
