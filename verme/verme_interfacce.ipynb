{
 "cells": [
  {
   "cell_type": "markdown",
   "metadata": {
    "run_control": {
     "frozen": false,
     "read_only": false
    }
   },
   "source": [
    "# Il verme è tratto\n",
    "Cercherò di creare una trasposizione di questo gioco da tavola, se mai ci riesca."
   ]
  },
  {
   "cell_type": "markdown",
   "metadata": {
    "heading_collapsed": true,
    "run_control": {
     "frozen": false,
     "read_only": false
    }
   },
   "source": [
    "## Idee\n",
    "Quello che potrei sviluppare"
   ]
  },
  {
   "cell_type": "markdown",
   "metadata": {
    "hidden": true,
    "run_control": {
     "frozen": false,
     "read_only": false
    }
   },
   "source": [
    "* Per iniziare potrei gestire il gioco fra persone\n",
    "* Poi potrei integrare un pochetto di grafica (guizero?)\n",
    "* Poi potrei inserire intelligenza artificiale (difficile, basata sulle probabilità)\n",
    "* Infine potrei tentare di integrare il gioco in rete"
   ]
  },
  {
   "cell_type": "markdown",
   "metadata": {
    "heading_collapsed": true,
    "run_control": {
     "frozen": false,
     "read_only": false
    }
   },
   "source": [
    "## Regolamento\n",
    "Documento contenente le regole"
   ]
  },
  {
   "cell_type": "code",
   "execution_count": 92,
   "metadata": {
    "code_folding": [
     0
    ],
    "collapsed": false,
    "hidden": true,
    "run_control": {
     "frozen": false,
     "read_only": false
    },
    "scrolled": true
   },
   "outputs": [
    {
     "data": {
      "text/html": [
       "<iframe src=./regole.pdf width=100% height=350></iframe>"
      ],
      "text/plain": [
       "<IPython.core.display.HTML object>"
      ]
     },
     "metadata": {},
     "output_type": "display_data"
    }
   ],
   "source": [
    "%%HTML\n",
    "<iframe src=./regole.pdf width=100% height=350></iframe>"
   ]
  },
  {
   "cell_type": "markdown",
   "metadata": {
    "heading_collapsed": true,
    "run_control": {
     "frozen": false,
     "read_only": false
    }
   },
   "source": [
    "## Svolgimento\n",
    "In questa sezione cercherò di spiegare i passaggi della partita per comprendere meglio l'algoritmo da adottare"
   ]
  },
  {
   "cell_type": "markdown",
   "metadata": {
    "hidden": true,
    "run_control": {
     "frozen": false,
     "read_only": false
    }
   },
   "source": [
    "<span class=\"mark\">1. Si decide il numero di giocatori (da 2 a 7) e li si ordina per età dal più giovane al più vecchio (in origine si gioca in senso orario a partire dal più giovane)</span>\n",
    "<span class=\"mark\">2. Si dispongono le tessere sul tavolo a formare una griglia in ordine numerico (da 21 a 36)</span>\n",
    "3. Il primo giocatore lancia i dadi:\n",
    "    1. lancia 8 dadi e sceglie quale serie tenere con lo stesso numero in comune e può rilanciare i dadi rimanenti fino a quando:\n",
    "        * ottiene un numero maggiore o uguale a una tessera disponibie dalla griglia del tavolo\n",
    "        * ottiene un numero uguale ad una tessera in cima ad una pila di un altro giocatore\n",
    "        * non ci sono più serie con numeri in comune non precedentemente trattenuti (non si possono scegliere piu volte serie con lo stesso numero in comune)\n",
    "        * non si è almeno trattenuto una volta una serie con il simbolo del verme\n",
    "        * non ci sono più dadi da rilanciare\n",
    "    3. il giocatore prende una una tessera e la mette in cima alla sua pila se:\n",
    "        * ha totalizzato un numero maggiore o uguale ad una delle tessere disposte sulla griglia, prende una di queste\n",
    "        * ha totalizzato un numero uguale a una delle tessere in cima alla pila di un altro giocatore, prende questa\n",
    "    4. in tutti gli altri casi ha sballato e quindi, se possiede delle tessere, dovrà:\n",
    "        * restituire quella in cima alla sua pila reinserendola nella griglia\n",
    "        * se nella griglia ci sono ancora tessere dal valore più alto di quella restituita bisognerà capovolgere (e quindi rendere indisponibile) la tessera dal valore più alto presente nella griglia\n",
    "4. Si passa al giocatore seguente\n",
    "5. Il gioco ha fine quando non ci sono più tessere sottraibili dalla griglia\n",
    "6. Vince il giocatore che ha totalizzato più vermi (ogni tessera oltre al valore numerico ha anche un punteggio rappresentato da dei vermi, da uno a quattro)"
   ]
  },
  {
   "cell_type": "markdown",
   "metadata": {
    "run_control": {
     "frozen": false,
     "read_only": false
    }
   },
   "source": [
    "## Codice"
   ]
  },
  {
   "cell_type": "code",
   "execution_count": 93,
   "metadata": {
    "collapsed": true,
    "run_control": {
     "frozen": false,
     "read_only": false
    }
   },
   "outputs": [],
   "source": [
    "import doctest, random, itertools, os"
   ]
  },
  {
   "cell_type": "code",
   "execution_count": 94,
   "metadata": {
    "code_folding": [
     0
    ],
    "collapsed": true,
    "run_control": {
     "frozen": false,
     "read_only": false
    }
   },
   "outputs": [],
   "source": [
    "class Interfaccia:\n",
    "    \"\"\"\n",
    "    Questa classe deve contenere le azioni eseguite in base al tipo\n",
    "    di interfaccia implementata\n",
    "    \n",
    "    >>> i = Interfaccia()\n",
    "    >>> i.inizializza_dadi()\n",
    "    (Dado(6), Dado(6), Dado(6), Dado(6), Dado(6), Dado(6), Dado(6), Dado(6))\n",
    "    >>> len(i.inizializza_dadi())\n",
    "    8\n",
    "    \"\"\"\n",
    "    \n",
    "    \n",
    "    def inizializza_dadi(self):\n",
    "        \"\"\"Crea una tupla con tutti i dadi in gioco\"\"\"\n",
    "        return tuple(Dado() for i in range(8))\n",
    "    \n",
    "    def inizializza_tessere(self):\n",
    "        \"\"\"\n",
    "        metodo che restituisce le tessere ordinate per la grigla sul tavolo \n",
    "        può richiedere la scelta delle immagini?\n",
    "        \"\"\"\n",
    "        tessere = []\n",
    "        p = 1\n",
    "        for v in range (21, 37):\n",
    "            tessere.append(Tessera(v, int(p)))\n",
    "            p += 0.25\n",
    "        return tessere  \n",
    "    def inizializza_giocatori(self):\n",
    "        \"\"\"metodo che richiede i giocatori e ritorna una loro lista\"\"\"\n",
    "        raise NotImplementedError\n",
    "    def scelta_dadi(self):\n",
    "        \"\"\"metodo che gestisce i lanci di un giocatore\"\"\"\n",
    "        raise NotImplementedError     "
   ]
  },
  {
   "cell_type": "code",
   "execution_count": 95,
   "metadata": {
    "code_folding": [
     0
    ],
    "collapsed": true,
    "run_control": {
     "frozen": false,
     "read_only": false
    }
   },
   "outputs": [],
   "source": [
    "class Tui(Interfaccia):\n",
    "    def inizializza_giocatori(self):\n",
    "        \"\"\"richiede partecipanti, restituisce lista di giocatori ordinati per età\"\"\"\n",
    "        gioca_num = int(input(\"inserisci numero giocatori(2-7): \"))\n",
    "        gioca_num = min(max(2, gioca_num), 7)   #no minore di 2, non maggioree di 7\n",
    "        nomi = []\n",
    "        giocatori = []\n",
    "        while len(giocatori) < gioca_num:\n",
    "            nome = input(\"inserisci nome giocatore: \")\n",
    "            if nome in nomi:\n",
    "                print(\"Giocatore già esistente, usare un altro nome\")\n",
    "                continue\n",
    "            nomi.append(nome)\n",
    "            while True:\n",
    "                eta  = input(\"inserisci la sua età o niente per random: \")\n",
    "                try:\n",
    "                    eta = int(eta)\n",
    "                except ValueError:\n",
    "                    if eta == \"\":                     #se non si specifica l'età\n",
    "                        eta = random.randint(0,100)   #viene estratta random\n",
    "                        print(\"Età random: {} anni\".format(eta))\n",
    "                finally:\n",
    "                    if isinstance(eta, int): break\n",
    "                    else: print(\"età sbagliata, ritenta\")\n",
    "            giocatori.append(Giocatore(nome, eta))\n",
    "        giocatori.sort(key=lambda giocatore:giocatore.eta)\n",
    "        return giocatori"
   ]
  },
  {
   "cell_type": "code",
   "execution_count": 102,
   "metadata": {
    "code_folding": [],
    "collapsed": true,
    "run_control": {
     "frozen": false,
     "read_only": false
    }
   },
   "outputs": [],
   "source": [
    "class Gui(Interfaccia):\n",
    "    \"\"\"\n",
    "        Esempio di come potrebbe funzionare gui, ad esempio ho reimplementato i metodi\n",
    "        per le tessere e i dadi così da aggiungergli le immagini\n",
    "        \n",
    "        Aggiunge le immagini ai dadi\n",
    "        >>> g = Gui()\n",
    "        >>> d = g.inizializza_dadi()\n",
    "        >>> fd = ('dado_gif/1.gif', 'dado_gif/2.gif', 'dado_gif/3.gif', 'dado_gif/4.gif', 'dado_gif/5.gif', 'dado_gif/6.gif')\n",
    "        >>> all(dado.facced == fd for dado in d)\n",
    "        True\n",
    "        >>> from os.path import isfile\n",
    "        >>> all([isfile(dado) for dado in fd])\n",
    "        True\n",
    "        \n",
    "        Riesce ad utilizzare il metodo della classe padre per generare la lista tessere\n",
    "        >>> g = Gui()\n",
    "        >>> t = g.inizializza_tessere()\n",
    "        >>> t\n",
    "        [Tessera(21, 1), Tessera(22, 1), Tessera(23, 1), Tessera(24, 1), Tessera(25, 2), Tessera(26, 2), Tessera(27, 2), Tessera(28, 2), Tessera(29, 3), Tessera(30, 3), Tessera(31, 3), Tessera(32, 3), Tessera(33, 4), Tessera(34, 4), Tessera(35, 4), Tessera(36, 4)]\n",
    "    \n",
    "        E inoltre gli aggiunge dei path validi per le immagini\n",
    "        >>> from os.path import isfile\n",
    "        >>> all([isfile(tes.immagine) for tes in t])\n",
    "        True\n",
    "    \"\"\"\n",
    "    def inizializza_dadi(self):\n",
    "        dadi = super().inizializza_dadi()\n",
    "        facced = tuple(os.path.join(\"dado_gif/\", str(f) + \".gif\") for f in dadi[0].faccev)\n",
    "        for dado in dadi:\n",
    "            dado.facced = facced\n",
    "        return dadi\n",
    "            \n",
    "    \n",
    "    def inizializza_tessere(self):\n",
    "        tessere = super().inizializza_tessere()\n",
    "        for tessera in tessere:\n",
    "            tessera.immagine = os.path.join(\"tessere_gif/\", str(tessera.valore) + \".gif\")\n",
    "        return tessere"
   ]
  },
  {
   "cell_type": "code",
   "execution_count": 97,
   "metadata": {
    "code_folding": [
     0
    ],
    "collapsed": true,
    "run_control": {
     "frozen": false,
     "read_only": false
    }
   },
   "outputs": [],
   "source": [
    "class Giocatore():\n",
    "    \"\"\"\n",
    "    Questa classe rappresenta un giocatore\n",
    "    \n",
    "    Istanziando il giocatore bisogna specificare il nome e l'età (facoltativa)\n",
    "    >>> g = Giocatore('aldo', 14)\n",
    "    >>> g.nome  #il nome del giocatore\n",
    "    'aldo'\n",
    "    >>> g.eta   #la sua età\n",
    "    14\n",
    "    \n",
    "    Senza età viene assegnata un età casuale da 0 a 100\n",
    "    >>> g = Giocatore('rino')\n",
    "    >>> isinstance(g.eta, int) and 0 <= g.eta <= 100\n",
    "    True\n",
    "    \n",
    "    Età non valida: ValueError\n",
    "    >>> g = Giocatore('rinco', 'asda')\n",
    "    Traceback (most recent call last):\n",
    "    ...\n",
    "    ValueError: invalid literal for int() with base 10: 'asda'\n",
    "    \n",
    "    Età valida\n",
    "    >>> g = Giocatore('rinco', '134')\n",
    "    >>> g.eta\n",
    "    134\n",
    "    \"\"\"\n",
    "    def __init__(self, nome, eta=None):\n",
    "        self.nome = nome\n",
    "        if eta is None: self.eta = random.randint(0,100) #età casuale\n",
    "        else: self.eta = int(eta)\n",
    "            \n",
    "    def __repr__(self):\n",
    "        return 'Giocatore(\"{}\", {})'.format(self.nome, self.eta)"
   ]
  },
  {
   "cell_type": "code",
   "execution_count": 98,
   "metadata": {
    "code_folding": [
     0
    ],
    "collapsed": true,
    "run_control": {
     "frozen": false,
     "read_only": false
    }
   },
   "outputs": [],
   "source": [
    "class Tessera():\n",
    "    \"\"\"\n",
    "    Questa classe rappresenta una tessera\n",
    "    \n",
    "    >>> t = Tessera(21, 1)\n",
    "    >>> t\n",
    "    Tessera(21, 1)\n",
    "    \"\"\"\n",
    "    def __init__(self, valore, punti):\n",
    "        self.valore = int(valore)\n",
    "        self.punti = int(punti)\n",
    "    \n",
    "    def __repr__(self):\n",
    "        return \"Tessera({}, {})\".format(self.valore, self.punti)"
   ]
  },
  {
   "cell_type": "code",
   "execution_count": 99,
   "metadata": {
    "code_folding": [
     0
    ],
    "collapsed": true,
    "hide_input": false,
    "run_control": {
     "frozen": false,
     "read_only": false
    }
   },
   "outputs": [],
   "source": [
    "class Dado():\n",
    "    \"\"\"\n",
    "    Questa classe rappresenta un dado\n",
    "    \n",
    "    >>> d = Dado(6)\n",
    "    >>> d.faccev\n",
    "    (1, 2, 3, 4, 5, 6)\n",
    "    \n",
    "    >>> d.lancia() in [1,2,3,4,5,6]\n",
    "    True\n",
    "    \"\"\"\n",
    "    def __init__(self, facce=6):\n",
    "        self.faccev = tuple(range(1, facce+1))\n",
    "    \n",
    "    def __repr__(self):\n",
    "        return \"Dado({})\".format(len(self.faccev))\n",
    "        \n",
    "    # def lancia(self, numero=1):\n",
    "    #     \"\"\"Lancia il dado n volte\"\"\"\n",
    "    #     return [random.choice(self.faccev) for n in range(numero)]  \n",
    "    \n",
    "    def lancia(self):\n",
    "        \"\"\"lancia il dado una sola volta\"\"\"\n",
    "        return random.choice(self.faccev)"
   ]
  },
  {
   "cell_type": "code",
   "execution_count": 110,
   "metadata": {
    "code_folding": [],
    "collapsed": true,
    "run_control": {
     "frozen": false,
     "read_only": false
    }
   },
   "outputs": [],
   "source": [
    "class Tavolo():\n",
    "    \"\"\"\n",
    "    Questa classe serve a gestire gli spostamenti sul tavolo\n",
    "    \n",
    "    disattivo questo test perché è interattivo, comunuqe inserendo come input\n",
    "    2, a, 2, b, 3, funziona correttamente\n",
    "    >> tui = Tui()\n",
    "    >> tav = Tavolo(tui)\n",
    "    >> isinstance(tav.giocatori[0], Giocatore)\n",
    "    True\n",
    "    >> isinstance(tav.griglia[0], Tessera)\n",
    "    True\n",
    "    \"\"\"\n",
    "    def __init__(self, interf=Interfaccia()):\n",
    "        self.giocatori = interf.inizializza_giocatori()\n",
    "        self.griglia = interf.inizializza_tessere()\n",
    "        #self.griglia = self.inizializza_griglia_tessere()\n",
    "\n",
    "    \n",
    "    def inizializza_griglia_tessere(self):\n",
    "        \"\"\"Questa funzione genera una lista di tessere\"\"\"\n",
    "        tessere = []\n",
    "        p = 1\n",
    "        for v in range (21, 37):\n",
    "            tessere.append(Tessera(v, int(p)))\n",
    "            p += 0.25\n",
    "        return tessere"
   ]
  },
  {
   "cell_type": "markdown",
   "metadata": {
    "run_control": {
     "frozen": false,
     "read_only": false
    }
   },
   "source": [
    "### doctest"
   ]
  },
  {
   "cell_type": "code",
   "execution_count": 111,
   "metadata": {
    "collapsed": false,
    "run_control": {
     "frozen": false,
     "read_only": false
    }
   },
   "outputs": [
    {
     "name": "stdout",
     "output_type": "stream",
     "text": [
      "inserisci numero giocatori(2-7): 1\n",
      "inserisci nome giocatore: a\n",
      "inserisci la sua età o niente per random: 2\n",
      "inserisci nome giocatore: b\n",
      "inserisci la sua età o niente per random: 3\n"
     ]
    },
    {
     "data": {
      "text/plain": [
       "TestResults(failed=0, attempted=31)"
      ]
     },
     "execution_count": 111,
     "metadata": {},
     "output_type": "execute_result"
    }
   ],
   "source": [
    "doctest.testmod()"
   ]
  },
  {
   "cell_type": "markdown",
   "metadata": {
    "run_control": {
     "frozen": false,
     "read_only": false
    }
   },
   "source": [
    "### codice inutilizzato"
   ]
  },
  {
   "cell_type": "code",
   "execution_count": null,
   "metadata": {
    "code_folding": [
     0
    ],
    "collapsed": false,
    "run_control": {
     "frozen": true,
     "read_only": true
    }
   },
   "outputs": [],
   "source": [
    "def inizializza_griglia_tessere(car=\"tessere_gif/\", est=\".gif\"):\n",
    "    \"\"\"\n",
    "    Questa funzione genera una lista di tessere\n",
    "    \n",
    "    >>> ts = genera_tessere()\n",
    "    >>> ts\n",
    "    [(21, 1), (22, 1), (23, 1), (24, 1), (25, 2), (26, 2), (27, 2), (28, 2), (29, 3), (30, 3), (31, 3), (32, 3), (33, 4), (34, 4), (35, 4), (36, 4)]\n",
    "    >>> from os.path import isfile\n",
    "    >>> all([isfile(t.immagine) for t in ts])\n",
    "    True\n",
    "    \"\"\"\n",
    "    tessere = []\n",
    "    p = 1\n",
    "    for v in range (21, 37):\n",
    "        path = car + str(v) + est\n",
    "        tessere.append(Tessera(v, int(p), path))\n",
    "        p += 0.25\n",
    "    return tessere"
   ]
  },
  {
   "cell_type": "code",
   "execution_count": null,
   "metadata": {
    "code_folding": [
     0
    ],
    "collapsed": true,
    "hide_input": false,
    "run_control": {
     "frozen": true,
     "read_only": true
    }
   },
   "outputs": [],
   "source": [
    "#metto i doctest dentro un altra funzione alla fine, se non li voglio nelle docstring\n",
    "#di ogni singola classe e funzione potrei fare così e metterli a parte\n",
    "def test_giocatore():\n",
    "    \"\"\"\n",
    "    Questa classe rappresenta un giocatore\n",
    "    \n",
    "    Istanziando il giocatore bisogna specificare il nome e l'età (facoltativa)\n",
    "    >>> g = Giocatore('aldo', 14)\n",
    "    >>> g.nome  #il nome del giocatore\n",
    "    'aldo'\n",
    "    >>> g.eta   #la sua età\n",
    "    14\n",
    "    \n",
    "    Senza età viene assegnata un età casuale da 0 a 100\n",
    "    >>> g = Giocatore('rino')\n",
    "    >>> isinstance(g.eta, int) and 0 <= g.eta <= 100\n",
    "    True\n",
    "    \n",
    "    Età non valida sempre età casuale\n",
    "    >>> g = Giocatore('rinco', 'asda')\n",
    "    >>> isinstance(g.eta, int) and 0 <= g.eta <= 100\n",
    "    True\n",
    "    \n",
    "    Età valida\n",
    "    >>> g = Giocatore('rinco', '134')\n",
    "    >>> g.eta\n",
    "    134\n",
    "    \"\"\"\n",
    "    pass\n",
    "doctest.testmod()"
   ]
  },
  {
   "cell_type": "code",
   "execution_count": null,
   "metadata": {
    "collapsed": true,
    "run_control": {
     "frozen": false,
     "read_only": false
    }
   },
   "outputs": [],
   "source": []
  }
 ],
 "metadata": {
  "kernelspec": {
   "display_name": "Python 3",
   "language": "python",
   "name": "python3"
  },
  "language_info": {
   "codemirror_mode": {
    "name": "ipython",
    "version": 3
   },
   "file_extension": ".py",
   "mimetype": "text/x-python",
   "name": "python",
   "nbconvert_exporter": "python",
   "pygments_lexer": "ipython3",
   "version": "3.6.0"
  },
  "varInspector": {
   "cols": {
    "lenName": 16,
    "lenType": 16,
    "lenVar": 40
   },
   "kernels_config": {
    "python": {
     "delete_cmd_postfix": "",
     "delete_cmd_prefix": "del ",
     "library": "var_list.py",
     "varRefreshCmd": "print(var_dic_list())"
    },
    "r": {
     "delete_cmd_postfix": ") ",
     "delete_cmd_prefix": "rm(",
     "library": "var_list.r",
     "varRefreshCmd": "cat(var_dic_list()) "
    }
   },
   "oldHeight": 83.18181799999999,
   "position": {
    "height": "40px",
    "left": "793.636px",
    "right": "20px",
    "top": "120px",
    "width": "250px"
   },
   "types_to_exclude": [
    "module",
    "function",
    "builtin_function_or_method",
    "instance",
    "_Feature"
   ],
   "varInspector_section_display": "none",
   "window_display": false
  }
 },
 "nbformat": 4,
 "nbformat_minor": 2
}
