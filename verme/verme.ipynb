{
 "cells": [
  {
   "cell_type": "markdown",
   "metadata": {
    "run_control": {
     "frozen": false,
     "read_only": false
    }
   },
   "source": [
    "# Il verme è tratto\n",
    "Cercherò di creare una trasposizione di questo gioco da tavola, se mai ci riesca."
   ]
  },
  {
   "cell_type": "markdown",
   "metadata": {
    "heading_collapsed": true,
    "run_control": {
     "frozen": false,
     "read_only": false
    }
   },
   "source": [
    "## Idee\n",
    "Quello che potrei sviluppare"
   ]
  },
  {
   "cell_type": "markdown",
   "metadata": {
    "hidden": true,
    "run_control": {
     "frozen": false,
     "read_only": false
    }
   },
   "source": [
    "* Per iniziare potrei gestire il gioco fra persone\n",
    "* Poi potrei integrare un pochetto di grafica (guizero?)\n",
    "* Poi potrei inserire intelligenza artificiale (difficile, basata sulle probabilità)\n",
    "* Infine potrei tentare di integrare il gioco in rete"
   ]
  },
  {
   "cell_type": "markdown",
   "metadata": {
    "heading_collapsed": true,
    "run_control": {
     "frozen": false,
     "read_only": false
    }
   },
   "source": [
    "## Regolamento\n",
    "Documento contenente le regole"
   ]
  },
  {
   "cell_type": "code",
   "execution_count": 70,
   "metadata": {
    "code_folding": [
     0
    ],
    "collapsed": false,
    "hidden": true,
    "run_control": {
     "frozen": false,
     "read_only": false
    },
    "scrolled": true
   },
   "outputs": [
    {
     "data": {
      "text/html": [
       "<iframe src=./regole.pdf width=100% height=350></iframe>"
      ],
      "text/plain": [
       "<IPython.core.display.HTML object>"
      ]
     },
     "metadata": {},
     "output_type": "display_data"
    }
   ],
   "source": [
    "%%HTML\n",
    "<iframe src=./regole.pdf width=100% height=350></iframe>"
   ]
  },
  {
   "cell_type": "markdown",
   "metadata": {
    "heading_collapsed": true,
    "run_control": {
     "frozen": false,
     "read_only": false
    }
   },
   "source": [
    "## Svolgimento\n",
    "In questa sezione cercherò di spiegare i passaggi della partita per comprendere meglio l'algoritmo da adottare"
   ]
  },
  {
   "cell_type": "markdown",
   "metadata": {
    "hidden": true,
    "run_control": {
     "frozen": false,
     "read_only": false
    }
   },
   "source": [
    "1. Si decide il numero di giocatori (da 2 a 7) e li si ordina per età dal più giovane al più vecchio (in origine si gioca in senso orario a partire dal più giovane)\n",
    "2. Si dispongono le tessere sul tavolo a formare una griglia in ordine numerico (da 21 a 36)\n",
    "3. Il primo giocatore lancia i dadi:\n",
    "    1. lancia 8 dadi e sceglie quale serie tenere con lo stesso numero in comune e può rilanciare i dadi rimanenti fino a quando:\n",
    "        * ottiene un numero maggiore o uguale a una tessera disponibie dalla griglia del tavolo\n",
    "        * ottiene un numero uguale ad una tessera in cima ad una pila di un altro giocatore\n",
    "        * non ci sono più serie con numeri in comune non precedentemente trattenuti (non si possono scegliere piu volte serie con lo stesso numero in comune)\n",
    "        * non si è almeno trattenuto una volta una serie con il simbolo del verme\n",
    "        * non ci sono più dadi da rilanciare\n",
    "    3. il giocatore prende una una tessera e la mette in cima alla sua pila se:\n",
    "        * ha totalizzato un numero maggiore o uguale ad una delle tessere disposte sulla griglia, prende una di queste\n",
    "        * ha totalizzato un numero uguale a una delle tessere in cima alla pila di un altro giocatore, prende questa\n",
    "    4. in tutti gli altri casi ha sballato e quindi, se possiede delle tessere, dovrà:\n",
    "        * restituire quella in cima alla sua pila reinserendola nella griglia\n",
    "        * se nella griglia ci sono ancora tessere dal valore più alto di quella restituita bisognerà capovolgere (e quindi rendere indisponibile) la tessera dal valore più alto presente nella griglia\n",
    "4. Si passa al giocatore seguente\n",
    "5. Il gioco ha fine quando non ci sono più tessere sottraibili dalla griglia\n",
    "6. Vince il giocatore che ha totalizzato più vermi (ogni tessera oltre al valore numerico ha anche un punteggio rappresentato da dei vermi, da uno a quattro)"
   ]
  },
  {
   "cell_type": "markdown",
   "metadata": {
    "run_control": {
     "frozen": false,
     "read_only": false
    }
   },
   "source": [
    "## Codice"
   ]
  },
  {
   "cell_type": "code",
   "execution_count": 71,
   "metadata": {
    "collapsed": true,
    "run_control": {
     "frozen": false,
     "read_only": false
    }
   },
   "outputs": [],
   "source": [
    "import doctest, random"
   ]
  },
  {
   "cell_type": "code",
   "execution_count": 72,
   "metadata": {
    "code_folding": [
     0
    ],
    "collapsed": true,
    "run_control": {
     "frozen": false,
     "read_only": false
    }
   },
   "outputs": [],
   "source": [
    "class Giocatore():\n",
    "    \"\"\"\n",
    "    Questa classe rappresenta un giocatore\n",
    "    \n",
    "    Istanziando il giocatore bisogna specificare il nome e l'età (facoltativa)\n",
    "    >>> g = Giocatore('aldo', 14)\n",
    "    >>> g.nome  #il nome del giocatore\n",
    "    'aldo'\n",
    "    >>> g.eta   #la sua età\n",
    "    14\n",
    "    \n",
    "    Senza età viene assegnata un età casuale da 0 a 100\n",
    "    >>> g = Giocatore('rino')\n",
    "    >>> isinstance(g.eta, int) and 0 <= g.eta <= 100\n",
    "    True\n",
    "    \n",
    "    Età non valida: ValueError\n",
    "    >>> g = Giocatore('rinco', 'asda')\n",
    "    Traceback (most recent call last):\n",
    "    ...\n",
    "    ValueError: invalid literal for int() with base 10: 'asda'\n",
    "    \n",
    "    Età valida\n",
    "    >>> g = Giocatore('rinco', '134')\n",
    "    >>> g.eta\n",
    "    134\n",
    "    \"\"\"\n",
    "    def __init__(self, nome, eta=None):\n",
    "        self.nome = nome\n",
    "        if eta is None: self.eta = random.randint(0,100) #età casuale\n",
    "        else: self.eta = int(eta)"
   ]
  },
  {
   "cell_type": "code",
   "execution_count": 73,
   "metadata": {
    "code_folding": [],
    "collapsed": true,
    "run_control": {
     "frozen": false,
     "read_only": false
    }
   },
   "outputs": [],
   "source": [
    "class Tessera():\n",
    "    \"\"\"\n",
    "    Questa classe rappresenta una tessera\n",
    "    \n",
    "    >>> t = Tessera(21, 1)\n",
    "    >>> t.valore, t.punti\n",
    "    (21, 1)\n",
    "    \"\"\"\n",
    "    def __init__(self, valore, punti):\n",
    "        self.valore = valore\n",
    "        self.punti = punti\n",
    "    \n",
    "    def __repr__(self):\n",
    "        return \"Tessera({}, {})\".format(self.valore, self.punti)"
   ]
  },
  {
   "cell_type": "code",
   "execution_count": 74,
   "metadata": {
    "code_folding": [
     0
    ],
    "collapsed": true,
    "hide_input": false,
    "run_control": {
     "frozen": false,
     "read_only": false
    }
   },
   "outputs": [],
   "source": [
    "class Dado():\n",
    "    \"\"\"\n",
    "    Questa classe rappresenta un dado\n",
    "    \n",
    "    >>> d = Dado(6)\n",
    "    >>> d.faccev\n",
    "    (1, 2, 3, 4, 5, 6)\n",
    "    >>> l = d.lancia(100)\n",
    "    >>> all([n in [1,2,3,4,5,6] for n in l])\n",
    "    True\n",
    "    \"\"\"\n",
    "    def __init__(self, facce):\n",
    "        self.faccev = tuple(range(1, facce+1))\n",
    "        \n",
    "    def lancia(self, numero=1):\n",
    "        \"\"\"Lancia il dado n volte\"\"\"\n",
    "        #return random.choice(self.faccev)\n",
    "        return [random.choice(self.faccev) for n in range(numero)]           "
   ]
  },
  {
   "cell_type": "code",
   "execution_count": 75,
   "metadata": {
    "code_folding": [],
    "collapsed": true,
    "run_control": {
     "frozen": false,
     "read_only": false
    }
   },
   "outputs": [],
   "source": [
    "class Tavolo():\n",
    "    \"\"\"\n",
    "    Questa classe serve a gestire gli spostamenti sul tavolo\n",
    "    \n",
    "    >>> g1, g2 = [Giocatore(g) for g in ['a', 'b']]\n",
    "    >>> tav = Tavolo([g1, g2])\n",
    "    >>> isinstance(tav.giocatori[0], Giocatore)\n",
    "    True\n",
    "    \"\"\"\n",
    "    def __init__(self, giocatori):\n",
    "        self.giocatori = giocatori\n",
    "        self.griglia = self.inizializza_griglia_tessere()\n",
    "    \n",
    "    def inizializza_griglia_tessere(self):\n",
    "        \"\"\"Questa funzione genera una lista di tessere\"\"\"\n",
    "        tessere = []\n",
    "        p = 1\n",
    "        for v in range (21, 37):\n",
    "            tessere.append(Tessera(v, int(p)))\n",
    "            p += 0.25\n",
    "        return tessere"
   ]
  },
  {
   "cell_type": "markdown",
   "metadata": {
    "run_control": {
     "frozen": false,
     "read_only": false
    }
   },
   "source": [
    "### doctest"
   ]
  },
  {
   "cell_type": "code",
   "execution_count": 76,
   "metadata": {
    "collapsed": false,
    "run_control": {
     "frozen": false,
     "read_only": false
    }
   },
   "outputs": [
    {
     "data": {
      "text/plain": [
       "TestResults(failed=0, attempted=17)"
      ]
     },
     "execution_count": 76,
     "metadata": {},
     "output_type": "execute_result"
    }
   ],
   "source": [
    "doctest.testmod()"
   ]
  },
  {
   "cell_type": "markdown",
   "metadata": {
    "run_control": {
     "frozen": false,
     "read_only": false
    }
   },
   "source": [
    "### codice inutilizzato"
   ]
  },
  {
   "cell_type": "code",
   "execution_count": null,
   "metadata": {
    "code_folding": [
     0
    ],
    "collapsed": false,
    "run_control": {
     "frozen": true,
     "read_only": true
    }
   },
   "outputs": [],
   "source": [
    "def inizializza_griglia_tessere(car=\"tessere_gif/\", est=\".gif\"):\n",
    "    \"\"\"\n",
    "    Questa funzione genera una lista di tessere\n",
    "    \n",
    "    >>> ts = genera_tessere()\n",
    "    >>> ts\n",
    "    [(21, 1), (22, 1), (23, 1), (24, 1), (25, 2), (26, 2), (27, 2), (28, 2), (29, 3), (30, 3), (31, 3), (32, 3), (33, 4), (34, 4), (35, 4), (36, 4)]\n",
    "    >>> from os.path import isfile\n",
    "    >>> all([isfile(t.immagine) for t in ts])\n",
    "    True\n",
    "    \"\"\"\n",
    "    tessere = []\n",
    "    p = 1\n",
    "    for v in range (21, 37):\n",
    "        path = car + str(v) + est\n",
    "        tessere.append(Tessera(v, int(p), path))\n",
    "        p += 0.25\n",
    "    return tessere"
   ]
  },
  {
   "cell_type": "code",
   "execution_count": null,
   "metadata": {
    "code_folding": [
     0
    ],
    "collapsed": true,
    "hide_input": false,
    "run_control": {
     "frozen": true,
     "read_only": true
    }
   },
   "outputs": [],
   "source": [
    "#metto i doctest dentro un altra funzione alla fine, se non li voglio nelle docstring\n",
    "#di ogni singola classe e funzione potrei fare così e metterli a parte\n",
    "def test_giocatore():\n",
    "    \"\"\"\n",
    "    Questa classe rappresenta un giocatore\n",
    "    \n",
    "    Istanziando il giocatore bisogna specificare il nome e l'età (facoltativa)\n",
    "    >>> g = Giocatore('aldo', 14)\n",
    "    >>> g.nome  #il nome del giocatore\n",
    "    'aldo'\n",
    "    >>> g.eta   #la sua età\n",
    "    14\n",
    "    \n",
    "    Senza età viene assegnata un età casuale da 0 a 100\n",
    "    >>> g = Giocatore('rino')\n",
    "    >>> isinstance(g.eta, int) and 0 <= g.eta <= 100\n",
    "    True\n",
    "    \n",
    "    Età non valida sempre età casuale\n",
    "    >>> g = Giocatore('rinco', 'asda')\n",
    "    >>> isinstance(g.eta, int) and 0 <= g.eta <= 100\n",
    "    True\n",
    "    \n",
    "    Età valida\n",
    "    >>> g = Giocatore('rinco', '134')\n",
    "    >>> g.eta\n",
    "    134\n",
    "    \"\"\"\n",
    "    pass\n",
    "doctest.testmod()"
   ]
  },
  {
   "cell_type": "code",
   "execution_count": null,
   "metadata": {
    "collapsed": true,
    "run_control": {
     "frozen": false,
     "read_only": false
    }
   },
   "outputs": [],
   "source": []
  }
 ],
 "metadata": {
  "kernelspec": {
   "display_name": "Python 3",
   "language": "python",
   "name": "python3"
  },
  "language_info": {
   "codemirror_mode": {
    "name": "ipython",
    "version": 3
   },
   "file_extension": ".py",
   "mimetype": "text/x-python",
   "name": "python",
   "nbconvert_exporter": "python",
   "pygments_lexer": "ipython3",
   "version": "3.6.0"
  },
  "varInspector": {
   "cols": {
    "lenName": 16,
    "lenType": 16,
    "lenVar": 40
   },
   "kernels_config": {
    "python": {
     "delete_cmd_postfix": "",
     "delete_cmd_prefix": "del ",
     "library": "var_list.py",
     "varRefreshCmd": "print(var_dic_list())"
    },
    "r": {
     "delete_cmd_postfix": ") ",
     "delete_cmd_prefix": "rm(",
     "library": "var_list.r",
     "varRefreshCmd": "cat(var_dic_list()) "
    }
   },
   "oldHeight": 83.18181799999999,
   "position": {
    "height": "40px",
    "left": "793.636px",
    "right": "20px",
    "top": "120px",
    "width": "250px"
   },
   "types_to_exclude": [
    "module",
    "function",
    "builtin_function_or_method",
    "instance",
    "_Feature"
   ],
   "varInspector_section_display": "none",
   "window_display": false
  }
 },
 "nbformat": 4,
 "nbformat_minor": 2
}
