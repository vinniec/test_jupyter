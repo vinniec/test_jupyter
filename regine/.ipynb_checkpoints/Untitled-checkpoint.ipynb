{
 "cells": [
  {
   "cell_type": "markdown",
   "metadata": {
    "run_control": {
     "frozen": false,
     "read_only": false
    }
   },
   "source": [
    "# Regine"
   ]
  },
  {
   "cell_type": "markdown",
   "metadata": {
    "run_control": {
     "frozen": false,
     "read_only": false
    }
   },
   "source": [
    "### Creo un array con numpy, gli 0 indicano una casella vuota"
   ]
  },
  {
   "cell_type": "code",
   "execution_count": 1,
   "metadata": {
    "collapsed": true,
    "run_control": {
     "frozen": false,
     "read_only": false
    }
   },
   "outputs": [],
   "source": [
    "n = 3   #la maledetta n"
   ]
  },
  {
   "cell_type": "code",
   "execution_count": 2,
   "metadata": {
    "collapsed": false,
    "run_control": {
     "frozen": false,
     "read_only": false
    },
    "scrolled": false
   },
   "outputs": [
    {
     "data": {
      "text/plain": [
       "array([[0, 0, 0],\n",
       "       [0, 0, 0],\n",
       "       [0, 0, 0]])"
      ]
     },
     "execution_count": 2,
     "metadata": {},
     "output_type": "execute_result"
    }
   ],
   "source": [
    "import numpy as np\n",
    "def gen_sc(n): return np.array([[0 for x in range(n)] for y in range(n)])\n",
    "scacchiera = gen_sc(n)\n",
    "scacchiera"
   ]
  },
  {
   "cell_type": "markdown",
   "metadata": {
    "heading_collapsed": true,
    "run_control": {
     "frozen": false,
     "read_only": false
    }
   },
   "source": [
    "### Inserisco un numero in x=0 y=1 e x=0 e y=7"
   ]
  },
  {
   "cell_type": "code",
   "execution_count": null,
   "metadata": {
    "collapsed": false,
    "hidden": true,
    "run_control": {
     "frozen": true,
     "read_only": true
    },
    "scrolled": false
   },
   "outputs": [],
   "source": [
    "scacchiera[1,0] = 1\n",
    "scacchiera[7,0] = 2\n",
    "scacchiera"
   ]
  },
  {
   "cell_type": "markdown",
   "metadata": {
    "heading_collapsed": true,
    "run_control": {
     "frozen": false,
     "read_only": false
    }
   },
   "source": [
    "### Flippo la matrice in senso verticale (up/down) per vedere le y dal lato giusto"
   ]
  },
  {
   "cell_type": "code",
   "execution_count": null,
   "metadata": {
    "collapsed": false,
    "hidden": true,
    "run_control": {
     "frozen": true,
     "read_only": true
    },
    "scrolled": false
   },
   "outputs": [],
   "source": [
    "np.flipud(scacchiera)"
   ]
  },
  {
   "cell_type": "markdown",
   "metadata": {
    "run_control": {
     "frozen": false,
     "read_only": false
    }
   },
   "source": [
    "### Una funzione  che restituisce tutti i possibili movimenti di una regina rispetto ad un punto"
   ]
  },
  {
   "cell_type": "code",
   "execution_count": 3,
   "metadata": {
    "code_folding": [
     0,
     6,
     15
    ],
    "collapsed": false,
    "run_control": {
     "frozen": false,
     "read_only": false
    }
   },
   "outputs": [],
   "source": [
    "def allcomb(matr):\n",
    "    #tutte gli indici possibili nella scacchiera\n",
    "    dimx = len(matr[0])\n",
    "    dimy = len(matr)\n",
    "    return [(x,y) for x in range(dimx) for y in range(dimy)]\n",
    "\n",
    "def controlla(cas, pos):\n",
    "    #controlla se uno spostamento è possibile\n",
    "    if cas == pos: return False\n",
    "    if cas[0] == pos[0]: return True #orizzontale\n",
    "    if cas[1] == pos[1]: return True #verticale\n",
    "    if cas[1] == cas[0] + (pos[1]-pos[0]): return True #diagonale y dipendente ascendente\n",
    "    if cas[1] == pos[0] + pos[1] - cas[0]: return True #diagonale y dipendente discendente\n",
    "    return False\n",
    "\n",
    "def mosse(posizione, scacchiera):\n",
    "    #restituisce tutti gli spostamenti possibili di una regina\n",
    "    posizioni = []\n",
    "    for casella in allcomb(scacchiera):\n",
    "        if controlla(casella, posizione):\n",
    "            posizioni.append(casella)\n",
    "    return posizioni\n",
    "\n",
    "# print(mosse((3,2), scacchiera))"
   ]
  },
  {
   "cell_type": "markdown",
   "metadata": {
    "run_control": {
     "frozen": false,
     "read_only": false
    }
   },
   "source": [
    "### Una funzione che inserisce una regina e i suoi movimenti in una posizione se è disponibile"
   ]
  },
  {
   "cell_type": "code",
   "execution_count": 4,
   "metadata": {
    "code_folding": [
     0,
     3,
     5
    ],
    "collapsed": false,
    "run_control": {
     "frozen": false,
     "read_only": false
    }
   },
   "outputs": [
    {
     "name": "stdout",
     "output_type": "stream",
     "text": [
      "[[1 0 1]\n",
      " [1 1 0]\n",
      " [3 1 1]]\n",
      "\n"
     ]
    }
   ],
   "source": [
    "def crivella(scacchiera, posizione):\n",
    "    #se la posizione x,y inserita è valida, la scacchiera viene aggiornata\n",
    "    pos = (posizione[1], posizione[0]) #inverti x e y per comodità\n",
    "    if scacchiera[pos] == 0:\n",
    "        scacchiera[pos] = 3\n",
    "        for p in mosse(pos, scacchiera):\n",
    "            scacchiera[p] = 1\n",
    "        return True\n",
    "    return False\n",
    "\n",
    "scacchiera = gen_sc(n)\n",
    "if crivella(scacchiera, (0,0)): print(np.flipud(scacchiera), end=\"\\n\\n\")\n",
    "if crivella(scacchiera, (1,1)): print(np.flipud(scacchiera), end=\"\\n\\n\") #questo non viene inserito\n",
    "# if crivella(scacchiera, (2,1)): print(np.flipud(scacchiera), end=\"\\n\\n\") #questo vuol dire che ci possono essere 2 regine\n",
    "# if crivella(scacchiera, (4,2)): print(np.flipud(scacchiera), end=\"\\n\\n\") #questo vuol dire che ci possono essere 3 regine\n",
    "\n"
   ]
  },
  {
   "cell_type": "markdown",
   "metadata": {
    "run_control": {
     "frozen": false,
     "read_only": false
    }
   },
   "source": [
    "### inserisco le regine in ordine"
   ]
  },
  {
   "cell_type": "code",
   "execution_count": 5,
   "metadata": {
    "code_folding": [],
    "collapsed": false,
    "run_control": {
     "frozen": false,
     "read_only": false
    }
   },
   "outputs": [
    {
     "name": "stdout",
     "output_type": "stream",
     "text": [
      "[[3 1 1]\n",
      " [1 1 1]\n",
      " [1 3 1]]\n",
      "numero di regine: 2\n"
     ]
    }
   ],
   "source": [
    "scacchiera = gen_sc(n)\n",
    "for pos in allcomb(scacchiera):\n",
    "    crivella(scacchiera, pos)\n",
    "print(scacchiera)\n",
    "print(\"numero di regine: {}\".format(np.count_nonzero(scacchiera == 3)))"
   ]
  },
  {
   "cell_type": "markdown",
   "metadata": {
    "run_control": {
     "frozen": false,
     "read_only": false
    }
   },
   "source": [
    "### Inserisco le regine un po' a caso"
   ]
  },
  {
   "cell_type": "code",
   "execution_count": 6,
   "metadata": {
    "code_folding": [],
    "collapsed": false,
    "run_control": {
     "frozen": false,
     "read_only": false
    }
   },
   "outputs": [
    {
     "name": "stdout",
     "output_type": "stream",
     "text": [
      "fine\n"
     ]
    }
   ],
   "source": [
    "from random import shuffle\n",
    "from time import time\n",
    "scacchiera = gen_sc(n)\n",
    "caselle = allcomb(scacchiera)\n",
    "n_regine = 0\n",
    "start = time()\n",
    "while n_regine < n:\n",
    "    if time()-start > 5: break\n",
    "    scacchiera[:] = 0\n",
    "    shuffle(caselle)\n",
    "    for pos in caselle:\n",
    "        crivella(scacchiera, pos)\n",
    "    n_regine = np.count_nonzero(scacchiera == 3)\n",
    "else:\n",
    "    print(scacchiera)\n",
    "    print(\"numero di regine: {}\".format(n_regine))\n",
    "print('fine')"
   ]
  },
  {
   "cell_type": "code",
   "execution_count": null,
   "metadata": {
    "code_folding": [
     6,
     8,
     11,
     32
    ],
    "collapsed": true,
    "hide_input": true,
    "run_control": {
     "frozen": true,
     "read_only": true
    }
   },
   "outputs": [],
   "source": [
    "# <br><br><br>\n",
    "# <p style=\"color:white\">\n",
    "# ########################\n",
    "# ##codice non considerato\n",
    "# ########################\n",
    "# from itertools import chain\n",
    "# def controlla(pos, scacc):\n",
    "#     posizioni = None\n",
    "#     if scacc[pos] == 0:\n",
    "#         ordin = [(pos[0], y) for y in range(len(scacc))]\n",
    "#         ascis = [(x, pos[1]) for x in range(len(scacc[0]))]\n",
    "#         for p in chain(ordin, ascis):\n",
    "#             print(p)\n",
    "\n",
    "# controlla((0,0), scacchiera)\n",
    "# ########################\n",
    "# #pos = (3,2)\n",
    "# lensca = (len(scacchiera[0]), len(scacchiera)) #dimensioni matrice\n",
    "# sts = [p-min(pos) for p in pos] #punto di partenza\n",
    "# #assem = pos.index(max(pos))\n",
    "# #mxs = min([f-p for f,p in zip((len(scacchiera[0]), len(scacchiera)), sts)]) #incremento massimo\n",
    "# mxs = min([f-p for f,p in zip(lensca, sts)]) #incremento massimo da sinistra\n",
    "# diags = [(sts[0]+i, sts[1]+i) for i in range(mxs)] #avanza da sinistra\n",
    "# mxd = min([f-p-1 for f,p in zip(lensca, pos)]) #incremento max da destra, -1 è per l'indice\n",
    "# std = \n",
    "# ########################\n",
    "# def y_asc(x, pos): return x + (pos[1]-pos[0]) #calcola valore di y ascendente con x indipendente\n",
    "# def y_dis(x, pos): return pos[0]+pos[1]-x     #calcola valore di y discendente con x indipendente  \n",
    "# lensca = (len(scacchiera[0]), len(scacchiera)) #dimensioni x,y della scacchiera\n",
    "# pos = 3,2\n",
    "# ranx = list(range(lensca[0]))\n",
    "# rany = list(range(lensca[1]))\n",
    "# for x in ranx:\n",
    "#     y = y_dip2(x, pos)\n",
    "#     if y in rany:\n",
    "#         print(x,y)\n",
    "# [x for x in ranx\n",
    "\n",
    "# </p>\n"
   ]
  }
 ],
 "metadata": {
  "kernelspec": {
   "display_name": "Python 3",
   "language": "python",
   "name": "python3"
  },
  "language_info": {
   "codemirror_mode": {
    "name": "ipython",
    "version": 3
   },
   "file_extension": ".py",
   "mimetype": "text/x-python",
   "name": "python",
   "nbconvert_exporter": "python",
   "pygments_lexer": "ipython3",
   "version": "3.6.0"
  }
 },
 "nbformat": 4,
 "nbformat_minor": 2
}
